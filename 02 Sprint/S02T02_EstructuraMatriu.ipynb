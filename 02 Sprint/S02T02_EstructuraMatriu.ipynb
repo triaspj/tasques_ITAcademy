{
 "cells": [
  {
   "cell_type": "markdown",
   "id": "b2b588b3",
   "metadata": {},
   "source": [
    "# S02 T02: Estructura d'una Matriu"
   ]
  },
  {
   "cell_type": "markdown",
   "id": "ff507c2c",
   "metadata": {},
   "source": [
    "### Nivell 1"
   ]
  },
  {
   "cell_type": "markdown",
   "id": "31909ae9",
   "metadata": {},
   "source": [
    "#### Exercici 1 Estructura matriu\n",
    "***Crea un np.array d'una dimensió, que inclogui l'almenys 8 nombres sencers, data type int64. Mostra la dimensió i la forma de la matriu.***"
   ]
  },
  {
   "cell_type": "code",
   "execution_count": 25,
   "id": "2c882c0a",
   "metadata": {},
   "outputs": [],
   "source": [
    "import numpy as np"
   ]
  },
  {
   "cell_type": "code",
   "execution_count": 26,
   "id": "5b47e965",
   "metadata": {},
   "outputs": [],
   "source": [
    "nouArray=np.array([10,8,7,4,3,9,11,20,23,45,13,8],dtype=np.int64)"
   ]
  },
  {
   "cell_type": "code",
   "execution_count": 27,
   "id": "dc57251b",
   "metadata": {},
   "outputs": [
    {
     "name": "stdout",
     "output_type": "stream",
     "text": [
      "Forma    : (12,)\n",
      "Tipus    : int64\n",
      "Dimensió : 1\n"
     ]
    }
   ],
   "source": [
    "print(\"Forma    : \"+ str(nouArray.shape))\n",
    "print(\"Tipus    : \"+ str(nouArray.dtype))\n",
    "print(\"Dimensió : \"+ str(nouArray.ndim))"
   ]
  },
  {
   "cell_type": "markdown",
   "id": "0dbcecae",
   "metadata": {},
   "source": [
    "#### Exercici 2 - Valor mitja"
   ]
  },
  {
   "cell_type": "code",
   "execution_count": 29,
   "id": "86a03645",
   "metadata": {},
   "outputs": [
    {
     "name": "stdout",
     "output_type": "stream",
     "text": [
      "Valor mitja : 13.416666666666666\n"
     ]
    }
   ],
   "source": [
    "print(\"Valor mitja : \" + str(np.average(nouArray)))"
   ]
  },
  {
   "cell_type": "markdown",
   "id": "fd5a6a1e",
   "metadata": {},
   "source": [
    "#### Exercici 3 - Matriu bidimensional 5x5"
   ]
  },
  {
   "cell_type": "code",
   "execution_count": 53,
   "id": "5c0c00f2",
   "metadata": {},
   "outputs": [
    {
     "name": "stdout",
     "output_type": "stream",
     "text": [
      "[[10  8  7  4  3]\n",
      " [ 9 11 20 23 45]\n",
      " [13  8 43 12  1]\n",
      " [11  7 45 39 88]\n",
      " [77 97 77 14 59]]\n",
      " Maximos por eje horizontal[10 45 43 88 97]\n",
      " Maximos por eje vertical[77 97 77 39 88]\n"
     ]
    }
   ],
   "source": [
    "#nouArray2 = np.array([[10,8,7,4,3],,,,])\n",
    "nouArray1 = np.array([10,8,7,4,3,9,11,20,23,45,13,8,43,12,1,11,7,45,39,88,77,97,77,14,59]).reshape(5,5)\n",
    "print(nouArray1)\n",
    "print(\" Maximos por eje horizontal\" + str(nouArray1.max(axis=1)))\n",
    "print(\" Maximos por eje vertical\" + str(nouArray1.max(axis=0)))\n",
    "#\n",
    "#print(max(nouArray1[0]))\n",
    "#print(max(nouArray1[1]))\n",
    "#p·rint(max(nouArray1[2]))\n",
    "#print(max(nouArray1[3]))\n",
    "#print(max(nouArray1[4]))"
   ]
  },
  {
   "cell_type": "code",
   "execution_count": null,
   "id": "0b313036",
   "metadata": {},
   "outputs": [],
   "source": []
  },
  {
   "cell_type": "code",
   "execution_count": null,
   "id": "aeb819a9",
   "metadata": {},
   "outputs": [],
   "source": []
  }
 ],
 "metadata": {
  "kernelspec": {
   "display_name": "Python 3 (ipykernel)",
   "language": "python",
   "name": "python3"
  },
  "language_info": {
   "codemirror_mode": {
    "name": "ipython",
    "version": 3
   },
   "file_extension": ".py",
   "mimetype": "text/x-python",
   "name": "python",
   "nbconvert_exporter": "python",
   "pygments_lexer": "ipython3",
   "version": "3.9.7"
  }
 },
 "nbformat": 4,
 "nbformat_minor": 5
}
