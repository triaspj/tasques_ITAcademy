{
 "cells": [
  {
   "cell_type": "markdown",
   "id": "a0b9bd71",
   "metadata": {},
   "source": [
    "# M06_T01: Regressions\n",
    "***Exercicis per practicar amb regressions.***\n",
    " "
   ]
  },
  {
   "cell_type": "markdown",
   "id": "cde2221e",
   "metadata": {},
   "source": [
    "## Nivell1 - \n"
   ]
  },
  {
   "cell_type": "markdown",
   "id": "dfb5ec77",
   "metadata": {},
   "source": [
    "### Exercici 1\n",
    "***Parteix el conjunt de Housing Data csv en train i test.***\n",
    "\n",
    "* 1. Title: Boston Housing Data\n",
    "\n",
    "* 2. Sources:\n",
    "   (a) Origin:  This dataset was taken from the StatLib library which is\n",
    "                maintained at Carnegie Mellon University.\n",
    "   (b) Creator:  Harrison, D. and Rubinfeld, D.L. 'Hedonic prices and the \n",
    "                 demand for clean air', J. Environ. Economics & Management,\n",
    "                 vol.5, 81-102, 1978.\n",
    "   (c) Date: July 7, 1993\n",
    "\n",
    "* 3. Past Usage:\n",
    "   -   Used in Belsley, Kuh & Welsch, 'Regression diagnostics ...', Wiley, \n",
    "       1980.   N.B. Various transformations are used in the table on\n",
    "       pages 244-261.\n",
    "    -  Quinlan,R. (1993). Combining Instance-Based and Model-Based Learning.\n",
    "       In Proceedings on the Tenth International Conference of Machine \n",
    "       Learning, 236-243, University of Massachusetts, Amherst. Morgan\n",
    "       Kaufmann.\n",
    "\n",
    "* 4. Relevant Information:\n",
    "\n",
    "   Concerns housing values in suburbs of Boston.\n",
    "\n",
    "* 5. Number of Instances: 506\n",
    "\n",
    "* 6. Number of Attributes: 13 continuous attributes (including \"class\"\n",
    "                         attribute \"MEDV\"), 1 binary-valued attribute.\n",
    "\n",
    "* 7. Attribute Information:\n",
    "\n",
    "    1. CRIM      per capita crime rate by town\n",
    "    2. ZN        proportion of residential land zoned for lots over \n",
    "                 25,000 sq.ft.\n",
    "    3. INDUS     proportion of non-retail business acres per town\n",
    "    4. CHAS      Charles River dummy variable (= 1 if tract bounds \n",
    "                 river; 0 otherwise)\n",
    "    5. NOX       nitric oxides concentration (parts per 10 million)\n",
    "    6. RM        average number of rooms per dwelling\n",
    "    7. AGE       proportion of owner-occupied units built prior to 1940\n",
    "    8. DIS       weighted distances to five Boston employment centres\n",
    "    9. RAD       index of accessibility to radial highways\n",
    "    10. TAX      full-value property-tax rate per $10,000\n",
    "    11. PTRATIO  pupil-teacher ratio by town\n",
    "    12. B        1000(Bk - 0.63)^2 where Bk is the proportion of blacks \n",
    "                 by town\n",
    "    13. LSTAT    % lower status of the population\n",
    "    14. MEDV     Median value of owner-occupied homes in $1000's\n",
    "\n",
    "* 8. Missing Attribute Values:  None.\n"
   ]
  },
  {
   "cell_type": "markdown",
   "id": "ee833945",
   "metadata": {},
   "source": [
    "* ***Es el primer exercici amb el update del curs de data Science, per començar agafaré el dataset i fare una comprovacions in,eliminacio dOutliers i aplicaré una normalitzacio abans de passar als  models per entendre una mica millor les dades***"
   ]
  },
  {
   "cell_type": "code",
   "execution_count": 135,
   "id": "a83db469",
   "metadata": {},
   "outputs": [],
   "source": [
    "#Importem les llibreries\n",
    "import math\n",
    "import pandas as pd\n",
    "import numpy as np\n",
    "import seaborn as sns\n",
    "import matplotlib.pyplot as plt\n",
    "\n",
    "from scipy.stats import shapiro\n",
    "from sklearn.decomposition import PCA\n",
    "%matplotlib inline\n",
    "\n",
    "# Preprocesado y análisis\n",
    "# ==============================================================================\n",
    "import statsmodels.api as sm\n",
    "from scipy import stats\n",
    "\n",
    "from scipy.stats import shapiro\n",
    "\n",
    "pd.options.display.max_columns=None\n",
    "pd.options.display.max_rows=30"
   ]
  },
  {
   "cell_type": "markdown",
   "id": "39c1608b",
   "metadata": {},
   "source": [
    "*** Com que el fitxer CSV no te les capçaleres dels atributs el hi afegim nosaltres en el read_CSV segons les pecificacions***"
   ]
  },
  {
   "cell_type": "code",
   "execution_count": 136,
   "id": "08e3855f",
   "metadata": {},
   "outputs": [],
   "source": [
    "columNames=[\"CRIM\",\"ZN\",\"INDUS\",\"CHAS\",\"NOX\",\"RM\",\"AGE\",\"DIS\",\"RAD\",\"TAX\",\"PTRATIO\",\"B\",\"LSTAT\",\"MEDV\"]\n",
    "HousingDf=pd.read_csv('housing data.csv',sep=',', header=None,encoding='utf8',names=columNames)\n",
    "HousingCopyDf=HousingDf.copy()"
   ]
  },
  {
   "cell_type": "code",
   "execution_count": 137,
   "id": "0253d405",
   "metadata": {},
   "outputs": [
    {
     "data": {
      "text/plain": [
       "CRIM       float64\n",
       "ZN         float64\n",
       "INDUS      float64\n",
       "CHAS         int64\n",
       "NOX        float64\n",
       "RM         float64\n",
       "AGE        float64\n",
       "DIS        float64\n",
       "RAD          int64\n",
       "TAX        float64\n",
       "PTRATIO    float64\n",
       "B          float64\n",
       "LSTAT      float64\n",
       "MEDV       float64\n",
       "dtype: object"
      ]
     },
     "execution_count": 137,
     "metadata": {},
     "output_type": "execute_result"
    }
   ],
   "source": [
    "#Observem el tipus de dades\n",
    "HousingDf.dtypes"
   ]
  },
  {
   "cell_type": "code",
   "execution_count": 138,
   "id": "5b63bc8d",
   "metadata": {},
   "outputs": [
    {
     "data": {
      "text/html": [
       "<div>\n",
       "<style scoped>\n",
       "    .dataframe tbody tr th:only-of-type {\n",
       "        vertical-align: middle;\n",
       "    }\n",
       "\n",
       "    .dataframe tbody tr th {\n",
       "        vertical-align: top;\n",
       "    }\n",
       "\n",
       "    .dataframe thead th {\n",
       "        text-align: right;\n",
       "    }\n",
       "</style>\n",
       "<table border=\"1\" class=\"dataframe\">\n",
       "  <thead>\n",
       "    <tr style=\"text-align: right;\">\n",
       "      <th></th>\n",
       "      <th>CRIM</th>\n",
       "      <th>ZN</th>\n",
       "      <th>INDUS</th>\n",
       "      <th>CHAS</th>\n",
       "      <th>NOX</th>\n",
       "      <th>RM</th>\n",
       "      <th>AGE</th>\n",
       "      <th>DIS</th>\n",
       "      <th>RAD</th>\n",
       "      <th>TAX</th>\n",
       "      <th>PTRATIO</th>\n",
       "      <th>B</th>\n",
       "      <th>LSTAT</th>\n",
       "      <th>MEDV</th>\n",
       "    </tr>\n",
       "  </thead>\n",
       "  <tbody>\n",
       "    <tr>\n",
       "      <th>count</th>\n",
       "      <td>506.000000</td>\n",
       "      <td>506.000000</td>\n",
       "      <td>506.000000</td>\n",
       "      <td>506.000000</td>\n",
       "      <td>506.000000</td>\n",
       "      <td>506.000000</td>\n",
       "      <td>506.000000</td>\n",
       "      <td>506.000000</td>\n",
       "      <td>506.000000</td>\n",
       "      <td>506.000000</td>\n",
       "      <td>506.000000</td>\n",
       "      <td>506.000000</td>\n",
       "      <td>506.000000</td>\n",
       "      <td>506.000000</td>\n",
       "    </tr>\n",
       "    <tr>\n",
       "      <th>mean</th>\n",
       "      <td>3.613524</td>\n",
       "      <td>11.363636</td>\n",
       "      <td>11.136779</td>\n",
       "      <td>0.069170</td>\n",
       "      <td>0.554695</td>\n",
       "      <td>6.284634</td>\n",
       "      <td>68.574901</td>\n",
       "      <td>3.795043</td>\n",
       "      <td>9.549407</td>\n",
       "      <td>408.237154</td>\n",
       "      <td>18.455534</td>\n",
       "      <td>356.674032</td>\n",
       "      <td>12.653063</td>\n",
       "      <td>22.532806</td>\n",
       "    </tr>\n",
       "    <tr>\n",
       "      <th>std</th>\n",
       "      <td>8.601545</td>\n",
       "      <td>23.322453</td>\n",
       "      <td>6.860353</td>\n",
       "      <td>0.253994</td>\n",
       "      <td>0.115878</td>\n",
       "      <td>0.702617</td>\n",
       "      <td>28.148861</td>\n",
       "      <td>2.105710</td>\n",
       "      <td>8.707259</td>\n",
       "      <td>168.537116</td>\n",
       "      <td>2.164946</td>\n",
       "      <td>91.294864</td>\n",
       "      <td>7.141062</td>\n",
       "      <td>9.197104</td>\n",
       "    </tr>\n",
       "    <tr>\n",
       "      <th>min</th>\n",
       "      <td>0.006320</td>\n",
       "      <td>0.000000</td>\n",
       "      <td>0.460000</td>\n",
       "      <td>0.000000</td>\n",
       "      <td>0.385000</td>\n",
       "      <td>3.561000</td>\n",
       "      <td>2.900000</td>\n",
       "      <td>1.129600</td>\n",
       "      <td>1.000000</td>\n",
       "      <td>187.000000</td>\n",
       "      <td>12.600000</td>\n",
       "      <td>0.320000</td>\n",
       "      <td>1.730000</td>\n",
       "      <td>5.000000</td>\n",
       "    </tr>\n",
       "    <tr>\n",
       "      <th>25%</th>\n",
       "      <td>0.082045</td>\n",
       "      <td>0.000000</td>\n",
       "      <td>5.190000</td>\n",
       "      <td>0.000000</td>\n",
       "      <td>0.449000</td>\n",
       "      <td>5.885500</td>\n",
       "      <td>45.025000</td>\n",
       "      <td>2.100175</td>\n",
       "      <td>4.000000</td>\n",
       "      <td>279.000000</td>\n",
       "      <td>17.400000</td>\n",
       "      <td>375.377500</td>\n",
       "      <td>6.950000</td>\n",
       "      <td>17.025000</td>\n",
       "    </tr>\n",
       "    <tr>\n",
       "      <th>50%</th>\n",
       "      <td>0.256510</td>\n",
       "      <td>0.000000</td>\n",
       "      <td>9.690000</td>\n",
       "      <td>0.000000</td>\n",
       "      <td>0.538000</td>\n",
       "      <td>6.208500</td>\n",
       "      <td>77.500000</td>\n",
       "      <td>3.207450</td>\n",
       "      <td>5.000000</td>\n",
       "      <td>330.000000</td>\n",
       "      <td>19.050000</td>\n",
       "      <td>391.440000</td>\n",
       "      <td>11.360000</td>\n",
       "      <td>21.200000</td>\n",
       "    </tr>\n",
       "    <tr>\n",
       "      <th>75%</th>\n",
       "      <td>3.677083</td>\n",
       "      <td>12.500000</td>\n",
       "      <td>18.100000</td>\n",
       "      <td>0.000000</td>\n",
       "      <td>0.624000</td>\n",
       "      <td>6.623500</td>\n",
       "      <td>94.075000</td>\n",
       "      <td>5.188425</td>\n",
       "      <td>24.000000</td>\n",
       "      <td>666.000000</td>\n",
       "      <td>20.200000</td>\n",
       "      <td>396.225000</td>\n",
       "      <td>16.955000</td>\n",
       "      <td>25.000000</td>\n",
       "    </tr>\n",
       "    <tr>\n",
       "      <th>max</th>\n",
       "      <td>88.976200</td>\n",
       "      <td>100.000000</td>\n",
       "      <td>27.740000</td>\n",
       "      <td>1.000000</td>\n",
       "      <td>0.871000</td>\n",
       "      <td>8.780000</td>\n",
       "      <td>100.000000</td>\n",
       "      <td>12.126500</td>\n",
       "      <td>24.000000</td>\n",
       "      <td>711.000000</td>\n",
       "      <td>22.000000</td>\n",
       "      <td>396.900000</td>\n",
       "      <td>37.970000</td>\n",
       "      <td>50.000000</td>\n",
       "    </tr>\n",
       "  </tbody>\n",
       "</table>\n",
       "</div>"
      ],
      "text/plain": [
       "             CRIM          ZN       INDUS        CHAS         NOX          RM  \\\n",
       "count  506.000000  506.000000  506.000000  506.000000  506.000000  506.000000   \n",
       "mean     3.613524   11.363636   11.136779    0.069170    0.554695    6.284634   \n",
       "std      8.601545   23.322453    6.860353    0.253994    0.115878    0.702617   \n",
       "min      0.006320    0.000000    0.460000    0.000000    0.385000    3.561000   \n",
       "25%      0.082045    0.000000    5.190000    0.000000    0.449000    5.885500   \n",
       "50%      0.256510    0.000000    9.690000    0.000000    0.538000    6.208500   \n",
       "75%      3.677083   12.500000   18.100000    0.000000    0.624000    6.623500   \n",
       "max     88.976200  100.000000   27.740000    1.000000    0.871000    8.780000   \n",
       "\n",
       "              AGE         DIS         RAD         TAX     PTRATIO           B  \\\n",
       "count  506.000000  506.000000  506.000000  506.000000  506.000000  506.000000   \n",
       "mean    68.574901    3.795043    9.549407  408.237154   18.455534  356.674032   \n",
       "std     28.148861    2.105710    8.707259  168.537116    2.164946   91.294864   \n",
       "min      2.900000    1.129600    1.000000  187.000000   12.600000    0.320000   \n",
       "25%     45.025000    2.100175    4.000000  279.000000   17.400000  375.377500   \n",
       "50%     77.500000    3.207450    5.000000  330.000000   19.050000  391.440000   \n",
       "75%     94.075000    5.188425   24.000000  666.000000   20.200000  396.225000   \n",
       "max    100.000000   12.126500   24.000000  711.000000   22.000000  396.900000   \n",
       "\n",
       "            LSTAT        MEDV  \n",
       "count  506.000000  506.000000  \n",
       "mean    12.653063   22.532806  \n",
       "std      7.141062    9.197104  \n",
       "min      1.730000    5.000000  \n",
       "25%      6.950000   17.025000  \n",
       "50%     11.360000   21.200000  \n",
       "75%     16.955000   25.000000  \n",
       "max     37.970000   50.000000  "
      ]
     },
     "execution_count": 138,
     "metadata": {},
     "output_type": "execute_result"
    }
   ],
   "source": [
    "# Veiem la descripció dela atributs, tots ells numerics , no hem de fer transformacions\n",
    "HousingDf.describe()"
   ]
  },
  {
   "cell_type": "code",
   "execution_count": 139,
   "id": "bdd44f44",
   "metadata": {},
   "outputs": [
    {
     "data": {
      "text/html": [
       "<div>\n",
       "<style scoped>\n",
       "    .dataframe tbody tr th:only-of-type {\n",
       "        vertical-align: middle;\n",
       "    }\n",
       "\n",
       "    .dataframe tbody tr th {\n",
       "        vertical-align: top;\n",
       "    }\n",
       "\n",
       "    .dataframe thead th {\n",
       "        text-align: right;\n",
       "    }\n",
       "</style>\n",
       "<table border=\"1\" class=\"dataframe\">\n",
       "  <thead>\n",
       "    <tr style=\"text-align: right;\">\n",
       "      <th></th>\n",
       "      <th>CRIM</th>\n",
       "      <th>ZN</th>\n",
       "      <th>INDUS</th>\n",
       "      <th>CHAS</th>\n",
       "      <th>NOX</th>\n",
       "      <th>RM</th>\n",
       "      <th>AGE</th>\n",
       "      <th>DIS</th>\n",
       "      <th>RAD</th>\n",
       "      <th>TAX</th>\n",
       "      <th>PTRATIO</th>\n",
       "      <th>B</th>\n",
       "      <th>LSTAT</th>\n",
       "      <th>MEDV</th>\n",
       "    </tr>\n",
       "  </thead>\n",
       "  <tbody>\n",
       "    <tr>\n",
       "      <th>0</th>\n",
       "      <td>0.00632</td>\n",
       "      <td>18.0</td>\n",
       "      <td>2.31</td>\n",
       "      <td>0</td>\n",
       "      <td>0.538</td>\n",
       "      <td>6.575</td>\n",
       "      <td>65.2</td>\n",
       "      <td>4.0900</td>\n",
       "      <td>1</td>\n",
       "      <td>296.0</td>\n",
       "      <td>15.3</td>\n",
       "      <td>396.90</td>\n",
       "      <td>4.98</td>\n",
       "      <td>24.0</td>\n",
       "    </tr>\n",
       "    <tr>\n",
       "      <th>1</th>\n",
       "      <td>0.02731</td>\n",
       "      <td>0.0</td>\n",
       "      <td>7.07</td>\n",
       "      <td>0</td>\n",
       "      <td>0.469</td>\n",
       "      <td>6.421</td>\n",
       "      <td>78.9</td>\n",
       "      <td>4.9671</td>\n",
       "      <td>2</td>\n",
       "      <td>242.0</td>\n",
       "      <td>17.8</td>\n",
       "      <td>396.90</td>\n",
       "      <td>9.14</td>\n",
       "      <td>21.6</td>\n",
       "    </tr>\n",
       "    <tr>\n",
       "      <th>2</th>\n",
       "      <td>0.02729</td>\n",
       "      <td>0.0</td>\n",
       "      <td>7.07</td>\n",
       "      <td>0</td>\n",
       "      <td>0.469</td>\n",
       "      <td>7.185</td>\n",
       "      <td>61.1</td>\n",
       "      <td>4.9671</td>\n",
       "      <td>2</td>\n",
       "      <td>242.0</td>\n",
       "      <td>17.8</td>\n",
       "      <td>392.83</td>\n",
       "      <td>4.03</td>\n",
       "      <td>34.7</td>\n",
       "    </tr>\n",
       "    <tr>\n",
       "      <th>3</th>\n",
       "      <td>0.03237</td>\n",
       "      <td>0.0</td>\n",
       "      <td>2.18</td>\n",
       "      <td>0</td>\n",
       "      <td>0.458</td>\n",
       "      <td>6.998</td>\n",
       "      <td>45.8</td>\n",
       "      <td>6.0622</td>\n",
       "      <td>3</td>\n",
       "      <td>222.0</td>\n",
       "      <td>18.7</td>\n",
       "      <td>394.63</td>\n",
       "      <td>2.94</td>\n",
       "      <td>33.4</td>\n",
       "    </tr>\n",
       "    <tr>\n",
       "      <th>4</th>\n",
       "      <td>0.06905</td>\n",
       "      <td>0.0</td>\n",
       "      <td>2.18</td>\n",
       "      <td>0</td>\n",
       "      <td>0.458</td>\n",
       "      <td>7.147</td>\n",
       "      <td>54.2</td>\n",
       "      <td>6.0622</td>\n",
       "      <td>3</td>\n",
       "      <td>222.0</td>\n",
       "      <td>18.7</td>\n",
       "      <td>396.90</td>\n",
       "      <td>5.33</td>\n",
       "      <td>36.2</td>\n",
       "    </tr>\n",
       "    <tr>\n",
       "      <th>...</th>\n",
       "      <td>...</td>\n",
       "      <td>...</td>\n",
       "      <td>...</td>\n",
       "      <td>...</td>\n",
       "      <td>...</td>\n",
       "      <td>...</td>\n",
       "      <td>...</td>\n",
       "      <td>...</td>\n",
       "      <td>...</td>\n",
       "      <td>...</td>\n",
       "      <td>...</td>\n",
       "      <td>...</td>\n",
       "      <td>...</td>\n",
       "      <td>...</td>\n",
       "    </tr>\n",
       "    <tr>\n",
       "      <th>501</th>\n",
       "      <td>0.06263</td>\n",
       "      <td>0.0</td>\n",
       "      <td>11.93</td>\n",
       "      <td>0</td>\n",
       "      <td>0.573</td>\n",
       "      <td>6.593</td>\n",
       "      <td>69.1</td>\n",
       "      <td>2.4786</td>\n",
       "      <td>1</td>\n",
       "      <td>273.0</td>\n",
       "      <td>21.0</td>\n",
       "      <td>391.99</td>\n",
       "      <td>9.67</td>\n",
       "      <td>22.4</td>\n",
       "    </tr>\n",
       "    <tr>\n",
       "      <th>502</th>\n",
       "      <td>0.04527</td>\n",
       "      <td>0.0</td>\n",
       "      <td>11.93</td>\n",
       "      <td>0</td>\n",
       "      <td>0.573</td>\n",
       "      <td>6.120</td>\n",
       "      <td>76.7</td>\n",
       "      <td>2.2875</td>\n",
       "      <td>1</td>\n",
       "      <td>273.0</td>\n",
       "      <td>21.0</td>\n",
       "      <td>396.90</td>\n",
       "      <td>9.08</td>\n",
       "      <td>20.6</td>\n",
       "    </tr>\n",
       "    <tr>\n",
       "      <th>503</th>\n",
       "      <td>0.06076</td>\n",
       "      <td>0.0</td>\n",
       "      <td>11.93</td>\n",
       "      <td>0</td>\n",
       "      <td>0.573</td>\n",
       "      <td>6.976</td>\n",
       "      <td>91.0</td>\n",
       "      <td>2.1675</td>\n",
       "      <td>1</td>\n",
       "      <td>273.0</td>\n",
       "      <td>21.0</td>\n",
       "      <td>396.90</td>\n",
       "      <td>5.64</td>\n",
       "      <td>23.9</td>\n",
       "    </tr>\n",
       "    <tr>\n",
       "      <th>504</th>\n",
       "      <td>0.10959</td>\n",
       "      <td>0.0</td>\n",
       "      <td>11.93</td>\n",
       "      <td>0</td>\n",
       "      <td>0.573</td>\n",
       "      <td>6.794</td>\n",
       "      <td>89.3</td>\n",
       "      <td>2.3889</td>\n",
       "      <td>1</td>\n",
       "      <td>273.0</td>\n",
       "      <td>21.0</td>\n",
       "      <td>393.45</td>\n",
       "      <td>6.48</td>\n",
       "      <td>22.0</td>\n",
       "    </tr>\n",
       "    <tr>\n",
       "      <th>505</th>\n",
       "      <td>0.04741</td>\n",
       "      <td>0.0</td>\n",
       "      <td>11.93</td>\n",
       "      <td>0</td>\n",
       "      <td>0.573</td>\n",
       "      <td>6.030</td>\n",
       "      <td>80.8</td>\n",
       "      <td>2.5050</td>\n",
       "      <td>1</td>\n",
       "      <td>273.0</td>\n",
       "      <td>21.0</td>\n",
       "      <td>396.90</td>\n",
       "      <td>7.88</td>\n",
       "      <td>11.9</td>\n",
       "    </tr>\n",
       "  </tbody>\n",
       "</table>\n",
       "<p>506 rows × 14 columns</p>\n",
       "</div>"
      ],
      "text/plain": [
       "        CRIM    ZN  INDUS  CHAS    NOX     RM   AGE     DIS  RAD    TAX  \\\n",
       "0    0.00632  18.0   2.31     0  0.538  6.575  65.2  4.0900    1  296.0   \n",
       "1    0.02731   0.0   7.07     0  0.469  6.421  78.9  4.9671    2  242.0   \n",
       "2    0.02729   0.0   7.07     0  0.469  7.185  61.1  4.9671    2  242.0   \n",
       "3    0.03237   0.0   2.18     0  0.458  6.998  45.8  6.0622    3  222.0   \n",
       "4    0.06905   0.0   2.18     0  0.458  7.147  54.2  6.0622    3  222.0   \n",
       "..       ...   ...    ...   ...    ...    ...   ...     ...  ...    ...   \n",
       "501  0.06263   0.0  11.93     0  0.573  6.593  69.1  2.4786    1  273.0   \n",
       "502  0.04527   0.0  11.93     0  0.573  6.120  76.7  2.2875    1  273.0   \n",
       "503  0.06076   0.0  11.93     0  0.573  6.976  91.0  2.1675    1  273.0   \n",
       "504  0.10959   0.0  11.93     0  0.573  6.794  89.3  2.3889    1  273.0   \n",
       "505  0.04741   0.0  11.93     0  0.573  6.030  80.8  2.5050    1  273.0   \n",
       "\n",
       "     PTRATIO       B  LSTAT  MEDV  \n",
       "0       15.3  396.90   4.98  24.0  \n",
       "1       17.8  396.90   9.14  21.6  \n",
       "2       17.8  392.83   4.03  34.7  \n",
       "3       18.7  394.63   2.94  33.4  \n",
       "4       18.7  396.90   5.33  36.2  \n",
       "..       ...     ...    ...   ...  \n",
       "501     21.0  391.99   9.67  22.4  \n",
       "502     21.0  396.90   9.08  20.6  \n",
       "503     21.0  396.90   5.64  23.9  \n",
       "504     21.0  393.45   6.48  22.0  \n",
       "505     21.0  396.90   7.88  11.9  \n",
       "\n",
       "[506 rows x 14 columns]"
      ]
     },
     "execution_count": 139,
     "metadata": {},
     "output_type": "execute_result"
    }
   ],
   "source": [
    "HousingDf"
   ]
  },
  {
   "cell_type": "markdown",
   "id": "fe9e9289",
   "metadata": {},
   "source": [
    "***Creo unes funcions que ja he utilitzat en exeercicis anteriors que m'ajudadaran a fer una exploracio i nalisis de dades***"
   ]
  },
  {
   "cell_type": "code",
   "execution_count": 140,
   "id": "7a4a433d",
   "metadata": {},
   "outputs": [],
   "source": [
    "\n",
    "#Funció per mostrar diagrama de caixes per totes les columnes numeriques de la nostra mostra original\n",
    "def mostraBoxPlot(dataSet,numericColumns):  \n",
    "    numericColsList = list(numericColumns)\n",
    "    dec, num = math.modf(len(numericColsList)/4)\n",
    "    if dec == 0: rows = int(num)\n",
    "    else: rows = int(num+1)\n",
    "    \n",
    "    sns.set_style(\"whitegrid\")\n",
    "    plt.figure(figsize=(20,rows*4))\n",
    "    for i, col in zip(range(len(numericColsList)), numericColsList):\n",
    "        plt.subplot(rows, 5, i+1)\n",
    "        ax = sns.boxplot(x=col, data=dataSet, orient='h', linewidth=1 , width=.5)\n",
    "        plt.title(col, y=.85)\n",
    "        plt.xlabel(\"\")\n",
    "    plt.show()"
   ]
  },
  {
   "cell_type": "code",
   "execution_count": 141,
   "id": "994eedc8",
   "metadata": {},
   "outputs": [],
   "source": [
    "def distNormColumnes(dataSet, col):\n",
    "    # Valores de la media (mu) y desviación típica (sigma) de los datos\n",
    "    mu, sigma = stats.norm.fit(dataSet[col])\n",
    "    # Valores teóricos de la normal en el rango observado\n",
    "    x_hat = np.linspace(min(dataSet[col]), max(dataSet[col]), num=100)\n",
    "    y_hat = stats.norm.pdf(x_hat, mu, sigma)\n",
    "\n",
    "    # Gráfico\n",
    "    ig, ax = plt.subplots(figsize=(7,4))\n",
    "    ax.plot(x_hat, y_hat, linewidth=2, label='normal')\n",
    "    ax.hist(x=dataSet[col], density=True, bins=30, color=\"#3182bd\", alpha=0.5)\n",
    "    ax.plot(dataSet[col], np.full_like(dataSet[col], -0.01), '|k', markeredgewidth=1)\n",
    "    ax.set_title('Distribución {0}'.format(col))\n",
    "    ax.set_xlabel(col)\n",
    "    ax.set_ylabel('Densidad de probabilidad')\n",
    "    ax.legend();\n",
    "    \n",
    "    return"
   ]
  },
  {
   "cell_type": "code",
   "execution_count": 142,
   "id": "23d50e43",
   "metadata": {},
   "outputs": [],
   "source": [
    "def elim_outliners(in_df, min,max,columnes):\n",
    "    for  columna in columnes:\n",
    "        quantile1= in_df[columna].quantile(min)\n",
    "        quantile3= in_df[columna].quantile(max)\n",
    "        iqr = quantile3-quantile1 #Interquartile range\n",
    "        rang_low  = quantile1-1.5*iqr\n",
    "        rang_high = quantile3+1.5*iqr\n",
    "        out_df = in_df.loc[(in_df[columna]> rang_low)&(in_df[columna]< rang_high)]\n",
    "    return out_df"
   ]
  },
  {
   "cell_type": "markdown",
   "id": "66f336c8",
   "metadata": {},
   "source": [
    "***Reviso la distribució de les columnes per observar Outliers***"
   ]
  },
  {
   "cell_type": "code",
   "execution_count": 143,
   "id": "e52255c2",
   "metadata": {},
   "outputs": [
    {
     "data": {
      "image/png": "[encoded data removed]",
      "text/plain": [
       "<Figure size 1440x1152 with 14 Axes>"
      ]
     },
     "metadata": {},
     "output_type": "display_data"
    }
   ],
   "source": [
    "mostraBoxPlot(HousingDf,columNames)\n"
   ]
  },
  {
   "cell_type": "markdown",
   "id": "04b11496",
   "metadata": {},
   "source": [
    "***Fem una primera eliminació de Outliers fen serfir la funció i revisem resultats***"
   ]
  },
  {
   "cell_type": "code",
   "execution_count": 144,
   "id": "5682c304",
   "metadata": {},
   "outputs": [],
   "source": [
    "HousingCleanDf = elim_outliners(HousingDf,0.25,0.75,[\"CRIM\",\"ZN\",\"RM\",\"DIS\",\"B\",\"LSTAT\",\"MEDV\"])"
   ]
  },
  {
   "cell_type": "code",
   "execution_count": 145,
   "id": "465eac02",
   "metadata": {},
   "outputs": [
    {
     "data": {
      "text/html": [
       "<div>\n",
       "<style scoped>\n",
       "    .dataframe tbody tr th:only-of-type {\n",
       "        vertical-align: middle;\n",
       "    }\n",
       "\n",
       "    .dataframe tbody tr th {\n",
       "        vertical-align: top;\n",
       "    }\n",
       "\n",
       "    .dataframe thead th {\n",
       "        text-align: right;\n",
       "    }\n",
       "</style>\n",
       "<table border=\"1\" class=\"dataframe\">\n",
       "  <thead>\n",
       "    <tr style=\"text-align: right;\">\n",
       "      <th></th>\n",
       "      <th>CRIM</th>\n",
       "      <th>ZN</th>\n",
       "      <th>INDUS</th>\n",
       "      <th>CHAS</th>\n",
       "      <th>NOX</th>\n",
       "      <th>RM</th>\n",
       "      <th>AGE</th>\n",
       "      <th>DIS</th>\n",
       "      <th>RAD</th>\n",
       "      <th>TAX</th>\n",
       "      <th>PTRATIO</th>\n",
       "      <th>B</th>\n",
       "      <th>LSTAT</th>\n",
       "      <th>MEDV</th>\n",
       "    </tr>\n",
       "  </thead>\n",
       "  <tbody>\n",
       "    <tr>\n",
       "      <th>0</th>\n",
       "      <td>0.00632</td>\n",
       "      <td>18.0</td>\n",
       "      <td>2.31</td>\n",
       "      <td>0</td>\n",
       "      <td>0.538</td>\n",
       "      <td>6.575</td>\n",
       "      <td>65.2</td>\n",
       "      <td>4.0900</td>\n",
       "      <td>1</td>\n",
       "      <td>296.0</td>\n",
       "      <td>15.3</td>\n",
       "      <td>396.90</td>\n",
       "      <td>4.98</td>\n",
       "      <td>24.0</td>\n",
       "    </tr>\n",
       "    <tr>\n",
       "      <th>1</th>\n",
       "      <td>0.02731</td>\n",
       "      <td>0.0</td>\n",
       "      <td>7.07</td>\n",
       "      <td>0</td>\n",
       "      <td>0.469</td>\n",
       "      <td>6.421</td>\n",
       "      <td>78.9</td>\n",
       "      <td>4.9671</td>\n",
       "      <td>2</td>\n",
       "      <td>242.0</td>\n",
       "      <td>17.8</td>\n",
       "      <td>396.90</td>\n",
       "      <td>9.14</td>\n",
       "      <td>21.6</td>\n",
       "    </tr>\n",
       "    <tr>\n",
       "      <th>2</th>\n",
       "      <td>0.02729</td>\n",
       "      <td>0.0</td>\n",
       "      <td>7.07</td>\n",
       "      <td>0</td>\n",
       "      <td>0.469</td>\n",
       "      <td>7.185</td>\n",
       "      <td>61.1</td>\n",
       "      <td>4.9671</td>\n",
       "      <td>2</td>\n",
       "      <td>242.0</td>\n",
       "      <td>17.8</td>\n",
       "      <td>392.83</td>\n",
       "      <td>4.03</td>\n",
       "      <td>34.7</td>\n",
       "    </tr>\n",
       "    <tr>\n",
       "      <th>3</th>\n",
       "      <td>0.03237</td>\n",
       "      <td>0.0</td>\n",
       "      <td>2.18</td>\n",
       "      <td>0</td>\n",
       "      <td>0.458</td>\n",
       "      <td>6.998</td>\n",
       "      <td>45.8</td>\n",
       "      <td>6.0622</td>\n",
       "      <td>3</td>\n",
       "      <td>222.0</td>\n",
       "      <td>18.7</td>\n",
       "      <td>394.63</td>\n",
       "      <td>2.94</td>\n",
       "      <td>33.4</td>\n",
       "    </tr>\n",
       "    <tr>\n",
       "      <th>4</th>\n",
       "      <td>0.06905</td>\n",
       "      <td>0.0</td>\n",
       "      <td>2.18</td>\n",
       "      <td>0</td>\n",
       "      <td>0.458</td>\n",
       "      <td>7.147</td>\n",
       "      <td>54.2</td>\n",
       "      <td>6.0622</td>\n",
       "      <td>3</td>\n",
       "      <td>222.0</td>\n",
       "      <td>18.7</td>\n",
       "      <td>396.90</td>\n",
       "      <td>5.33</td>\n",
       "      <td>36.2</td>\n",
       "    </tr>\n",
       "    <tr>\n",
       "      <th>...</th>\n",
       "      <td>...</td>\n",
       "      <td>...</td>\n",
       "      <td>...</td>\n",
       "      <td>...</td>\n",
       "      <td>...</td>\n",
       "      <td>...</td>\n",
       "      <td>...</td>\n",
       "      <td>...</td>\n",
       "      <td>...</td>\n",
       "      <td>...</td>\n",
       "      <td>...</td>\n",
       "      <td>...</td>\n",
       "      <td>...</td>\n",
       "      <td>...</td>\n",
       "    </tr>\n",
       "    <tr>\n",
       "      <th>501</th>\n",
       "      <td>0.06263</td>\n",
       "      <td>0.0</td>\n",
       "      <td>11.93</td>\n",
       "      <td>0</td>\n",
       "      <td>0.573</td>\n",
       "      <td>6.593</td>\n",
       "      <td>69.1</td>\n",
       "      <td>2.4786</td>\n",
       "      <td>1</td>\n",
       "      <td>273.0</td>\n",
       "      <td>21.0</td>\n",
       "      <td>391.99</td>\n",
       "      <td>9.67</td>\n",
       "      <td>22.4</td>\n",
       "    </tr>\n",
       "    <tr>\n",
       "      <th>502</th>\n",
       "      <td>0.04527</td>\n",
       "      <td>0.0</td>\n",
       "      <td>11.93</td>\n",
       "      <td>0</td>\n",
       "      <td>0.573</td>\n",
       "      <td>6.120</td>\n",
       "      <td>76.7</td>\n",
       "      <td>2.2875</td>\n",
       "      <td>1</td>\n",
       "      <td>273.0</td>\n",
       "      <td>21.0</td>\n",
       "      <td>396.90</td>\n",
       "      <td>9.08</td>\n",
       "      <td>20.6</td>\n",
       "    </tr>\n",
       "    <tr>\n",
       "      <th>503</th>\n",
       "      <td>0.06076</td>\n",
       "      <td>0.0</td>\n",
       "      <td>11.93</td>\n",
       "      <td>0</td>\n",
       "      <td>0.573</td>\n",
       "      <td>6.976</td>\n",
       "      <td>91.0</td>\n",
       "      <td>2.1675</td>\n",
       "      <td>1</td>\n",
       "      <td>273.0</td>\n",
       "      <td>21.0</td>\n",
       "      <td>396.90</td>\n",
       "      <td>5.64</td>\n",
       "      <td>23.9</td>\n",
       "    </tr>\n",
       "    <tr>\n",
       "      <th>504</th>\n",
       "      <td>0.10959</td>\n",
       "      <td>0.0</td>\n",
       "      <td>11.93</td>\n",
       "      <td>0</td>\n",
       "      <td>0.573</td>\n",
       "      <td>6.794</td>\n",
       "      <td>89.3</td>\n",
       "      <td>2.3889</td>\n",
       "      <td>1</td>\n",
       "      <td>273.0</td>\n",
       "      <td>21.0</td>\n",
       "      <td>393.45</td>\n",
       "      <td>6.48</td>\n",
       "      <td>22.0</td>\n",
       "    </tr>\n",
       "    <tr>\n",
       "      <th>505</th>\n",
       "      <td>0.04741</td>\n",
       "      <td>0.0</td>\n",
       "      <td>11.93</td>\n",
       "      <td>0</td>\n",
       "      <td>0.573</td>\n",
       "      <td>6.030</td>\n",
       "      <td>80.8</td>\n",
       "      <td>2.5050</td>\n",
       "      <td>1</td>\n",
       "      <td>273.0</td>\n",
       "      <td>21.0</td>\n",
       "      <td>396.90</td>\n",
       "      <td>7.88</td>\n",
       "      <td>11.9</td>\n",
       "    </tr>\n",
       "  </tbody>\n",
       "</table>\n",
       "<p>466 rows × 14 columns</p>\n",
       "</div>"
      ],
      "text/plain": [
       "        CRIM    ZN  INDUS  CHAS    NOX     RM   AGE     DIS  RAD    TAX  \\\n",
       "0    0.00632  18.0   2.31     0  0.538  6.575  65.2  4.0900    1  296.0   \n",
       "1    0.02731   0.0   7.07     0  0.469  6.421  78.9  4.9671    2  242.0   \n",
       "2    0.02729   0.0   7.07     0  0.469  7.185  61.1  4.9671    2  242.0   \n",
       "3    0.03237   0.0   2.18     0  0.458  6.998  45.8  6.0622    3  222.0   \n",
       "4    0.06905   0.0   2.18     0  0.458  7.147  54.2  6.0622    3  222.0   \n",
       "..       ...   ...    ...   ...    ...    ...   ...     ...  ...    ...   \n",
       "501  0.06263   0.0  11.93     0  0.573  6.593  69.1  2.4786    1  273.0   \n",
       "502  0.04527   0.0  11.93     0  0.573  6.120  76.7  2.2875    1  273.0   \n",
       "503  0.06076   0.0  11.93     0  0.573  6.976  91.0  2.1675    1  273.0   \n",
       "504  0.10959   0.0  11.93     0  0.573  6.794  89.3  2.3889    1  273.0   \n",
       "505  0.04741   0.0  11.93     0  0.573  6.030  80.8  2.5050    1  273.0   \n",
       "\n",
       "     PTRATIO       B  LSTAT  MEDV  \n",
       "0       15.3  396.90   4.98  24.0  \n",
       "1       17.8  396.90   9.14  21.6  \n",
       "2       17.8  392.83   4.03  34.7  \n",
       "3       18.7  394.63   2.94  33.4  \n",
       "4       18.7  396.90   5.33  36.2  \n",
       "..       ...     ...    ...   ...  \n",
       "501     21.0  391.99   9.67  22.4  \n",
       "502     21.0  396.90   9.08  20.6  \n",
       "503     21.0  396.90   5.64  23.9  \n",
       "504     21.0  393.45   6.48  22.0  \n",
       "505     21.0  396.90   7.88  11.9  \n",
       "\n",
       "[466 rows x 14 columns]"
      ]
     },
     "execution_count": 145,
     "metadata": {},
     "output_type": "execute_result"
    }
   ],
   "source": [
    "HousingCleanDf"
   ]
  },
  {
   "cell_type": "code",
   "execution_count": 146,
   "id": "d422c7b2",
   "metadata": {},
   "outputs": [
    {
     "data": {
      "image/png": "[encoded data removed]",
      "text/plain": [
       "<Figure size 1440x1152 with 14 Axes>"
      ]
     },
     "metadata": {},
     "output_type": "display_data"
    }
   ],
   "source": [
    "mostraBoxPlot(HousingCleanDf,columNames)"
   ]
  },
  {
   "cell_type": "markdown",
   "id": "2d55e6b7",
   "metadata": {},
   "source": [
    "*** Inclus fent una primera tanda d'eliminació d'Outliers encara seguim veiem alguns valors extrems, especialment a CRIM,B;ZM,RM em baixat de 506 a 466 registres, ho deixem aquí ja que no volem disminuir mes el nombre de registres***"
   ]
  },
  {
   "cell_type": "markdown",
   "id": "8b5377b3",
   "metadata": {},
   "source": [
    "***Comprovem si la columna Objetiu segueix una distribució normal***"
   ]
  },
  {
   "cell_type": "code",
   "execution_count": 147,
   "id": "baaf06c2",
   "metadata": {},
   "outputs": [
    {
     "data": {
      "text/plain": [
       "Series([], dtype: int64)"
      ]
     },
     "execution_count": 147,
     "metadata": {},
     "output_type": "execute_result"
    }
   ],
   "source": [
    "#Comprovem nulls, de les variables que en tenen, i observem que la nostra variable objectiu té 8387 NaNs\n",
    "HousingCleanDf.isna().sum()[HousingCleanDf.isna().sum() != 0]"
   ]
  },
  {
   "cell_type": "code",
   "execution_count": 148,
   "id": "52c548b9",
   "metadata": {},
   "outputs": [
    {
     "data": {
      "image/png": "[encoded data removed]",
      "text/plain": [
       "<Figure size 504x288 with 1 Axes>"
      ]
     },
     "metadata": {},
     "output_type": "display_data"
    }
   ],
   "source": [
    "distNormColumnes(HousingCleanDf, \"MEDV\")"
   ]
  },
  {
   "cell_type": "code",
   "execution_count": 149,
   "id": "d993e9f5",
   "metadata": {},
   "outputs": [
    {
     "name": "stdout",
     "output_type": "stream",
     "text": [
      "Kursotis: -0.12988062345264195\n",
      "Skewness: 0.20191022419581114\n"
     ]
    }
   ],
   "source": [
    "print('Kursotis:', stats.kurtosis(HousingCleanDf['MEDV']))\n",
    "print('Skewness:', stats.skew(HousingCleanDf['MEDV']))"
   ]
  },
  {
   "cell_type": "markdown",
   "id": "9e5b0d8e",
   "metadata": {},
   "source": [
    "* Revisem les distribucions i les correlacions entre columnes"
   ]
  },
  {
   "cell_type": "markdown",
   "id": "a46f95ef",
   "metadata": {},
   "source": [
    "* ***Revisem els valors nuls per cada columna i veiem que no hi han***"
   ]
  },
  {
   "cell_type": "code",
   "execution_count": 150,
   "id": "bb0734ad",
   "metadata": {},
   "outputs": [
    {
     "data": {
      "text/plain": [
       "Series([], dtype: int64)"
      ]
     },
     "execution_count": 150,
     "metadata": {},
     "output_type": "execute_result"
    }
   ],
   "source": [
    "\n",
    "#Comprovem nulls, de les variables que en tenen, i observem que la nostra variable objectiu té 8387 NaNs\n",
    "HousingCleanDf.isna().sum()[HousingCleanDf.isna().sum() != 0]"
   ]
  },
  {
   "cell_type": "markdown",
   "id": "889ec2ae",
   "metadata": {},
   "source": [
    "***Establimt els dos conjunts train/test basat en una proporció de 65/35***"
   ]
  },
  {
   "cell_type": "code",
   "execution_count": 152,
   "id": "9b088168",
   "metadata": {},
   "outputs": [],
   "source": [
    "\n",
    "import math\n",
    "#from scipy.stats import shapiro\n",
    "from scipy.stats import spearmanr\n",
    "from sklearn.model_selection import train_test_split\n",
    "from sklearn import preprocessing\n",
    "\n",
    "import category_encoders"
   ]
  },
  {
   "cell_type": "code",
   "execution_count": 153,
   "id": "9fb67b9a",
   "metadata": {},
   "outputs": [],
   "source": [
    "# split imbalanced dataset into train and test sets without stratification\n",
    "from sklearn.model_selection import train_test_split\n"
   ]
  },
  {
   "cell_type": "code",
   "execution_count": 154,
   "id": "dc544d49",
   "metadata": {},
   "outputs": [
    {
     "name": "stdout",
     "output_type": "stream",
     "text": [
      "Set de Train: Tamany:  302--65%\n",
      "Set de Test : Tamany:  164--35%\n"
     ]
    }
   ],
   "source": [
    "# Establim el set de predictors i els sets de targets\n",
    "\n",
    "y = HousingCleanDf['MEDV']\n",
    "X = HousingCleanDf.drop(columns='MEDV')\n",
    "\n",
    "#Com el nostre conjunt de dades es molt gran podem fer un train del 65% i un test del 35%\n",
    "X_train, X_test, y_train, y_test = train_test_split(X, y, test_size=.35, random_state=9)\n",
    "\n",
    "\n",
    "# verifiquem conjunts resultatnts\n",
    "\n",
    "perTrain = round(100 * len(X_train) / (len(X)))\n",
    "perTest  = round(100 * len(X_test) / (len(X)))\n",
    "                 \n",
    "print(\"Set de Train: Tamany:  {0}--{1}%\".format(len(X_train),perTrain))\n",
    "print(\"Set de Test : Tamany:  {0}--{1}%\".format(len(X_test),perTest))   \n"
   ]
  },
  {
   "cell_type": "markdown",
   "id": "a5fb20b8",
   "metadata": {},
   "source": [
    "***Aplico el standar Scaler a totes les mostres train i test***\n"
   ]
  },
  {
   "cell_type": "code",
   "execution_count": 155,
   "id": "4e1da617",
   "metadata": {},
   "outputs": [],
   "source": [
    "#finalment apliquem la transformació lineal d'estandarització a totes les dades\n",
    "standardscaler = preprocessing.StandardScaler()\n",
    "\n",
    "index = X_test.index\n",
    "X_testConv = pd.DataFrame(standardscaler.fit_transform(X_test), columns=X_test.columns, index=index)\n",
    "\n",
    "index = X_train.index\n",
    "X_trainConv = pd.DataFrame(standardscaler.fit_transform(X_train), columns=X_train.columns, index=index)\n",
    "\n",
    "\n",
    "index =X.index\n",
    "X_Total=pd.DataFrame(standardscaler.fit_transform(X), columns=X.columns, index=index)\n"
   ]
  },
  {
   "cell_type": "code",
   "execution_count": 156,
   "id": "0da09788",
   "metadata": {},
   "outputs": [
    {
     "data": {
      "image/png": "[encoded data removed]",
      "text/plain": [
       "<Figure size 1296x1296 with 13 Axes>"
      ]
     },
     "metadata": {},
     "output_type": "display_data"
    }
   ],
   "source": [
    "#busquem les correlacions de les variables amb la variable objectiu\n",
    "#utilitzem la correlació d'spearman doncs funciona millor amb distribucions no normals i és menys sensible als outliers\n",
    "dataView = X_trainConv.apply(lambda x: spearmanr(x, y_train).correlation)\n",
    "\n",
    "#seleccionem les 16 variables amb major correlació, en valor absolut\n",
    "dataView = abs(dataView).sort_values(ascending=False).head(16)\n",
    "index = dataView.index\n",
    "\n",
    "#dibuixem els scatters de les variables numèriques més correlacionades amb la variable objectiu\n",
    "plt.figure(figsize=(18, 18))\n",
    "for i in range(len(index)):\n",
    "    plt.subplot(4, 4, i+1)\n",
    "    sns.scatterplot(x=X_trainConv[index[i]], y=y_train)\n",
    "    plt.title(index[i] + \"\\nCoef: {0:.2f}\".format(dataView[index[i]]), y=.95)\n",
    "    plt.xlabel(\"\")\n",
    "    plt.ylabel(\"\")\n",
    "plt.show()"
   ]
  },
  {
   "cell_type": "markdown",
   "id": "e4fcace9",
   "metadata": {},
   "source": [
    "***A la vista d'aquests resultats veiem que tenim atributs amb una forta correlació amb el preu LSTAT,AGE,DIS,RM***"
   ]
  },
  {
   "cell_type": "markdown",
   "id": "d36790fe",
   "metadata": {},
   "source": [
    "***Defineixo una funció per calcular el MSE***"
   ]
  },
  {
   "cell_type": "code",
   "execution_count": 157,
   "id": "e7eb599a",
   "metadata": {},
   "outputs": [],
   "source": [
    "from sklearn.metrics import r2_score\n",
    "\n",
    "def calcMSE(yDf,pyDf):\n",
    "    i=0\n",
    "    MSE=0\n",
    "    for ix in yDf.index:\n",
    "        MSE+=pow((yDf[ix]-pyDf[i]),2)\n",
    "        i=i+1\n",
    "    MSE=MSE/len(yDf)\n",
    "    return (MSE)"
   ]
  },
  {
   "cell_type": "markdown",
   "id": "e689f971",
   "metadata": {},
   "source": [
    "* ***Metode 1 regresio lineal -LinearRegression-***\n"
   ]
  },
  {
   "cell_type": "code",
   "execution_count": 158,
   "id": "72575eba",
   "metadata": {},
   "outputs": [],
   "source": [
    "#Importem la llibreria del mètode de regresio lineal\n",
    "from sklearn import linear_model\n",
    "from sklearn.metrics import mean_squared_error, r2_score"
   ]
  },
  {
   "cell_type": "code",
   "execution_count": 159,
   "id": "4720d665",
   "metadata": {},
   "outputs": [
    {
     "name": "stdout",
     "output_type": "stream",
     "text": [
      "Coefficients: \n",
      " [-0.86215758  0.72402896 -0.18980097  0.12923757 -1.14560503  0.99562629\n",
      " -0.57506482 -2.07326053  2.1784272  -2.16911074 -1.3310212   0.85334223\n",
      " -3.00328069]\n"
     ]
    }
   ],
   "source": [
    "regresLr = linear_model.LinearRegression()\n",
    "regresLr.fit(X_trainConv, y_train)\n",
    "predictyTestLR=regresLr.predict(X_testConv)\n",
    "print('Coefficients: \\n', regresLr.coef_)"
   ]
  },
  {
   "cell_type": "code",
   "execution_count": 160,
   "id": "0a9222cd",
   "metadata": {},
   "outputs": [],
   "source": [
    "lmError = mean_squared_error(y_test, predictyTestLR)"
   ]
  },
  {
   "cell_type": "code",
   "execution_count": 161,
   "id": "a5625e4a",
   "metadata": {},
   "outputs": [
    {
     "name": "stdout",
     "output_type": "stream",
     "text": [
      "MSE error = 11.544976832676618 in Linear Regression\n",
      "R2 error = 0.7160307179465037 in Linear Regression\n"
     ]
    }
   ],
   "source": [
    "\n",
    "r2Lr= r2_score(y_test, predictyTestLR)\n",
    "MSELr=calcMSE(y_test, predictyTestLR)\n",
    "print(\"MSE error = {0}\".format(MSELr)+\" in Linear Regression\")\n",
    "print(\"R2 error = {0}\".format(r2Lr)+\" in Linear Regression\")"
   ]
  },
  {
   "cell_type": "markdown",
   "id": "112edfd6",
   "metadata": {},
   "source": [
    "* ***Ridge Regression***"
   ]
  },
  {
   "cell_type": "code",
   "execution_count": 162,
   "id": "6daa2995",
   "metadata": {},
   "outputs": [],
   "source": [
    "from sklearn.ensemble import RandomForestClassifier"
   ]
  },
  {
   "cell_type": "code",
   "execution_count": 163,
   "id": "2be5a005",
   "metadata": {},
   "outputs": [],
   "source": [
    "regresRg=linear_model.Ridge()\n",
    "regresRg.fit(X_trainConv,y_train)\n",
    "predictyTestRg=regresRg.predict(X_testConv)"
   ]
  },
  {
   "cell_type": "code",
   "execution_count": 164,
   "id": "842577ae",
   "metadata": {},
   "outputs": [
    {
     "name": "stdout",
     "output_type": "stream",
     "text": [
      "MSE error = 11.528 in Ridge Regression\n",
      "R2 error = 0.716  in Ridge Regression\n"
     ]
    }
   ],
   "source": [
    "MSERg=calcMSE(y_test,predictyTestRg)\n",
    "r2Rg = r2_score(y_test, predictyTestRg)\n",
    "print(\"MSE error = {0:.3f}\".format(MSERg)+\" in Ridge Regression\")\n",
    "print(\"R2 error = {0:.3f}\".format(r2Rg)+\"  in Ridge Regression\")"
   ]
  },
  {
   "cell_type": "markdown",
   "id": "7dfefd06",
   "metadata": {},
   "source": [
    "* ***Metode 2 Random Forest ***"
   ]
  },
  {
   "cell_type": "code",
   "execution_count": 165,
   "id": "62ac6246",
   "metadata": {},
   "outputs": [],
   "source": [
    "from sklearn.ensemble import RandomForestRegressor\n",
    "from sklearn.metrics import mean_absolute_error"
   ]
  },
  {
   "cell_type": "code",
   "execution_count": 166,
   "id": "8598c0da",
   "metadata": {},
   "outputs": [
    {
     "data": {
      "text/plain": [
       "RandomForestRegressor(random_state=1)"
      ]
     },
     "execution_count": 166,
     "metadata": {},
     "output_type": "execute_result"
    }
   ],
   "source": [
    "regresRf = RandomForestRegressor(random_state=1)\n",
    "regresRf.fit(X_trainConv, y_train)"
   ]
  },
  {
   "cell_type": "code",
   "execution_count": 167,
   "id": "cac2cd01",
   "metadata": {},
   "outputs": [
    {
     "name": "stdout",
     "output_type": "stream",
     "text": [
      "MAE: 2.303\n"
     ]
    }
   ],
   "source": [
    "predictyTestRf = regresRf.predict(X_testConv)\n",
    "# evaluate predictions\n",
    "mae = mean_absolute_error(y_test, predictyTestRf)\n",
    "print('MAE: %.3f' % mae)"
   ]
  },
  {
   "cell_type": "code",
   "execution_count": 168,
   "id": "3b3da200",
   "metadata": {},
   "outputs": [
    {
     "name": "stdout",
     "output_type": "stream",
     "text": [
      "MSE error = 9.844 in Random Forest\n",
      "R2 error = 0.758 in Random Forest\n"
     ]
    }
   ],
   "source": [
    "MSErF=calcMSE(y_test,predictyTestRf)\n",
    "r2Rf = r2_score(y_test, predictyTestRf)\n",
    "print(\"MSE error = {0:.3f}\".format(MSErF)+\" in Random Forest\")\n",
    "print(\"R2 error = {0:.3f}\".format(r2Rf)+\" in Random Forest\")"
   ]
  },
  {
   "cell_type": "markdown",
   "id": "39735b89",
   "metadata": {},
   "source": [
    "### Exercici 2 Compara’ls en base al MSE i al R2.\n",
    "\n"
   ]
  },
  {
   "cell_type": "markdown",
   "id": "34fd925e",
   "metadata": {},
   "source": [
    "***Veim que el Random Forest ens dona un MSE mes baix i una R2 error mes alt , per tant el random Forest semble tenir un comportament millor que el linear i el Ridge***"
   ]
  },
  {
   "cell_type": "code",
   "execution_count": 169,
   "id": "4f389a30",
   "metadata": {},
   "outputs": [
    {
     "name": "stdout",
     "output_type": "stream",
     "text": [
      "MSE Random Forest 9.84|\n",
      "MSE Linear regresion 11.54 ---> Delta 1.70 a favor del Random Forest\n",
      "\n",
      "R2 Random Forest 0.76|\n",
      "R2 Linear regresion 0.72 ---> Delta -0.04 a favor del Random Forest\n"
     ]
    }
   ],
   "source": [
    "deltaMSE=MSELr-MSErF\n",
    "print(\"MSE Random Forest {0:.2f}|\\nMSE Linear regresion {1:.2f} ---> Delta {2:.2f} a favor del Random Forest\\n\".format(MSErF,MSELr,deltaMSE))\n",
    "deltaR2=r2Lr-r2Rf\n",
    "print(\"R2 Random Forest {0:.2f}|\\nR2 Linear regresion {1:.2f} ---> Delta {2:.2f} a favor del Random Forest\".format(r2Rf,r2Lr,deltaR2))"
   ]
  },
  {
   "cell_type": "markdown",
   "id": "eddf943f",
   "metadata": {},
   "source": [
    "### Exercici 3 Entrena’ls utilitzant els diferents paràmetres que admeten per intentar millorar-ne la predicció."
   ]
  },
  {
   "cell_type": "markdown",
   "id": "b492c87c",
   "metadata": {},
   "source": [
    "* ***1 Entrenament Ridge***\n",
    "\n",
    "L'entrenament en base al error del linearregression, farem la intereació per trobar el alpha amb minim error \n",
    "fem la corba del comportament de cada iteració\n",
    "\n"
   ]
  },
  {
   "cell_type": "code",
   "execution_count": 170,
   "id": "e8eb915c",
   "metadata": {},
   "outputs": [],
   "source": [
    "from sklearn.linear_model import  Ridge\n",
    "import numpy as np "
   ]
  },
  {
   "cell_type": "code",
   "execution_count": 171,
   "id": "d8d1ddfa",
   "metadata": {},
   "outputs": [],
   "source": [
    "#Considerem 500 valors de alpha entre 10 elevat a -10 i 10 elevat a 2\n",
    "#Pere cada possible valor de alpha entrenem la mostra de train i el testegem al la mostra de test\n",
    "alpha = 10**np.linspace(-10, 2, 500)\n",
    "errorArray = np.zeros(len(alpha))\n",
    "for idx, a in enumerate(alpha):\n",
    "  ridgeRg = Ridge(alpha=a)\n",
    "  ridgeRg.fit(X_trainConv, y_train)\n",
    "  predictRg = ridgeRg.predict(X_testConv)\n",
    "  errorArray[idx] = mean_squared_error(y_test, predictRg)"
   ]
  },
  {
   "cell_type": "code",
   "execution_count": 172,
   "id": "031e35cd",
   "metadata": {},
   "outputs": [
    {
     "name": "stdout",
     "output_type": "stream",
     "text": [
      "El valor óptim alpha es: 10.92, amb un error de 11.47\n"
     ]
    }
   ],
   "source": [
    "# Optimal alpha\n",
    "smallest_error = np.min(errorArray)\n",
    "optimal_alpha = alpha[np.argmin(errorArray)]\n",
    "alphaOptim=np.round(optimal_alpha, 2)\n",
    "alphaError=np.round(smallest_error, 2)\n",
    "print(\"El valor óptim alpha es: {0}, amb un error de {1}\".format(alphaOptim,alphaError))"
   ]
  },
  {
   "cell_type": "code",
   "execution_count": 173,
   "id": "3a4405d7",
   "metadata": {},
   "outputs": [
    {
     "data": {
      "text/plain": [
       "<matplotlib.lines.Line2D at 0x19199b35e80>"
      ]
     },
     "execution_count": 173,
     "metadata": {},
     "output_type": "execute_result"
    },
    {
     "data": {
      "image/png": "[encoded data removed]",
      "text/plain": [
       "<Figure size 432x288 with 1 Axes>"
      ]
     },
     "metadata": {},
     "output_type": "display_data"
    }
   ],
   "source": [
    "import matplotlib.pyplot as plt\n",
    "plt.plot(alpha, errorArray)\n",
    "plt.axhline(y=lmError, color='g', linestyle='--')"
   ]
  },
  {
   "cell_type": "markdown",
   "id": "298e23c2",
   "metadata": {},
   "source": [
    "*** La millora del entrenamet del model ridge es bastant feble, comparem resultats amb i sense entrenament***\n"
   ]
  },
  {
   "cell_type": "code",
   "execution_count": 174,
   "id": "04235fba",
   "metadata": {},
   "outputs": [],
   "source": [
    "ridgeRg = Ridge(alpha=10.92)\n",
    "ridgeRg.fit(X_trainConv, y_train)\n",
    "predictRg = ridgeRg.predict(X_testConv)"
   ]
  },
  {
   "cell_type": "code",
   "execution_count": 175,
   "id": "b7ba64ff",
   "metadata": {},
   "outputs": [
    {
     "name": "stdout",
     "output_type": "stream",
     "text": [
      "MSE error amb els millors paràmetres = 11.475 in Random Forest\n",
      "\n",
      "R2 error  amb els millors paràmetres = 0.718 in Random Forest\n"
     ]
    }
   ],
   "source": [
    "MSERgTrain=calcMSE(y_test,predictRg)\n",
    "r2RgTain = r2_score(y_test, predictRg)\n",
    "print(\"MSE error amb els millors paràmetres = {0:.3f}\".format(MSERgTrain)+\" in Random Forest\\n\")\n",
    "print(\"R2 error  amb els millors paràmetres = {0:.3f}\".format(r2RgTain)+\" in Random Forest\")"
   ]
  },
  {
   "cell_type": "code",
   "execution_count": 176,
   "id": "7abc1bff",
   "metadata": {},
   "outputs": [
    {
     "name": "stdout",
     "output_type": "stream",
     "text": [
      "MSE Ridge-Trained 11.47|\n",
      "MSE Ridge Inicial  11.53 ---> Delta 0.05 a favor del Ridge Trained\n",
      "\n",
      "R2  Ridge-Trained 0.72|\n",
      "MSE Ridge Inicial  0.72 ---> Delta -0.00 a favor del Ridge Trained\n"
     ]
    }
   ],
   "source": [
    "deltaMSE=MSERg-MSERgTrain\n",
    "print(\"MSE Ridge-Trained {0:.2f}|\\nMSE Ridge Inicial  {1:.2f} ---> Delta {2:.2f} a favor del Ridge Trained\\n\".format(MSERgTrain,MSERg,deltaMSE))\n",
    "deltaR2=r2Rg-r2RgTain\n",
    "print(\"R2  Ridge-Trained {0:.2f}|\\nMSE Ridge Inicial  {1:.2f} ---> Delta {2:.2f} a favor del Ridge Trained\".format(r2RgTain,r2Rg,deltaR2))"
   ]
  },
  {
   "cell_type": "markdown",
   "id": "d52b45d7",
   "metadata": {},
   "source": [
    "* ***2 Entrenament RandomForest creant una graella per trobar el millor paràmentres per el random forest***"
   ]
  },
  {
   "cell_type": "code",
   "execution_count": 184,
   "id": "15e14e36",
   "metadata": {},
   "outputs": [],
   "source": [
    "n_estimators = [5,20,50,100,125,150,175,200] # nombre d'arbres al random forest\n",
    "max_features = ['auto', 'sqrt'] # maxim nombre de caràcteristicas en cada divisió\n",
    "max_depth = [int(x) for x in np.linspace(5, 120, num = 12)] # maxim nombre de nivells permesos a cada arbre de decissio\n",
    "min_samples_split = [2, 6, 10] # minim nombre de mostres a divisió de un node\n",
    "min_samples_leaf = [1, 3, 4] # minim nombre de mostres que es podem enmagatzenar en un node-fulla\n",
    "bootstrap = [True, False] # method used to sample data points\n",
    "\n"
   ]
  },
  {
   "cell_type": "code",
   "execution_count": 185,
   "id": "4802f487",
   "metadata": {},
   "outputs": [],
   "source": [
    "random_grid = {'n_estimators': n_estimators,\\\n",
    "'max_features': max_features,\\\n",
    "'max_depth': max_depth,\\\n",
    "'min_samples_split': min_samples_split,\\\n",
    "'min_samples_leaf': min_samples_leaf,\\\n",
    "'bootstrap': bootstrap}"
   ]
  },
  {
   "cell_type": "code",
   "execution_count": 186,
   "id": "bcf538ec",
   "metadata": {},
   "outputs": [],
   "source": [
    "modelRf = RandomForestRegressor(random_state=42) "
   ]
  },
  {
   "cell_type": "code",
   "execution_count": 187,
   "id": "3c6818fc",
   "metadata": {},
   "outputs": [
    {
     "data": {
      "text/plain": [
       "{'n_estimators': [5, 20, 50, 100, 125, 150, 175, 200],\n",
       " 'max_features': ['auto', 'sqrt'],\n",
       " 'max_depth': [5, 15, 25, 36, 46, 57, 67, 78, 88, 99, 109, 120],\n",
       " 'min_samples_split': [2, 6, 10],\n",
       " 'min_samples_leaf': [1, 3, 4],\n",
       " 'bootstrap': [True, False]}"
      ]
     },
     "execution_count": 187,
     "metadata": {},
     "output_type": "execute_result"
    }
   ],
   "source": [
    "random_grid"
   ]
  },
  {
   "cell_type": "code",
   "execution_count": 188,
   "id": "46d1339e",
   "metadata": {},
   "outputs": [],
   "source": [
    "from sklearn.model_selection import RandomizedSearchCV\n",
    "rf_random = RandomizedSearchCV(estimator = modelRf,param_distributions = random_grid,\n",
    "               n_iter = 100, cv = 5, verbose=2, random_state=35, n_jobs = -1)"
   ]
  },
  {
   "cell_type": "code",
   "execution_count": 189,
   "id": "6ed56b92",
   "metadata": {},
   "outputs": [
    {
     "name": "stdout",
     "output_type": "stream",
     "text": [
      "Fitting 5 folds for each of 100 candidates, totalling 500 fits\n"
     ]
    },
    {
     "data": {
      "text/plain": [
       "RandomizedSearchCV(cv=5, estimator=RandomForestRegressor(random_state=42),\n",
       "                   n_iter=100, n_jobs=-1,\n",
       "                   param_distributions={'bootstrap': [True, False],\n",
       "                                        'max_depth': [5, 15, 25, 36, 46, 57, 67,\n",
       "                                                      78, 88, 99, 109, 120],\n",
       "                                        'max_features': ['auto', 'sqrt'],\n",
       "                                        'min_samples_leaf': [1, 3, 4],\n",
       "                                        'min_samples_split': [2, 6, 10],\n",
       "                                        'n_estimators': [5, 20, 50, 100, 125,\n",
       "                                                         150, 175, 200]},\n",
       "                   random_state=35, verbose=2)"
      ]
     },
     "execution_count": 189,
     "metadata": {},
     "output_type": "execute_result"
    }
   ],
   "source": [
    "rf_random.fit(X_trainConv, y_train)"
   ]
  },
  {
   "cell_type": "markdown",
   "id": "7f628d8f",
   "metadata": {},
   "source": [
    "***Observem el millors paràmetres despres de les iteracions***"
   ]
  },
  {
   "cell_type": "code",
   "execution_count": 190,
   "id": "d2384b47",
   "metadata": {},
   "outputs": [
    {
     "name": "stdout",
     "output_type": "stream",
     "text": [
      "Random grid:  {'n_estimators': [5, 20, 50, 100, 125, 150, 175, 200], 'max_features': ['auto', 'sqrt'], 'max_depth': [5, 15, 25, 36, 46, 57, 67, 78, 88, 99, 109, 120], 'min_samples_split': [2, 6, 10], 'min_samples_leaf': [1, 3, 4], 'bootstrap': [True, False]} \n",
      "\n",
      "Best Parameters:  {'n_estimators': 20, 'min_samples_split': 6, 'min_samples_leaf': 1, 'max_features': 'sqrt', 'max_depth': 88, 'bootstrap': False}  \n",
      "\n"
     ]
    }
   ],
   "source": [
    "print ('Random grid: ', random_grid, '\\n')\n",
    "# print the best parameters\n",
    "print ('Best Parameters: ', rf_random.best_params_, ' \\n')"
   ]
  },
  {
   "cell_type": "markdown",
   "id": "4a8d080f",
   "metadata": {},
   "source": [
    "***Apliquem els millors paràmetresx el random forest i veiem resultats***"
   ]
  },
  {
   "cell_type": "code",
   "execution_count": 191,
   "id": "054657cc",
   "metadata": {},
   "outputs": [
    {
     "data": {
      "text/plain": [
       "RandomForestRegressor(bootstrap=False, max_depth=88, max_features='sqrt',\n",
       "                      min_samples_split=6, n_estimators=20)"
      ]
     },
     "execution_count": 191,
     "metadata": {},
     "output_type": "execute_result"
    }
   ],
   "source": [
    "regresRfTrained = RandomForestRegressor(n_estimators = 20, min_samples_split = 6, min_samples_leaf= 1, max_features = 'sqrt', max_depth= 88, bootstrap=False) \n",
    "regresRfTrained.fit( X_trainConv, y_train) "
   ]
  },
  {
   "cell_type": "markdown",
   "id": "1b06c897",
   "metadata": {},
   "source": [
    "***Visualitzem una comparativa entre la millor predicció i la inicial***"
   ]
  },
  {
   "cell_type": "code",
   "execution_count": 192,
   "id": "132ed627",
   "metadata": {},
   "outputs": [
    {
     "data": {
      "text/html": [
       "<div>\n",
       "<style scoped>\n",
       "    .dataframe tbody tr th:only-of-type {\n",
       "        vertical-align: middle;\n",
       "    }\n",
       "\n",
       "    .dataframe tbody tr th {\n",
       "        vertical-align: top;\n",
       "    }\n",
       "\n",
       "    .dataframe thead th {\n",
       "        text-align: right;\n",
       "    }\n",
       "</style>\n",
       "<table border=\"1\" class=\"dataframe\">\n",
       "  <thead>\n",
       "    <tr style=\"text-align: right;\">\n",
       "      <th></th>\n",
       "      <th>actual</th>\n",
       "      <th>predicted_prob</th>\n",
       "    </tr>\n",
       "  </thead>\n",
       "  <tbody>\n",
       "    <tr>\n",
       "      <th>90</th>\n",
       "      <td>22.6</td>\n",
       "      <td>24.545417</td>\n",
       "    </tr>\n",
       "    <tr>\n",
       "      <th>89</th>\n",
       "      <td>28.7</td>\n",
       "      <td>29.545833</td>\n",
       "    </tr>\n",
       "    <tr>\n",
       "      <th>165</th>\n",
       "      <td>25.0</td>\n",
       "      <td>21.472083</td>\n",
       "    </tr>\n",
       "    <tr>\n",
       "      <th>173</th>\n",
       "      <td>23.6</td>\n",
       "      <td>22.460500</td>\n",
       "    </tr>\n",
       "    <tr>\n",
       "      <th>57</th>\n",
       "      <td>31.6</td>\n",
       "      <td>27.388417</td>\n",
       "    </tr>\n",
       "    <tr>\n",
       "      <th>...</th>\n",
       "      <td>...</td>\n",
       "      <td>...</td>\n",
       "    </tr>\n",
       "    <tr>\n",
       "      <th>310</th>\n",
       "      <td>16.1</td>\n",
       "      <td>21.750583</td>\n",
       "    </tr>\n",
       "    <tr>\n",
       "      <th>347</th>\n",
       "      <td>23.1</td>\n",
       "      <td>26.862083</td>\n",
       "    </tr>\n",
       "    <tr>\n",
       "      <th>167</th>\n",
       "      <td>23.8</td>\n",
       "      <td>19.309167</td>\n",
       "    </tr>\n",
       "    <tr>\n",
       "      <th>240</th>\n",
       "      <td>22.0</td>\n",
       "      <td>26.479917</td>\n",
       "    </tr>\n",
       "    <tr>\n",
       "      <th>210</th>\n",
       "      <td>21.7</td>\n",
       "      <td>18.624750</td>\n",
       "    </tr>\n",
       "  </tbody>\n",
       "</table>\n",
       "<p>164 rows × 2 columns</p>\n",
       "</div>"
      ],
      "text/plain": [
       "     actual  predicted_prob\n",
       "90     22.6       24.545417\n",
       "89     28.7       29.545833\n",
       "165    25.0       21.472083\n",
       "173    23.6       22.460500\n",
       "57     31.6       27.388417\n",
       "..      ...             ...\n",
       "310    16.1       21.750583\n",
       "347    23.1       26.862083\n",
       "167    23.8       19.309167\n",
       "240    22.0       26.479917\n",
       "210    21.7       18.624750\n",
       "\n",
       "[164 rows x 2 columns]"
      ]
     },
     "execution_count": 192,
     "metadata": {},
     "output_type": "execute_result"
    }
   ],
   "source": [
    "y_pred_rfImp=regresRfTrained.predict(( X_testConv ) )\n",
    "y_pred_rf1 = pd.DataFrame( { \"actual\": y_test, \n",
    "\"predicted_prob\": y_pred_rfImp } ) \n",
    "y_pred_rf1"
   ]
  },
  {
   "cell_type": "code",
   "execution_count": 193,
   "id": "7492faf7",
   "metadata": {},
   "outputs": [
    {
     "name": "stdout",
     "output_type": "stream",
     "text": [
      "MSE error amb els millors paràmetres = 9.040 in Random Forest\n",
      "\n",
      "R2 error  amb els millors paràmetres = 0.778 in Random Forest\n"
     ]
    }
   ],
   "source": [
    "MSErFImpr=calcMSE(y_test,y_pred_rfImp)\n",
    "r2RfImpr = r2_score(y_test, y_pred_rfImp)\n",
    "print(\"MSE error amb els millors paràmetres = {0:.3f}\".format(MSErFImpr)+\" in Random Forest\\n\")\n",
    "print(\"R2 error  amb els millors paràmetres = {0:.3f}\".format(r2RfImpr)+\" in Random Forest\")"
   ]
  },
  {
   "cell_type": "markdown",
   "id": "4d18b791",
   "metadata": {},
   "source": [
    "***Comparem els resultats del randomforest sense entrenar i amb el millors parametres***"
   ]
  },
  {
   "cell_type": "code",
   "execution_count": 194,
   "id": "192cd646",
   "metadata": {},
   "outputs": [
    {
     "name": "stdout",
     "output_type": "stream",
     "text": [
      "MSE Random Forest 9.84|\n",
      "MSE Random Forest Trained 9.04 ---> Delta 0.80 a favor del Random Forest Trained\n",
      "\n",
      "R2 Random Forest 0.76|\n",
      "R2 Random Forest Trained regresion 0.78 ---> Delta -0.02 a favor del Random Forest Trained\n"
     ]
    }
   ],
   "source": [
    "deltaR2Imp=r2Rf-r2RfImpr\n",
    "deltaMSEImpr=MSErF-MSErFImpr\n",
    "print(\"MSE Random Forest {0:.2f}|\\nMSE Random Forest Trained {1:.2f} ---> Delta {2:.2f} a favor del Random Forest Trained\\n\".format(MSErF,MSErFImpr,deltaMSEImpr))\n",
    "print(\"R2 Random Forest {0:.2f}|\\nR2 Random Forest Trained regresion {1:.2f} ---> Delta {2:.2f} a favor del Random Forest Trained\".format(r2Rf,r2RfImpr,deltaR2Imp))"
   ]
  },
  {
   "cell_type": "markdown",
   "id": "c12b015d",
   "metadata": {},
   "source": [
    "### Exercici 4 - Compara el seu rendiment emprant l’aproximació traint/test o emprant totes les dades (validació interna)."
   ]
  },
  {
   "cell_type": "markdown",
   "id": "666cca7c",
   "metadata": {},
   "source": [
    "***Fem una cross validation fent servir un kernel lineal***"
   ]
  },
  {
   "cell_type": "code",
   "execution_count": 195,
   "id": "9341ea34",
   "metadata": {
    "code_folding": []
   },
   "outputs": [],
   "source": [
    "from sklearn import svm\n",
    "from sklearn.model_selection import cross_val_score\n"
   ]
  },
  {
   "cell_type": "code",
   "execution_count": 196,
   "id": "990976db",
   "metadata": {},
   "outputs": [
    {
     "data": {
      "text/plain": [
       "0.7481737907178891"
      ]
     },
     "execution_count": 196,
     "metadata": {},
     "output_type": "execute_result"
    }
   ],
   "source": [
    "X_train, X_test, y_train, y_test = train_test_split(\\\n",
    "    X_Total, y , test_size=0.35, random_state=45)\n",
    "\n",
    "regression = svm.SVR(kernel='linear', C=1).fit(X_train, y_train)\n",
    "regression.score(X_test, y_test)   \n"
   ]
  },
  {
   "cell_type": "markdown",
   "id": "37351027",
   "metadata": {},
   "source": [
    "***Tenim un resuktat al train/test del 65.9% de accuracy***"
   ]
  },
  {
   "cell_type": "markdown",
   "id": "2c1f0722",
   "metadata": {},
   "source": [
    "* ***Fem un cross validation fent servir un kernel 'linear'***"
   ]
  },
  {
   "cell_type": "code",
   "execution_count": 197,
   "id": "4640e0e6",
   "metadata": {},
   "outputs": [
    {
     "data": {
      "text/plain": [
       "array([0.67829125, 0.70361402, 0.43453316, 0.10067332, 0.45216915])"
      ]
     },
     "execution_count": 197,
     "metadata": {},
     "output_type": "execute_result"
    }
   ],
   "source": [
    "from sklearn.model_selection import cross_val_score\n",
    "regression = svm.SVR(kernel='linear', C=1)\n",
    "scores = cross_val_score(regression, X_Total, y, cv=5)\n",
    "scores             "
   ]
  },
  {
   "cell_type": "code",
   "execution_count": 198,
   "id": "4709ff26",
   "metadata": {},
   "outputs": [
    {
     "name": "stdout",
     "output_type": "stream",
     "text": [
      "Accuracy: 0.47 (+/- 0.43)\n"
     ]
    }
   ],
   "source": [
    "print(\"Accuracy: %0.2f (+/- %0.2f)\" % (scores.mean(), scores.std() * 2))"
   ]
  },
  {
   "cell_type": "code",
   "execution_count": 199,
   "id": "d768ce62",
   "metadata": {},
   "outputs": [
    {
     "data": {
      "text/plain": [
       "array([ -8.76113565, -10.7292082 , -13.48561058, -32.85199089,\n",
       "       -13.35556118])"
      ]
     },
     "execution_count": 199,
     "metadata": {},
     "output_type": "execute_result"
    }
   ],
   "source": [
    "from sklearn import metrics\n",
    "scores = cross_val_score(\n",
    "    regression, X_Total, y, cv=5, scoring='neg_mean_squared_error')\n",
    "scores "
   ]
  },
  {
   "cell_type": "markdown",
   "id": "2626de5a",
   "metadata": {},
   "source": [
    "*** No se si te sentit el que faré ara***,\n",
    "* ***aplico el model entrenat de random forest a tot el dataset***\n",
    "* ***comparo la predicció amb la realitat del tot el datset***\n",
    "* ***genero una columna que indica el % de desviació***\n",
    "* ***calculo el R2 i MSE a aquesta predicicó del tot el dataset***"
   ]
  },
  {
   "cell_type": "code",
   "execution_count": 200,
   "id": "0a48eb81",
   "metadata": {},
   "outputs": [],
   "source": [
    "y_predTotal=regresRfTrained.predict(X_Total)\n",
    "y_predInternal= pd.DataFrame( { \"ActualAllData\": y, \n",
    "\"PreditAllData\": y_predTotal } ) \n",
    "y_predInternal[\"DEVPCT\"]=round(((y_predInternal[\"ActualAllData\"]-y_predInternal[\"PreditAllData\"])/y_predInternal[\"ActualAllData\"])*100,1)\n"
   ]
  },
  {
   "cell_type": "code",
   "execution_count": 125,
   "id": "de056bd1",
   "metadata": {},
   "outputs": [
    {
     "data": {
      "text/html": [
       "<div>\n",
       "<style scoped>\n",
       "    .dataframe tbody tr th:only-of-type {\n",
       "        vertical-align: middle;\n",
       "    }\n",
       "\n",
       "    .dataframe tbody tr th {\n",
       "        vertical-align: top;\n",
       "    }\n",
       "\n",
       "    .dataframe thead th {\n",
       "        text-align: right;\n",
       "    }\n",
       "</style>\n",
       "<table border=\"1\" class=\"dataframe\">\n",
       "  <thead>\n",
       "    <tr style=\"text-align: right;\">\n",
       "      <th></th>\n",
       "      <th>ActualAllData</th>\n",
       "      <th>PreditAllData</th>\n",
       "      <th>DEVPCT</th>\n",
       "    </tr>\n",
       "  </thead>\n",
       "  <tbody>\n",
       "    <tr>\n",
       "      <th>0</th>\n",
       "      <td>24.0</td>\n",
       "      <td>26.432000</td>\n",
       "      <td>-10.1</td>\n",
       "    </tr>\n",
       "    <tr>\n",
       "      <th>1</th>\n",
       "      <td>21.6</td>\n",
       "      <td>22.704000</td>\n",
       "      <td>-5.1</td>\n",
       "    </tr>\n",
       "    <tr>\n",
       "      <th>2</th>\n",
       "      <td>34.7</td>\n",
       "      <td>29.708722</td>\n",
       "      <td>14.4</td>\n",
       "    </tr>\n",
       "    <tr>\n",
       "      <th>3</th>\n",
       "      <td>33.4</td>\n",
       "      <td>32.039333</td>\n",
       "      <td>4.1</td>\n",
       "    </tr>\n",
       "    <tr>\n",
       "      <th>4</th>\n",
       "      <td>36.2</td>\n",
       "      <td>31.340911</td>\n",
       "      <td>13.4</td>\n",
       "    </tr>\n",
       "    <tr>\n",
       "      <th>...</th>\n",
       "      <td>...</td>\n",
       "      <td>...</td>\n",
       "      <td>...</td>\n",
       "    </tr>\n",
       "    <tr>\n",
       "      <th>501</th>\n",
       "      <td>22.4</td>\n",
       "      <td>22.597089</td>\n",
       "      <td>-0.9</td>\n",
       "    </tr>\n",
       "    <tr>\n",
       "      <th>502</th>\n",
       "      <td>20.6</td>\n",
       "      <td>20.883822</td>\n",
       "      <td>-1.4</td>\n",
       "    </tr>\n",
       "    <tr>\n",
       "      <th>503</th>\n",
       "      <td>23.9</td>\n",
       "      <td>24.962044</td>\n",
       "      <td>-4.4</td>\n",
       "    </tr>\n",
       "    <tr>\n",
       "      <th>504</th>\n",
       "      <td>22.0</td>\n",
       "      <td>24.088367</td>\n",
       "      <td>-9.5</td>\n",
       "    </tr>\n",
       "    <tr>\n",
       "      <th>505</th>\n",
       "      <td>11.9</td>\n",
       "      <td>21.208044</td>\n",
       "      <td>-78.2</td>\n",
       "    </tr>\n",
       "  </tbody>\n",
       "</table>\n",
       "<p>466 rows × 3 columns</p>\n",
       "</div>"
      ],
      "text/plain": [
       "     ActualAllData  PreditAllData  DEVPCT\n",
       "0             24.0      26.432000   -10.1\n",
       "1             21.6      22.704000    -5.1\n",
       "2             34.7      29.708722    14.4\n",
       "3             33.4      32.039333     4.1\n",
       "4             36.2      31.340911    13.4\n",
       "..             ...            ...     ...\n",
       "501           22.4      22.597089    -0.9\n",
       "502           20.6      20.883822    -1.4\n",
       "503           23.9      24.962044    -4.4\n",
       "504           22.0      24.088367    -9.5\n",
       "505           11.9      21.208044   -78.2\n",
       "\n",
       "[466 rows x 3 columns]"
      ]
     },
     "execution_count": 125,
     "metadata": {},
     "output_type": "execute_result"
    }
   ],
   "source": [
    "y_predInternal"
   ]
  },
  {
   "cell_type": "code",
   "execution_count": 126,
   "id": "2859ab59",
   "metadata": {},
   "outputs": [
    {
     "data": {
      "image/png": "[encoded data removed]",
      "text/plain": [
       "<Figure size 1440x288 with 1 Axes>"
      ]
     },
     "metadata": {},
     "output_type": "display_data"
    }
   ],
   "source": [
    "mostraBoxPlot(y_predInternal,[\"DEVPCT\"])"
   ]
  },
  {
   "cell_type": "code",
   "execution_count": 201,
   "id": "96333ac3",
   "metadata": {},
   "outputs": [
    {
     "name": "stdout",
     "output_type": "stream",
     "text": [
      "MSE error amb els millors paràmetres = 4.934 in Random Forest\n",
      "\n",
      "R2 error  amb els millors paràmetres = 0.881 in Random Forest\n"
     ]
    }
   ],
   "source": [
    "MSErFTot=calcMSE(y,y_predTotal)\n",
    "r2RfTot = r2_score(y, y_predTotal)\n",
    "print(\"MSE error amb els millors paràmetres = {0:.3f}\".format(MSErFTot)+\" in Random Forest\\n\")\n",
    "print(\"R2 error  amb els millors paràmetres = {0:.3f}\".format(r2RfTot)+\" in Random Forest\")"
   ]
  },
  {
   "cell_type": "markdown",
   "id": "d4ddd6ad",
   "metadata": {},
   "source": [
    "### Exercici 5 - No facis servir la variable del nombre d'habitacions (RM) a l’hora de fer prediccions."
   ]
  },
  {
   "cell_type": "markdown",
   "id": "9197089a",
   "metadata": {},
   "source": [
    "***Eliminem la columna corresponent a RM de les mostres de train i test***"
   ]
  },
  {
   "cell_type": "code",
   "execution_count": 202,
   "id": "3dc25ac4",
   "metadata": {},
   "outputs": [],
   "source": [
    "X_testConvNoRM = X_testConv.drop(columns='RM')\n",
    "X_trainConvNoRM = X_trainConv.drop(columns='RM')"
   ]
  },
  {
   "cell_type": "code",
   "execution_count": 203,
   "id": "55de4458",
   "metadata": {},
   "outputs": [
    {
     "name": "stdout",
     "output_type": "stream",
     "text": [
      "MAE: 5.459\n"
     ]
    }
   ],
   "source": [
    "modelRfNoRM = RandomForestRegressor(random_state=1)\n",
    "modelRfNoRM.fit(X_trainConvNoRM, y_train)\n",
    "predictyTestRfNoRm = modelRfNoRM.predict(X_testConvNoRM)\n",
    "# evaluate predictions\n",
    "mae = mean_absolute_error(y_test, predictyTestRfNoRm)\n",
    "print('MAE: %.3f' % mae)"
   ]
  },
  {
   "cell_type": "code",
   "execution_count": 204,
   "id": "865fdc1e",
   "metadata": {},
   "outputs": [
    {
     "name": "stdout",
     "output_type": "stream",
     "text": [
      "MSE error = 46.153 in Random Forest\n",
      "R2 error = -0.085 in Random Forest\n"
     ]
    }
   ],
   "source": [
    "MSErFNoRM=calcMSE(y_test,predictyTestRfNoRm)\n",
    "r2RfNoRM = r2_score(y_test, predictyTestRfNoRm)\n",
    "print(\"MSE error = {0:.3f}\".format(MSErFNoRM)+\" in Random Forest\")\n",
    "print(\"R2 error = {0:.3f}\".format(r2RfNoRM)+\" in Random Forest\")"
   ]
  },
  {
   "cell_type": "code",
   "execution_count": 205,
   "id": "0cedbe2a",
   "metadata": {},
   "outputs": [
    {
     "name": "stdout",
     "output_type": "stream",
     "text": [
      "MSE Random Forest 9.84|\n",
      "MSE Random Forest sense RM 46.15 ---> Delta -36.31 a favor del Random Forest \n",
      "\n",
      "R2 Random Forest 0.76|\n",
      "R2 Random Forest sense RM -0.09 ---> Delta 0.84 a favor del Random Forest \n"
     ]
    }
   ],
   "source": [
    "deltaR2ImpNoRM=r2Rf-r2RfNoRM\n",
    "deltaMSEImpNoRM=MSErF-MSErFNoRM\n",
    "print(\"MSE Random Forest {0:.2f}|\\nMSE Random Forest sense RM {1:.2f} ---> Delta {2:.2f} a favor del Random Forest \\n\".format(MSErF,MSErFNoRM,deltaMSEImpNoRM))\n",
    "print(\"R2 Random Forest {0:.2f}|\\nR2 Random Forest sense RM {1:.2f} ---> Delta {2:.2f} a favor del Random Forest \".format(r2Rf,r2RfNoRM,deltaR2ImpNoRM))"
   ]
  },
  {
   "cell_type": "markdown",
   "id": "a9e9e717",
   "metadata": {},
   "source": [
    "* ***CONCLUSIÓ: Al eliminar la columna RM perdem molta precissió ja que com podem veure al grafic que hem fet mes amunt la RM te una correlacio bastant marcada amb el target*** "
   ]
  },
  {
   "cell_type": "code",
   "execution_count": 132,
   "id": "7837ac58",
   "metadata": {},
   "outputs": [
    {
     "data": {
      "text/html": [
       "<div>\n",
       "<style scoped>\n",
       "    .dataframe tbody tr th:only-of-type {\n",
       "        vertical-align: middle;\n",
       "    }\n",
       "\n",
       "    .dataframe tbody tr th {\n",
       "        vertical-align: top;\n",
       "    }\n",
       "\n",
       "    .dataframe thead th {\n",
       "        text-align: right;\n",
       "    }\n",
       "</style>\n",
       "<table border=\"1\" class=\"dataframe\">\n",
       "  <thead>\n",
       "    <tr style=\"text-align: right;\">\n",
       "      <th></th>\n",
       "      <th>CRIM</th>\n",
       "      <th>ZN</th>\n",
       "      <th>INDUS</th>\n",
       "      <th>CHAS</th>\n",
       "      <th>NOX</th>\n",
       "      <th>AGE</th>\n",
       "      <th>DIS</th>\n",
       "      <th>RAD</th>\n",
       "      <th>TAX</th>\n",
       "      <th>PTRATIO</th>\n",
       "      <th>B</th>\n",
       "      <th>LSTAT</th>\n",
       "    </tr>\n",
       "  </thead>\n",
       "  <tbody>\n",
       "    <tr>\n",
       "      <th>7</th>\n",
       "      <td>-0.440838</td>\n",
       "      <td>0.108409</td>\n",
       "      <td>-0.557945</td>\n",
       "      <td>-0.262613</td>\n",
       "      <td>-0.343361</td>\n",
       "      <td>0.947373</td>\n",
       "      <td>1.024251</td>\n",
       "      <td>-0.557874</td>\n",
       "      <td>-0.659075</td>\n",
       "      <td>-1.564623</td>\n",
       "      <td>0.448674</td>\n",
       "      <td>0.862404</td>\n",
       "    </tr>\n",
       "    <tr>\n",
       "      <th>223</th>\n",
       "      <td>-0.377327</td>\n",
       "      <td>-0.486051</td>\n",
       "      <td>-0.800182</td>\n",
       "      <td>-0.262613</td>\n",
       "      <td>-0.483650</td>\n",
       "      <td>0.404190</td>\n",
       "      <td>-0.232231</td>\n",
       "      <td>-0.219511</td>\n",
       "      <td>-0.682804</td>\n",
       "      <td>-0.530415</td>\n",
       "      <td>0.448674</td>\n",
       "      <td>-0.842632</td>\n",
       "    </tr>\n",
       "    <tr>\n",
       "      <th>450</th>\n",
       "      <td>0.447104</td>\n",
       "      <td>-0.486051</td>\n",
       "      <td>0.925935</td>\n",
       "      <td>-0.262613</td>\n",
       "      <td>1.216313</td>\n",
       "      <td>0.823115</td>\n",
       "      <td>-0.677188</td>\n",
       "      <td>1.585089</td>\n",
       "      <td>1.446806</td>\n",
       "      <td>0.785850</td>\n",
       "      <td>-3.577680</td>\n",
       "      <td>0.609971</td>\n",
       "    </tr>\n",
       "    <tr>\n",
       "      <th>83</th>\n",
       "      <td>-0.455567</td>\n",
       "      <td>0.702869</td>\n",
       "      <td>-0.994551</td>\n",
       "      <td>-0.262613</td>\n",
       "      <td>-1.152082</td>\n",
       "      <td>-0.806433</td>\n",
       "      <td>0.766330</td>\n",
       "      <td>-0.670661</td>\n",
       "      <td>-0.837037</td>\n",
       "      <td>0.221736</td>\n",
       "      <td>0.385118</td>\n",
       "      <td>-0.855918</td>\n",
       "    </tr>\n",
       "    <tr>\n",
       "      <th>264</th>\n",
       "      <td>-0.386058</td>\n",
       "      <td>0.465085</td>\n",
       "      <td>-1.123647</td>\n",
       "      <td>-0.262613</td>\n",
       "      <td>0.671665</td>\n",
       "      <td>0.787613</td>\n",
       "      <td>-0.861786</td>\n",
       "      <td>-0.557874</td>\n",
       "      <td>-0.937882</td>\n",
       "      <td>-2.598832</td>\n",
       "      <td>0.357199</td>\n",
       "      <td>-0.768820</td>\n",
       "    </tr>\n",
       "    <tr>\n",
       "      <th>...</th>\n",
       "      <td>...</td>\n",
       "      <td>...</td>\n",
       "      <td>...</td>\n",
       "      <td>...</td>\n",
       "      <td>...</td>\n",
       "      <td>...</td>\n",
       "      <td>...</td>\n",
       "      <td>...</td>\n",
       "      <td>...</td>\n",
       "      <td>...</td>\n",
       "      <td>...</td>\n",
       "      <td>...</td>\n",
       "    </tr>\n",
       "    <tr>\n",
       "      <th>56</th>\n",
       "      <td>-0.457588</td>\n",
       "      <td>3.556279</td>\n",
       "      <td>-1.592164</td>\n",
       "      <td>-0.262613</td>\n",
       "      <td>-1.284117</td>\n",
       "      <td>-1.196957</td>\n",
       "      <td>2.542828</td>\n",
       "      <td>-0.896236</td>\n",
       "      <td>-0.647211</td>\n",
       "      <td>-0.577425</td>\n",
       "      <td>0.448674</td>\n",
       "      <td>-1.112780</td>\n",
       "    </tr>\n",
       "    <tr>\n",
       "      <th>478</th>\n",
       "      <td>0.921969</td>\n",
       "      <td>-0.486051</td>\n",
       "      <td>0.925935</td>\n",
       "      <td>-0.262613</td>\n",
       "      <td>0.399341</td>\n",
       "      <td>0.968674</td>\n",
       "      <td>-0.749010</td>\n",
       "      <td>1.585089</td>\n",
       "      <td>1.446806</td>\n",
       "      <td>0.785850</td>\n",
       "      <td>0.274048</td>\n",
       "      <td>0.697068</td>\n",
       "    </tr>\n",
       "    <tr>\n",
       "      <th>128</th>\n",
       "      <td>-0.416403</td>\n",
       "      <td>-0.486051</td>\n",
       "      <td>1.475681</td>\n",
       "      <td>-0.262613</td>\n",
       "      <td>0.481863</td>\n",
       "      <td>1.043229</td>\n",
       "      <td>-0.916954</td>\n",
       "      <td>-0.670661</td>\n",
       "      <td>0.088364</td>\n",
       "      <td>1.255945</td>\n",
       "      <td>0.448674</td>\n",
       "      <td>0.307345</td>\n",
       "    </tr>\n",
       "    <tr>\n",
       "      <th>386</th>\n",
       "      <td>2.834892</td>\n",
       "      <td>-0.486051</td>\n",
       "      <td>0.925935</td>\n",
       "      <td>-0.262613</td>\n",
       "      <td>1.109034</td>\n",
       "      <td>1.085831</td>\n",
       "      <td>-1.078940</td>\n",
       "      <td>1.585089</td>\n",
       "      <td>1.446806</td>\n",
       "      <td>0.785850</td>\n",
       "      <td>0.448674</td>\n",
       "      <td>2.210195</td>\n",
       "    </tr>\n",
       "    <tr>\n",
       "      <th>422</th>\n",
       "      <td>1.167177</td>\n",
       "      <td>-0.486051</td>\n",
       "      <td>0.925935</td>\n",
       "      <td>-0.262613</td>\n",
       "      <td>0.399341</td>\n",
       "      <td>0.645605</td>\n",
       "      <td>-0.851887</td>\n",
       "      <td>1.585089</td>\n",
       "      <td>1.446806</td>\n",
       "      <td>0.785850</td>\n",
       "      <td>-0.620912</td>\n",
       "      <td>0.116913</td>\n",
       "    </tr>\n",
       "  </tbody>\n",
       "</table>\n",
       "<p>279 rows × 12 columns</p>\n",
       "</div>"
      ],
      "text/plain": [
       "         CRIM        ZN     INDUS      CHAS       NOX       AGE       DIS  \\\n",
       "7   -0.440838  0.108409 -0.557945 -0.262613 -0.343361  0.947373  1.024251   \n",
       "223 -0.377327 -0.486051 -0.800182 -0.262613 -0.483650  0.404190 -0.232231   \n",
       "450  0.447104 -0.486051  0.925935 -0.262613  1.216313  0.823115 -0.677188   \n",
       "83  -0.455567  0.702869 -0.994551 -0.262613 -1.152082 -0.806433  0.766330   \n",
       "264 -0.386058  0.465085 -1.123647 -0.262613  0.671665  0.787613 -0.861786   \n",
       "..        ...       ...       ...       ...       ...       ...       ...   \n",
       "56  -0.457588  3.556279 -1.592164 -0.262613 -1.284117 -1.196957  2.542828   \n",
       "478  0.921969 -0.486051  0.925935 -0.262613  0.399341  0.968674 -0.749010   \n",
       "128 -0.416403 -0.486051  1.475681 -0.262613  0.481863  1.043229 -0.916954   \n",
       "386  2.834892 -0.486051  0.925935 -0.262613  1.109034  1.085831 -1.078940   \n",
       "422  1.167177 -0.486051  0.925935 -0.262613  0.399341  0.645605 -0.851887   \n",
       "\n",
       "          RAD       TAX   PTRATIO         B     LSTAT  \n",
       "7   -0.557874 -0.659075 -1.564623  0.448674  0.862404  \n",
       "223 -0.219511 -0.682804 -0.530415  0.448674 -0.842632  \n",
       "450  1.585089  1.446806  0.785850 -3.577680  0.609971  \n",
       "83  -0.670661 -0.837037  0.221736  0.385118 -0.855918  \n",
       "264 -0.557874 -0.937882 -2.598832  0.357199 -0.768820  \n",
       "..        ...       ...       ...       ...       ...  \n",
       "56  -0.896236 -0.647211 -0.577425  0.448674 -1.112780  \n",
       "478  1.585089  1.446806  0.785850  0.274048  0.697068  \n",
       "128 -0.670661  0.088364  1.255945  0.448674  0.307345  \n",
       "386  1.585089  1.446806  0.785850  0.448674  2.210195  \n",
       "422  1.585089  1.446806  0.785850 -0.620912  0.116913  \n",
       "\n",
       "[279 rows x 12 columns]"
      ]
     },
     "execution_count": 132,
     "metadata": {},
     "output_type": "execute_result"
    }
   ],
   "source": [
    "X_trainConvNoRM"
   ]
  },
  {
   "cell_type": "code",
   "execution_count": null,
   "id": "205d841c",
   "metadata": {},
   "outputs": [],
   "source": []
  }
 ],
 "metadata": {
  "kernelspec": {
   "display_name": "Python 3 (ipykernel)",
   "language": "python",
   "name": "python3"
  },
  "language_info": {
   "codemirror_mode": {
    "name": "ipython",
    "version": 3
   },
   "file_extension": ".py",
   "mimetype": "text/x-python",
   "name": "python",
   "nbconvert_exporter": "python",
   "pygments_lexer": "ipython3",
   "version": "3.9.7"
  }
 },
 "nbformat": 4,
 "nbformat_minor": 5
}
