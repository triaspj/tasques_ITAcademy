{
 "cells": [
  {
   "cell_type": "markdown",
   "id": "ec101bf7",
   "metadata": {},
   "source": [
    "## Nivell1\n",
    "### Exercici 1\n",
    "***Agafa un conjunt de dades de tema esportiu que t'agradi i selecciona un atribut del conjunt de dades. Calcula el p-valor i digues si rebutja la hipòtesi nul·la agafant un alfa de 5%.***\n",
    "\n",
    "***Agafem la mitja d'alçada per quip de les ultimres 4 temporades***\n",
    "***Hipotesis nula es la mitjana d'alçada ha augmentat***\n",
    "***Hipotesis alternativa  es la mitjana d'alçada ha augmentat***"
   ]
  },
  {
   "cell_type": "code",
   "execution_count": 1,
   "id": "aa5314f8",
   "metadata": {},
   "outputs": [],
   "source": [
    "#Importem les llibreries i veiem diferents propietats\n",
    "import pandas as pd\n",
    "import numpy as np\n",
    "import seaborn as sns\n",
    "from scipy import stats\n",
    "import matplotlib.pyplot as plt\n",
    "%matplotlib inline\n",
    "\n"
   ]
  },
  {
   "cell_type": "code",
   "execution_count": 2,
   "id": "371bc890",
   "metadata": {},
   "outputs": [],
   "source": [
    "# llegim fitxer de dades\n",
    "nbaPlayersDf=pd.read_csv('all_seasons.csv',index_col=False,sep=',', encoding='utf8')"
   ]
  },
  {
   "cell_type": "markdown",
   "id": "dfcf964e",
   "metadata": {},
   "source": [
    "***Es tracta  veure si la alçada promig d'un equip ha aumentat o disminuit la temporada 2020-21 respecte de l'alçada promig del registre històric.***\n",
    "\n",
    "***Del conjunt de dades de la nba temporada a temporada i jugador per jugador fem el seguent:***\n",
    "* 1 Agrupem els jugadors per temporada y equip \n",
    "* 2 Calculem l'alçada mitjane de totes el jugadors d'un equip\n",
    "* 3 Calculem la mitjana i la desviació standard del pas 2 , amb això tindrem la poblacio\n",
    "* 4 Extraiem la nostra mostra: temporada 2020-21, equip, alçada mitjana\n",
    "\n",
    "**HIPOTESI**\n",
    "\n",
    "***Ens preguntem si l'alçada mitjana del jugadors de la NBA ha varianf la temporada 2020-21 comparat al el històric***\n",
    "***Las dades històriques son mitjana 200.77 , std=1.45 , ho calculem a partir de les dades històriques***\n",
    "\n",
    "***H0=La alçada mitjana dels equips de la  NBA la temporada 2021-21 (200.7 cm) no ha variat significativamente respecte*** ***l'alçada mitja de totes temporades registrades***\n",
    "\n",
    "***H1=La alçada muitjana dels equips de la  NBA la temporada 2021-21 (200.7 cm)   ha variat***\n",
    "\n",
    "***Confiança 5% (0.05)\n",
    "\n",
    "***En aquest cas el P-Value es per two-tailed jas que es planteja que kla mitjana es defiverent , por ser menor o mnajor***\n",
    "\n",
    "\n",
    "\n"
   ]
  },
  {
   "cell_type": "code",
   "execution_count": 3,
   "id": "6da93bbd",
   "metadata": {},
   "outputs": [],
   "source": [
    "last1Season=nbaPlayersDf.season.isin([\"2020-21\"])"
   ]
  },
  {
   "cell_type": "code",
   "execution_count": 4,
   "id": "cccb95c6",
   "metadata": {},
   "outputs": [],
   "source": [
    "#agafem les dade que interessen\n",
    "dadesAlcades=nbaPlayersDf[['season','team_abbreviation','player_height']]\n"
   ]
  },
  {
   "cell_type": "code",
   "execution_count": 5,
   "id": "6cccf55e",
   "metadata": {},
   "outputs": [],
   "source": [
    "#poblacio=dataHeight.groupby(['team_abbreviation'])['player_height'].mean() \n",
    "poblacio=dadesAlcades.groupby(['season','team_abbreviation'])['player_height'].mean() "
   ]
  },
  {
   "cell_type": "code",
   "execution_count": 6,
   "id": "efd68cae",
   "metadata": {},
   "outputs": [],
   "source": [
    "mitjaPoblacio = np.mean(poblacio)\n",
    "stdPoblacio= np.std(poblacio)"
   ]
  },
  {
   "cell_type": "markdown",
   "id": "9606c2f0",
   "metadata": {},
   "source": [
    "***Calculem mitja i desviacio standard de la població***"
   ]
  },
  {
   "cell_type": "code",
   "execution_count": 7,
   "id": "8bf5657d",
   "metadata": {},
   "outputs": [
    {
     "name": "stdout",
     "output_type": "stream",
     "text": [
      "Alçada mitjana equip últimes 5 temporades  = 200.7657757155917 \n",
      "Descviacio Standard 1.4505911526164967\n"
     ]
    }
   ],
   "source": [
    "print(\"Alçada mitjana equip últimes 5 temporades  = {0} \\nDescviacio Standard {1}\".format(mitjaPoblacio,stdPoblacio))"
   ]
  },
  {
   "cell_type": "code",
   "execution_count": 8,
   "id": "2f02e377",
   "metadata": {},
   "outputs": [],
   "source": [
    "#Generem la mostra de al poblacio que es la temporada 2020-21\n",
    "dadesAlcades=nbaPlayersDf[last1Season][['season','team_abbreviation','player_height']]\n",
    "mostra=dadesAlcades.groupby(['season','team_abbreviation'])['player_height'].mean() "
   ]
  },
  {
   "cell_type": "markdown",
   "id": "2604a493",
   "metadata": {},
   "source": [
    "***Analtzem i la mostra te una distribució normal amb diferents proves***"
   ]
  },
  {
   "cell_type": "code",
   "execution_count": 9,
   "id": "04c66256",
   "metadata": {},
   "outputs": [
    {
     "ename": "NameError",
     "evalue": "name 'p' is not defined",
     "output_type": "error",
     "traceback": [
      "\u001b[1;31m---------------------------------------------------------------------------\u001b[0m",
      "\u001b[1;31mNameError\u001b[0m                                 Traceback (most recent call last)",
      "\u001b[1;32m~\\AppData\\Local\\Temp/ipykernel_62388/3346307168.py\u001b[0m in \u001b[0;36m<module>\u001b[1;34m\u001b[0m\n\u001b[0;32m      2\u001b[0m \u001b[0mstat\u001b[0m\u001b[1;33m,\u001b[0m \u001b[0mpValue\u001b[0m \u001b[1;33m=\u001b[0m \u001b[0mstats\u001b[0m\u001b[1;33m.\u001b[0m\u001b[0mshapiro\u001b[0m\u001b[1;33m(\u001b[0m\u001b[0mmostra\u001b[0m\u001b[1;33m)\u001b[0m\u001b[1;33m\u001b[0m\u001b[1;33m\u001b[0m\u001b[0m\n\u001b[0;32m      3\u001b[0m \u001b[1;33m\u001b[0m\u001b[0m\n\u001b[1;32m----> 4\u001b[1;33m \u001b[0mprint\u001b[0m\u001b[1;33m(\u001b[0m\u001b[1;34m'stat=%.3f, p=%.3f'\u001b[0m \u001b[1;33m%\u001b[0m \u001b[1;33m(\u001b[0m\u001b[0mstat\u001b[0m\u001b[1;33m,\u001b[0m \u001b[0mp\u001b[0m\u001b[1;33m)\u001b[0m\u001b[1;33m)\u001b[0m\u001b[1;33m\u001b[0m\u001b[1;33m\u001b[0m\u001b[0m\n\u001b[0m\u001b[0;32m      5\u001b[0m \u001b[1;32mif\u001b[0m \u001b[0mpValue\u001b[0m \u001b[1;33m>\u001b[0m \u001b[1;36m0.05\u001b[0m\u001b[1;33m:\u001b[0m \u001b[0mprint\u001b[0m\u001b[1;33m(\u001b[0m\u001b[1;34m'Probablement Normal'\u001b[0m\u001b[1;33m)\u001b[0m\u001b[1;33m\u001b[0m\u001b[1;33m\u001b[0m\u001b[0m\n\u001b[0;32m      6\u001b[0m \u001b[1;32melse\u001b[0m\u001b[1;33m:\u001b[0m \u001b[0mprint\u001b[0m\u001b[1;33m(\u001b[0m\u001b[1;34m'Probablement No Normal'\u001b[0m\u001b[1;33m)\u001b[0m\u001b[1;33m\u001b[0m\u001b[1;33m\u001b[0m\u001b[0m\n",
      "\u001b[1;31mNameError\u001b[0m: name 'p' is not defined"
     ]
    }
   ],
   "source": [
    "#Prova shapiro\n",
    "stat, pValue = stats.shapiro(mostra)\n",
    "\n",
    "print('stat=%.3f, p=%.3f' % (stat, p))\n",
    "if pValue > 0.05: print('Probablement Normal')\n",
    "else: print('Probablement No Normal')"
   ]
  },
  {
   "cell_type": "code",
   "execution_count": null,
   "id": "e2249732",
   "metadata": {},
   "outputs": [],
   "source": [
    "#primerament mirem el tipus de distribució dels xuts\n",
    "sns.set_style(\"whitegrid\")\n",
    "ax = sns.boxplot( data=mostra,  fliersize=7,  orient='h', linewidth=1 , width=.4)\n",
    "plt.show()"
   ]
  },
  {
   "cell_type": "markdown",
   "id": "32a39e3e",
   "metadata": {},
   "source": [
    "***Calculem les dades per obtenir el T-SCORE***"
   ]
  },
  {
   "attachments": {
    "imatge.png": {
     "image/png": "[encoded data removed]"
    }
   },
   "cell_type": "markdown",
   "id": "110b0a3f",
   "metadata": {},
   "source": [
    "![imatge.png](attachment:imatge.png)\n"
   ]
  },
  {
   "cell_type": "code",
   "execution_count": null,
   "id": "c3190da9",
   "metadata": {},
   "outputs": [],
   "source": [
    "\n",
    "#calculem valors estadístics de la mostra\n",
    "mitjaMostra = np.mean(mostra)\n",
    "elements = mostra.size\n",
    "tValue=(mitjaMostra-mitjaPoblacio)/(stdPoblacio/np.sqrt(elements))\n",
    "\n",
    "print(\"n = {0}\\nMitjana poblacional  = {1}\\nMitjana mostra {2}\\nDesviació estàndard = {3}\\n\".format(elements, mitjaPoblacio, mitjaMostra, stdPoblacio))\n",
    "print(\"t-value = {0}\".format(tValue))"
   ]
  },
  {
   "cell_type": "markdown",
   "id": "2b0b4c60",
   "metadata": {},
   "source": [
    "***Ara calcumlem lárea de probabilitat pel t-value amb scipy***"
   ]
  },
  {
   "cell_type": "code",
   "execution_count": null,
   "id": "cf85d42b",
   "metadata": {},
   "outputs": [],
   "source": [
    "print(pValue)\n"
   ]
  },
  {
   "cell_type": "code",
   "execution_count": null,
   "id": "88e95d72",
   "metadata": {},
   "outputs": [],
   "source": [
    "#amb scipy podem calcular la p que ens dirà el risc que asumim si refutem la hipòtesi nula, o el que es el mateix, \n",
    "#la probabilitat o àrea de - infinit a t\n",
    "pValue=2*stats.t.cdf(x=tValue,df=elements-1)\n",
    "print(pValue)       \n",
    "if pvalue < 0.05:\n",
    "    print(\"La Hipotesis nula te una probabilitat molt menor a la nostra alfa 0.05%, podem refutar hipotesis nula\")\n",
    "else:\n",
    "     print(\"La Hipotesis nula es correcte\")"
   ]
  },
  {
   "cell_type": "markdown",
   "id": "e2d257c0",
   "metadata": {},
   "source": [
    "***CONCLUSIO***"
   ]
  },
  {
   "cell_type": "markdown",
   "id": "51d0820d",
   "metadata": {},
   "source": [
    "* ***La  hipòtesi nula tindria una probabilitat  molt mes baixa que el 0.05 % (5%), P-Value < 0.05 es pot concloure que ell ris de rebatre la hipoteis nul.la es assumible, Refutem la hipòtesis nula :Podem afirmar que l'alçada mitjana dels equips a la temporada 2020_21 ha variat respecte la mitjana del historic de la població canviat, en el cas de la mostra ha baixat***\n"
   ]
  },
  {
   "cell_type": "markdown",
   "id": "21926f64",
   "metadata": {},
   "source": [
    "## Nivell 2\n",
    "### Exercici 2\n",
    "***Continua amb el conjunt de dades de tema esportiu que t'agradi i selecciona dos altres atributs del conjunt de dades. Calcula els p-valors i digues si rebutgen la hipòtesi nul·la agafant un alfa de 5%.***\n",
    "\n",
    "***Hipotesis es que els jugadors que donen mes assitències fan mes punts tambè.***\n",
    "\n",
    "* ***H0: Les assistències i punts anotat per partits de un jugador  mostres son independents. No hi ha relació entre assistències i els punts anotats***\n",
    "* ***Ha: existeix una dependencia entre assistències i i els punts anotats***\n",
    "\n"
   ]
  },
  {
   "cell_type": "markdown",
   "id": "78be7f4f",
   "metadata": {},
   "source": [
    "***Desde el dataset original agafem les dues mostres***\n",
    "* Punts i assitencies per jugador per temporada a les últimes 5 temporades\n"
   ]
  },
  {
   "cell_type": "code",
   "execution_count": 36,
   "id": "40dac010",
   "metadata": {},
   "outputs": [],
   "source": [
    "#Prenem la mostra de les 5 últimes temporades\n",
    "\n",
    "last5Season=nbaPlayersDf.season.isin([\"2016-17\",\"2017-18\",\"2018-19\",\"2019-20\",\"2020-21\",])\n",
    "last1Season=nbaPlayersDf.season.isin([\"2020-21\"])\n",
    "astVsPtsDf=nbaPlayersDf[last5Season][['season','player_name','ast','pts']]\n",
    "\n"
   ]
  },
  {
   "cell_type": "code",
   "execution_count": null,
   "id": "ce92510d",
   "metadata": {},
   "outputs": [],
   "source": [
    "astMean=pd.DataFrame(nbaPlayersDf[last5Season][['season','player_name','ast','pts']].groupby(['season','player_name'])['ast'].mean()) \n",
    "astMean=astMean.reset_index()\n",
    "pstMean=pd.DataFrame(nbaPlayersDf[last5Season][['season','player_name','ast','pts']].groupby(['season','player_name'])['pts'].mean())\n",
    "pstMean=pstMean.reset_index()\n",
    "astVsPtsDf=pd.concat([astMean,pstMean],axis=1)"
   ]
  },
  {
   "cell_type": "code",
   "execution_count": 24,
   "id": "f09da4d8",
   "metadata": {},
   "outputs": [
    {
     "data": {
      "text/html": [
       "<div>\n",
       "<style scoped>\n",
       "    .dataframe tbody tr th:only-of-type {\n",
       "        vertical-align: middle;\n",
       "    }\n",
       "\n",
       "    .dataframe tbody tr th {\n",
       "        vertical-align: top;\n",
       "    }\n",
       "\n",
       "    .dataframe thead th {\n",
       "        text-align: right;\n",
       "    }\n",
       "</style>\n",
       "<table border=\"1\" class=\"dataframe\">\n",
       "  <thead>\n",
       "    <tr style=\"text-align: right;\">\n",
       "      <th></th>\n",
       "      <th>season</th>\n",
       "      <th>player_name</th>\n",
       "      <th>ast</th>\n",
       "    </tr>\n",
       "  </thead>\n",
       "  <tbody>\n",
       "    <tr>\n",
       "      <th>0</th>\n",
       "      <td>2016-17</td>\n",
       "      <td>AJ Hammons</td>\n",
       "      <td>0.2</td>\n",
       "    </tr>\n",
       "    <tr>\n",
       "      <th>1</th>\n",
       "      <td>2016-17</td>\n",
       "      <td>Aaron Brooks</td>\n",
       "      <td>1.9</td>\n",
       "    </tr>\n",
       "    <tr>\n",
       "      <th>2</th>\n",
       "      <td>2016-17</td>\n",
       "      <td>Aaron Gordon</td>\n",
       "      <td>1.9</td>\n",
       "    </tr>\n",
       "    <tr>\n",
       "      <th>3</th>\n",
       "      <td>2016-17</td>\n",
       "      <td>Aaron Harrison</td>\n",
       "      <td>0.6</td>\n",
       "    </tr>\n",
       "    <tr>\n",
       "      <th>4</th>\n",
       "      <td>2016-17</td>\n",
       "      <td>Adreian Payne</td>\n",
       "      <td>0.4</td>\n",
       "    </tr>\n",
       "    <tr>\n",
       "      <th>...</th>\n",
       "      <td>...</td>\n",
       "      <td>...</td>\n",
       "      <td>...</td>\n",
       "    </tr>\n",
       "    <tr>\n",
       "      <th>2620</th>\n",
       "      <td>2020-21</td>\n",
       "      <td>Yogi Ferrell</td>\n",
       "      <td>2.2</td>\n",
       "    </tr>\n",
       "    <tr>\n",
       "      <th>2621</th>\n",
       "      <td>2020-21</td>\n",
       "      <td>Yuta Watanabe</td>\n",
       "      <td>0.8</td>\n",
       "    </tr>\n",
       "    <tr>\n",
       "      <th>2622</th>\n",
       "      <td>2020-21</td>\n",
       "      <td>Zach LaVine</td>\n",
       "      <td>4.9</td>\n",
       "    </tr>\n",
       "    <tr>\n",
       "      <th>2623</th>\n",
       "      <td>2020-21</td>\n",
       "      <td>Zeke Nnaji</td>\n",
       "      <td>0.2</td>\n",
       "    </tr>\n",
       "    <tr>\n",
       "      <th>2624</th>\n",
       "      <td>2020-21</td>\n",
       "      <td>Zion Williamson</td>\n",
       "      <td>3.7</td>\n",
       "    </tr>\n",
       "  </tbody>\n",
       "</table>\n",
       "<p>2625 rows × 3 columns</p>\n",
       "</div>"
      ],
      "text/plain": [
       "       season      player_name  ast\n",
       "0     2016-17       AJ Hammons  0.2\n",
       "1     2016-17     Aaron Brooks  1.9\n",
       "2     2016-17     Aaron Gordon  1.9\n",
       "3     2016-17   Aaron Harrison  0.6\n",
       "4     2016-17    Adreian Payne  0.4\n",
       "...       ...              ...  ...\n",
       "2620  2020-21     Yogi Ferrell  2.2\n",
       "2621  2020-21    Yuta Watanabe  0.8\n",
       "2622  2020-21      Zach LaVine  4.9\n",
       "2623  2020-21       Zeke Nnaji  0.2\n",
       "2624  2020-21  Zion Williamson  3.7\n",
       "\n",
       "[2625 rows x 3 columns]"
      ]
     },
     "execution_count": 24,
     "metadata": {},
     "output_type": "execute_result"
    }
   ],
   "source": [
    "astMean"
   ]
  },
  {
   "cell_type": "code",
   "execution_count": 34,
   "id": "0c6c21c4",
   "metadata": {},
   "outputs": [],
   "source": []
  },
  {
   "cell_type": "code",
   "execution_count": 37,
   "id": "b27bddd4",
   "metadata": {},
   "outputs": [
    {
     "data": {
      "text/html": [
       "<div>\n",
       "<style scoped>\n",
       "    .dataframe tbody tr th:only-of-type {\n",
       "        vertical-align: middle;\n",
       "    }\n",
       "\n",
       "    .dataframe tbody tr th {\n",
       "        vertical-align: top;\n",
       "    }\n",
       "\n",
       "    .dataframe thead th {\n",
       "        text-align: right;\n",
       "    }\n",
       "</style>\n",
       "<table border=\"1\" class=\"dataframe\">\n",
       "  <thead>\n",
       "    <tr style=\"text-align: right;\">\n",
       "      <th></th>\n",
       "      <th>season</th>\n",
       "      <th>player_name</th>\n",
       "      <th>ast</th>\n",
       "      <th>pts</th>\n",
       "    </tr>\n",
       "  </thead>\n",
       "  <tbody>\n",
       "    <tr>\n",
       "      <th>9075</th>\n",
       "      <td>2016-17</td>\n",
       "      <td>Marvin Williams</td>\n",
       "      <td>1.4</td>\n",
       "      <td>11.2</td>\n",
       "    </tr>\n",
       "    <tr>\n",
       "      <th>9076</th>\n",
       "      <td>2016-17</td>\n",
       "      <td>Mason Plumlee</td>\n",
       "      <td>3.5</td>\n",
       "      <td>10.4</td>\n",
       "    </tr>\n",
       "    <tr>\n",
       "      <th>9077</th>\n",
       "      <td>2016-17</td>\n",
       "      <td>Matt Barnes</td>\n",
       "      <td>2.6</td>\n",
       "      <td>7.1</td>\n",
       "    </tr>\n",
       "    <tr>\n",
       "      <th>9078</th>\n",
       "      <td>2016-17</td>\n",
       "      <td>Matthew Dellavedova</td>\n",
       "      <td>4.7</td>\n",
       "      <td>7.6</td>\n",
       "    </tr>\n",
       "    <tr>\n",
       "      <th>9079</th>\n",
       "      <td>2016-17</td>\n",
       "      <td>Maurice Harkless</td>\n",
       "      <td>1.1</td>\n",
       "      <td>10.0</td>\n",
       "    </tr>\n",
       "    <tr>\n",
       "      <th>...</th>\n",
       "      <td>...</td>\n",
       "      <td>...</td>\n",
       "      <td>...</td>\n",
       "      <td>...</td>\n",
       "    </tr>\n",
       "    <tr>\n",
       "      <th>11695</th>\n",
       "      <td>2020-21</td>\n",
       "      <td>Matthew Dellavedova</td>\n",
       "      <td>4.5</td>\n",
       "      <td>2.8</td>\n",
       "    </tr>\n",
       "    <tr>\n",
       "      <th>11696</th>\n",
       "      <td>2020-21</td>\n",
       "      <td>Maurice Harkless</td>\n",
       "      <td>1.2</td>\n",
       "      <td>5.2</td>\n",
       "    </tr>\n",
       "    <tr>\n",
       "      <th>11697</th>\n",
       "      <td>2020-21</td>\n",
       "      <td>Max Strus</td>\n",
       "      <td>0.6</td>\n",
       "      <td>6.1</td>\n",
       "    </tr>\n",
       "    <tr>\n",
       "      <th>11698</th>\n",
       "      <td>2020-21</td>\n",
       "      <td>Marcus Morris Sr.</td>\n",
       "      <td>1.0</td>\n",
       "      <td>13.4</td>\n",
       "    </tr>\n",
       "    <tr>\n",
       "      <th>11699</th>\n",
       "      <td>2020-21</td>\n",
       "      <td>Aaron Gordon</td>\n",
       "      <td>3.2</td>\n",
       "      <td>12.4</td>\n",
       "    </tr>\n",
       "  </tbody>\n",
       "</table>\n",
       "<p>2625 rows × 4 columns</p>\n",
       "</div>"
      ],
      "text/plain": [
       "        season          player_name  ast   pts\n",
       "9075   2016-17      Marvin Williams  1.4  11.2\n",
       "9076   2016-17        Mason Plumlee  3.5  10.4\n",
       "9077   2016-17          Matt Barnes  2.6   7.1\n",
       "9078   2016-17  Matthew Dellavedova  4.7   7.6\n",
       "9079   2016-17     Maurice Harkless  1.1  10.0\n",
       "...        ...                  ...  ...   ...\n",
       "11695  2020-21  Matthew Dellavedova  4.5   2.8\n",
       "11696  2020-21     Maurice Harkless  1.2   5.2\n",
       "11697  2020-21            Max Strus  0.6   6.1\n",
       "11698  2020-21    Marcus Morris Sr.  1.0  13.4\n",
       "11699  2020-21         Aaron Gordon  3.2  12.4\n",
       "\n",
       "[2625 rows x 4 columns]"
      ]
     },
     "execution_count": 37,
     "metadata": {},
     "output_type": "execute_result"
    }
   ],
   "source": [
    "astVsPtsDf"
   ]
  },
  {
   "cell_type": "code",
   "execution_count": 38,
   "id": "15bc2232",
   "metadata": {},
   "outputs": [],
   "source": [
    "from statsmodels.graphics.gofplots import qqplot\n",
    "from matplotlib import pyplot"
   ]
  },
  {
   "cell_type": "markdown",
   "id": "86874d4d",
   "metadata": {},
   "source": [
    "***Comprovem si aquestes variables tenen u a distribució normal amb historgrama i qq grafica***\n",
    "***Veiem que no tenen una distribució nomral***"
   ]
  },
  {
   "cell_type": "code",
   "execution_count": 39,
   "id": "d27a082d",
   "metadata": {},
   "outputs": [
    {
     "name": "stderr",
     "output_type": "stream",
     "text": [
      "C:\\Users\\Lenovo\\anaconda3\\lib\\site-packages\\statsmodels\\graphics\\gofplots.py:993: UserWarning: marker is redundantly defined by the 'marker' keyword argument and the fmt string \"bo\" (-> marker='o'). The keyword argument will take precedence.\n",
      "  ax.plot(x, y, fmt, **plot_style)\n"
     ]
    },
    {
     "data": {
      "image/png": "[encoded data removed]",
      "text/plain": [
       "<Figure size 432x288 with 1 Axes>"
      ]
     },
     "metadata": {
      "needs_background": "light"
     },
     "output_type": "display_data"
    },
    {
     "data": {
      "image/png": "[encoded data removed]",
      "text/plain": [
       "<Figure size 432x288 with 1 Axes>"
      ]
     },
     "metadata": {
      "needs_background": "light"
     },
     "output_type": "display_data"
    }
   ],
   "source": [
    "pyplot.hist(astVsPtsDf['pts'])\n",
    "qqplot(astVsPtsDf['pts'],line='s')\n",
    "pyplot.show()"
   ]
  },
  {
   "cell_type": "code",
   "execution_count": 40,
   "id": "94431b8e",
   "metadata": {},
   "outputs": [
    {
     "name": "stderr",
     "output_type": "stream",
     "text": [
      "C:\\Users\\Lenovo\\anaconda3\\lib\\site-packages\\statsmodels\\graphics\\gofplots.py:993: UserWarning: marker is redundantly defined by the 'marker' keyword argument and the fmt string \"bo\" (-> marker='o'). The keyword argument will take precedence.\n",
      "  ax.plot(x, y, fmt, **plot_style)\n"
     ]
    },
    {
     "data": {
      "image/png": "[encoded data removed]",
      "text/plain": [
       "<Figure size 432x288 with 1 Axes>"
      ]
     },
     "metadata": {
      "needs_background": "light"
     },
     "output_type": "display_data"
    },
    {
     "data": {
      "image/png": "[encoded data removed]",
      "text/plain": [
       "<Figure size 432x288 with 1 Axes>"
      ]
     },
     "metadata": {
      "needs_background": "light"
     },
     "output_type": "display_data"
    }
   ],
   "source": [
    "pyplot.hist(astVsPtsDf['ast'])\n",
    "qqplot(astVsPtsDf['ast'], line='s')\n",
    "pyplot.show()"
   ]
  },
  {
   "cell_type": "markdown",
   "id": "65b03c16",
   "metadata": {},
   "source": [
    "***La distribució no es normal ,apliquem tests NO PARAMÈTRICS  mètode de Kruskal-Wallis i Spearman per veure les probabilitats P-VALUE***"
   ]
  },
  {
   "cell_type": "code",
   "execution_count": 42,
   "id": "1ffe7245",
   "metadata": {},
   "outputs": [
    {
     "name": "stdout",
     "output_type": "stream",
     "text": [
      "El resultat del test Kruskal-Wallis es : Stat =2454.7175195973364, P-Value = 0.0\n",
      "Les assitències i les anotacionbs son probalement dependent\n"
     ]
    }
   ],
   "source": [
    "# Apliquem the test de Kruskal-Wallis \n",
    "stat, pValue = stats.kruskal(astVsPtsDf['ast'], astVsPtsDf['pts'])\n",
    "  \n",
    "# Print the result\n",
    "print(\"El resultat del test Kruskal-Wallis es : Stat ={0}, P-Value = {1}\".format(stat,pValue))\n",
    "if pValue > 0.05: print('Les assitències i les anotacions son probalement independent')\n",
    "else: print('Les assitències i les anotacionbs son probalement dependent')"
   ]
  },
  {
   "cell_type": "code",
   "execution_count": 43,
   "id": "d9076f98",
   "metadata": {},
   "outputs": [
    {
     "name": "stdout",
     "output_type": "stream",
     "text": [
      "El resultat del test Spearman es : Stat =0.7610369415575367, P-Value = 0.0\n",
      "stat=0.761, p=0.000\n",
      "Probablement dependent\n"
     ]
    }
   ],
   "source": [
    "#Calculem amb Spearman\n",
    "stat, pValue = stats.spearmanr(astVsPtsDf['ast'], astVsPtsDf['pts'])\n",
    "print(\"El resultat del test Spearman es : Stat ={0}, P-Value = {1}\".format(stat,pValue))\n",
    "print('stat=%.3f, p=%.3f' % (stat, pValue))\n",
    "if pValue > 0.05: print('Probablement independent')\n",
    "else: print('Probablement dependent')"
   ]
  },
  {
   "cell_type": "code",
   "execution_count": 44,
   "id": "a885a43f",
   "metadata": {},
   "outputs": [],
   "source": [
    "from pylab import *"
   ]
  },
  {
   "cell_type": "code",
   "execution_count": 45,
   "id": "01d388ae",
   "metadata": {},
   "outputs": [
    {
     "data": {
      "text/plain": [
       "<matplotlib.collections.PathCollection at 0x28497b16070>"
      ]
     },
     "execution_count": 45,
     "metadata": {},
     "output_type": "execute_result"
    },
    {
     "data": {
      "image/png": "[encoded data removed]",
      "text/plain": [
       "<Figure size 432x288 with 1 Axes>"
      ]
     },
     "metadata": {
      "needs_background": "light"
     },
     "output_type": "display_data"
    }
   ],
   "source": [
    "scatter(astVsPtsDf['ast'], astVsPtsDf['pts'])"
   ]
  },
  {
   "cell_type": "code",
   "execution_count": 46,
   "id": "24ca087e",
   "metadata": {},
   "outputs": [
    {
     "data": {
      "text/plain": [
       "array([[1.        , 0.71014666],\n",
       "       [0.71014666, 1.        ]])"
      ]
     },
     "execution_count": 46,
     "metadata": {},
     "output_type": "execute_result"
    }
   ],
   "source": [
    "np.corrcoef(astVsPtsDf['ast'], astVsPtsDf['pts'])"
   ]
  },
  {
   "cell_type": "markdown",
   "id": "b50be8b9",
   "metadata": {},
   "source": [
    "**CONCLUSIÓ**\n",
    "\n",
    "**El P-Value obtingut amb el mètode Kruskal-Wallis i Spearman mostres que les asistencies i punts son molt probablement***\n",
    "depenents***\n",
    "\n",
    "***Amb el grafic scatter i el coeficient de correlació tambè es pot afirmar que les moistres son probablement depenents***\n",
    "***i per tant podem refutar la hipotesis nula***"
   ]
  },
  {
   "cell_type": "markdown",
   "id": "35ba89b6",
   "metadata": {},
   "source": [
    "## Nivell 3\n",
    "### Exercici 3\n",
    "***Continua amb el conjunt de dades de tema esportiu que t'agradi i selecciona tre altres atributs del conjunt de dades. Calcula els p-valors i digues si rebutgen la hipòtesi nul·la agafant un alfa de 5%.***\n",
    "\n",
    "***Volem saber si els colleges que tenem mes jugadors a la nba a les 5 últimes temprades tenen una mitjana de punts similar***\n",
    "\n",
    "***HIPOTESIS***\n",
    "\n",
    "* ***H0: lA mitajna de punts per partit dels jugadors procedents dels colleges sleccionats es similar.***\n",
    "* ***Ha: LA mitjana de ppunts que aportant els jugadors dels colleges seleccionats es different, la procedència influeix\".***\n"
   ]
  },
  {
   "cell_type": "code",
   "execution_count": 47,
   "id": "8f2f4089",
   "metadata": {},
   "outputs": [],
   "source": [
    "# Triem jugadors que a les 5 últimes temporades han jugat 50 partits o mes.\n",
    "playerCollegeDf=pd.DataFrame(nbaPlayersDf[last5Season][['season','college','player_name','gp','pts']])\n",
    "playerG50=playerCollegeDf.gp>50\n",
    "playerCollegeDf=pd.DataFrame(playerCollegeDf[playerG50][['season','college','player_name','gp','pts']])"
   ]
  },
  {
   "cell_type": "code",
   "execution_count": 48,
   "id": "3bce93df",
   "metadata": {},
   "outputs": [
    {
     "data": {
      "text/html": [
       "<div>\n",
       "<style scoped>\n",
       "    .dataframe tbody tr th:only-of-type {\n",
       "        vertical-align: middle;\n",
       "    }\n",
       "\n",
       "    .dataframe tbody tr th {\n",
       "        vertical-align: top;\n",
       "    }\n",
       "\n",
       "    .dataframe thead th {\n",
       "        text-align: right;\n",
       "    }\n",
       "</style>\n",
       "<table border=\"1\" class=\"dataframe\">\n",
       "  <thead>\n",
       "    <tr style=\"text-align: right;\">\n",
       "      <th></th>\n",
       "      <th>season</th>\n",
       "      <th>college</th>\n",
       "      <th>player_name</th>\n",
       "      <th>gp</th>\n",
       "      <th>pts</th>\n",
       "    </tr>\n",
       "  </thead>\n",
       "  <tbody>\n",
       "    <tr>\n",
       "      <th>9075</th>\n",
       "      <td>2016-17</td>\n",
       "      <td>North Carolina</td>\n",
       "      <td>Marvin Williams</td>\n",
       "      <td>76</td>\n",
       "      <td>11.2</td>\n",
       "    </tr>\n",
       "    <tr>\n",
       "      <th>9076</th>\n",
       "      <td>2016-17</td>\n",
       "      <td>Duke</td>\n",
       "      <td>Mason Plumlee</td>\n",
       "      <td>81</td>\n",
       "      <td>10.4</td>\n",
       "    </tr>\n",
       "    <tr>\n",
       "      <th>9077</th>\n",
       "      <td>2016-17</td>\n",
       "      <td>UCLA</td>\n",
       "      <td>Matt Barnes</td>\n",
       "      <td>74</td>\n",
       "      <td>7.1</td>\n",
       "    </tr>\n",
       "    <tr>\n",
       "      <th>9078</th>\n",
       "      <td>2016-17</td>\n",
       "      <td>Saint Mary's (CA)</td>\n",
       "      <td>Matthew Dellavedova</td>\n",
       "      <td>76</td>\n",
       "      <td>7.6</td>\n",
       "    </tr>\n",
       "    <tr>\n",
       "      <th>9079</th>\n",
       "      <td>2016-17</td>\n",
       "      <td>St. John's (NY)</td>\n",
       "      <td>Maurice Harkless</td>\n",
       "      <td>77</td>\n",
       "      <td>10.0</td>\n",
       "    </tr>\n",
       "    <tr>\n",
       "      <th>...</th>\n",
       "      <td>...</td>\n",
       "      <td>...</td>\n",
       "      <td>...</td>\n",
       "      <td>...</td>\n",
       "      <td>...</td>\n",
       "    </tr>\n",
       "    <tr>\n",
       "      <th>11683</th>\n",
       "      <td>2020-21</td>\n",
       "      <td>None</td>\n",
       "      <td>Marc Gasol</td>\n",
       "      <td>52</td>\n",
       "      <td>5.0</td>\n",
       "    </tr>\n",
       "    <tr>\n",
       "      <th>11686</th>\n",
       "      <td>2020-21</td>\n",
       "      <td>Kansas</td>\n",
       "      <td>Markieff Morris</td>\n",
       "      <td>61</td>\n",
       "      <td>6.7</td>\n",
       "    </tr>\n",
       "    <tr>\n",
       "      <th>11692</th>\n",
       "      <td>2020-21</td>\n",
       "      <td>Duke</td>\n",
       "      <td>Mason Plumlee</td>\n",
       "      <td>56</td>\n",
       "      <td>10.4</td>\n",
       "    </tr>\n",
       "    <tr>\n",
       "      <th>11693</th>\n",
       "      <td>2020-21</td>\n",
       "      <td>Washington</td>\n",
       "      <td>Matisse Thybulle</td>\n",
       "      <td>65</td>\n",
       "      <td>3.9</td>\n",
       "    </tr>\n",
       "    <tr>\n",
       "      <th>11698</th>\n",
       "      <td>2020-21</td>\n",
       "      <td>Kansas</td>\n",
       "      <td>Marcus Morris Sr.</td>\n",
       "      <td>57</td>\n",
       "      <td>13.4</td>\n",
       "    </tr>\n",
       "  </tbody>\n",
       "</table>\n",
       "<p>1401 rows × 5 columns</p>\n",
       "</div>"
      ],
      "text/plain": [
       "        season            college          player_name  gp   pts\n",
       "9075   2016-17     North Carolina      Marvin Williams  76  11.2\n",
       "9076   2016-17               Duke        Mason Plumlee  81  10.4\n",
       "9077   2016-17               UCLA          Matt Barnes  74   7.1\n",
       "9078   2016-17  Saint Mary's (CA)  Matthew Dellavedova  76   7.6\n",
       "9079   2016-17    St. John's (NY)     Maurice Harkless  77  10.0\n",
       "...        ...                ...                  ...  ..   ...\n",
       "11683  2020-21               None           Marc Gasol  52   5.0\n",
       "11686  2020-21             Kansas      Markieff Morris  61   6.7\n",
       "11692  2020-21               Duke        Mason Plumlee  56  10.4\n",
       "11693  2020-21         Washington     Matisse Thybulle  65   3.9\n",
       "11698  2020-21             Kansas    Marcus Morris Sr.  57  13.4\n",
       "\n",
       "[1401 rows x 5 columns]"
      ]
     },
     "execution_count": 48,
     "metadata": {},
     "output_type": "execute_result"
    }
   ],
   "source": [
    "playerCollegeDf"
   ]
  },
  {
   "cell_type": "code",
   "execution_count": null,
   "id": "bf4aeb9b",
   "metadata": {},
   "outputs": [],
   "source": []
  },
  {
   "cell_type": "code",
   "execution_count": 49,
   "id": "75aea40b",
   "metadata": {},
   "outputs": [],
   "source": [
    "#playerCollegeDF = pd.merge(left=collegeOrigin,right=collegePlayer, how='left', left_on='player_name', right_on='player_name')"
   ]
  },
  {
   "cell_type": "markdown",
   "id": "93e57074",
   "metadata": {},
   "source": [
    "***Triem els 3 colleges que aportan mes jugadors a la NBA***"
   ]
  },
  {
   "cell_type": "code",
   "execution_count": 50,
   "id": "0f58dad0",
   "metadata": {},
   "outputs": [
    {
     "data": {
      "text/plain": [
       "None              261\n",
       "Kentucky           89\n",
       "Duke               64\n",
       "UCLA               48\n",
       "Kansas             44\n",
       "North Carolina     42\n",
       "Arizona            35\n",
       "Name: college, dtype: int64"
      ]
     },
     "execution_count": 50,
     "metadata": {},
     "output_type": "execute_result"
    }
   ],
   "source": [
    "playerCollegeDf['college'].value_counts().head(7)\n"
   ]
  },
  {
   "cell_type": "markdown",
   "id": "4119cd09",
   "metadata": {},
   "source": [
    "***Creem una mostra per college***"
   ]
  },
  {
   "cell_type": "code",
   "execution_count": 51,
   "id": "8479765c",
   "metadata": {},
   "outputs": [],
   "source": [
    "college1=playerCollegeDf.college.isin([\"Kentucky\"])\n",
    "college2=playerCollegeDf.college.isin([\"Duke\"])\n",
    "college3=playerCollegeDf.college.isin([\"UCLA\"])\n",
    "college1Df=pd.DataFrame(playerCollegeDf[college1][['player_name','pts']].groupby(['player_name','pts'])['pts'].mean())\n",
    "college2Df=pd.DataFrame(playerCollegeDf[college2][['player_name','pts']].groupby(['player_name','pts'])['pts'].mean())\n",
    "college3Df=pd.DataFrame(playerCollegeDf[college3][['player_name','pts']].groupby(['player_name','pts'])['pts'].mean())\n"
   ]
  },
  {
   "cell_type": "markdown",
   "id": "1aa1e99c",
   "metadata": {},
   "source": [
    "***Observem la distribució de les mostres , no semblen normals***"
   ]
  },
  {
   "cell_type": "code",
   "execution_count": 52,
   "id": "a9462ba4",
   "metadata": {},
   "outputs": [
    {
     "name": "stderr",
     "output_type": "stream",
     "text": [
      "C:\\Users\\Lenovo\\anaconda3\\lib\\site-packages\\statsmodels\\graphics\\gofplots.py:993: UserWarning: marker is redundantly defined by the 'marker' keyword argument and the fmt string \"bo\" (-> marker='o'). The keyword argument will take precedence.\n",
      "  ax.plot(x, y, fmt, **plot_style)\n"
     ]
    },
    {
     "data": {
      "image/png": "[encoded data removed]",
      "text/plain": [
       "<Figure size 432x288 with 1 Axes>"
      ]
     },
     "metadata": {
      "needs_background": "light"
     },
     "output_type": "display_data"
    },
    {
     "data": {
      "image/png": "[encoded data removed]",
      "text/plain": [
       "<Figure size 432x288 with 1 Axes>"
      ]
     },
     "metadata": {
      "needs_background": "light"
     },
     "output_type": "display_data"
    }
   ],
   "source": [
    "pyplot.hist(college1Df['pts'])\n",
    "qqplot(college1Df['pts'], line='s')\n",
    "pyplot.show()"
   ]
  },
  {
   "cell_type": "code",
   "execution_count": 53,
   "id": "70c19904",
   "metadata": {},
   "outputs": [
    {
     "name": "stderr",
     "output_type": "stream",
     "text": [
      "C:\\Users\\Lenovo\\anaconda3\\lib\\site-packages\\statsmodels\\graphics\\gofplots.py:993: UserWarning: marker is redundantly defined by the 'marker' keyword argument and the fmt string \"bo\" (-> marker='o'). The keyword argument will take precedence.\n",
      "  ax.plot(x, y, fmt, **plot_style)\n"
     ]
    },
    {
     "data": {
      "image/png": "[encoded data removed]",
      "text/plain": [
       "<Figure size 432x288 with 1 Axes>"
      ]
     },
     "metadata": {
      "needs_background": "light"
     },
     "output_type": "display_data"
    },
    {
     "data": {
      "image/png": "[encoded data removed]",
      "text/plain": [
       "<Figure size 432x288 with 1 Axes>"
      ]
     },
     "metadata": {
      "needs_background": "light"
     },
     "output_type": "display_data"
    }
   ],
   "source": [
    "pyplot.hist(college2Df['pts'])\n",
    "qqplot(college2Df['pts'], line='s')\n",
    "pyplot.show()"
   ]
  },
  {
   "cell_type": "code",
   "execution_count": 54,
   "id": "cbb2ccf8",
   "metadata": {},
   "outputs": [
    {
     "name": "stderr",
     "output_type": "stream",
     "text": [
      "C:\\Users\\Lenovo\\anaconda3\\lib\\site-packages\\statsmodels\\graphics\\gofplots.py:993: UserWarning: marker is redundantly defined by the 'marker' keyword argument and the fmt string \"bo\" (-> marker='o'). The keyword argument will take precedence.\n",
      "  ax.plot(x, y, fmt, **plot_style)\n"
     ]
    },
    {
     "data": {
      "image/png": "[encoded data removed]",
      "text/plain": [
       "<Figure size 432x288 with 1 Axes>"
      ]
     },
     "metadata": {
      "needs_background": "light"
     },
     "output_type": "display_data"
    },
    {
     "data": {
      "image/png": "[encoded data removed]",
      "text/plain": [
       "<Figure size 432x288 with 1 Axes>"
      ]
     },
     "metadata": {
      "needs_background": "light"
     },
     "output_type": "display_data"
    }
   ],
   "source": [
    "pyplot.hist(college3Df['pts'])\n",
    "qqplot(college3Df['pts'], line='s')\n",
    "pyplot.show()"
   ]
  },
  {
   "cell_type": "markdown",
   "id": "c144a6ef",
   "metadata": {},
   "source": [
    "***Apliquem mètode ANOVA one-way per veure si els jugadors aportats aportan una putuacio mijana per partit similar***"
   ]
  },
  {
   "cell_type": "code",
   "execution_count": 55,
   "id": "a6df5304",
   "metadata": {},
   "outputs": [
    {
     "data": {
      "text/plain": [
       "F_onewayResult(statistic=array([0.14279015]), pvalue=array([0.86702796]))"
      ]
     },
     "execution_count": 55,
     "metadata": {},
     "output_type": "execute_result"
    }
   ],
   "source": [
    "from scipy.stats import f_oneway\n",
    "\n",
    "  \n",
    "# Conduct the one-way ANOVA\n",
    "f_oneway(college1Df, college2Df, college3Df)"
   ]
  },
  {
   "cell_type": "markdown",
   "id": "970ac2a6",
   "metadata": {},
   "source": [
    "***Apliquem mètode Kruskal per confirmar***"
   ]
  },
  {
   "cell_type": "code",
   "execution_count": 56,
   "id": "4b39a240",
   "metadata": {},
   "outputs": [
    {
     "name": "stdout",
     "output_type": "stream",
     "text": [
      "stat=0.060, p=0.970\n",
      "Probablement la mateixa mediana\n"
     ]
    }
   ],
   "source": [
    "\n",
    "stat, p = stats.kruskal(college1Df['pts'], college2Df['pts'], college3Df['pts'])\n",
    "\n",
    "print('stat=%.3f, p=%.3f' % (stat, p))\n",
    "if p > 0.05: print('Probablement la mateixa mediana')\n",
    "else: print('Probablement NO tots tenen la mateixa mediana')"
   ]
  },
  {
   "cell_type": "markdown",
   "id": "f6c9d3eb",
   "metadata": {},
   "source": [
    "***CONCLUSIÓ***\n",
    "\n",
    "***Ambdos mètodes mostren que la probabilitat de tenir un resultat con els de les mostres es supeiror ( 0.97 y 0.86)  al nostra alfa 0.5% , per tant acceptem la Hipotesis nula***\n",
    "\n",
    "* ***H0: La mitajna de punts per partit dels jugadors procedents dels colleges sleccionats es similar.***\n"
   ]
  },
  {
   "cell_type": "code",
   "execution_count": null,
   "id": "545881ea",
   "metadata": {},
   "outputs": [],
   "source": []
  },
  {
   "cell_type": "code",
   "execution_count": null,
   "id": "3bddc74e",
   "metadata": {},
   "outputs": [],
   "source": []
  }
 ],
 "metadata": {
  "kernelspec": {
   "display_name": "Python 3 (ipykernel)",
   "language": "python",
   "name": "python3"
  },
  "language_info": {
   "codemirror_mode": {
    "name": "ipython",
    "version": 3
   },
   "file_extension": ".py",
   "mimetype": "text/x-python",
   "name": "python",
   "nbconvert_exporter": "python",
   "pygments_lexer": "ipython3",
   "version": "3.9.7"
  }
 },
 "nbformat": 4,
 "nbformat_minor": 5
}
