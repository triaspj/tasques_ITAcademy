{
 "cells": [
  {
   "cell_type": "markdown",
   "id": "e214fe92",
   "metadata": {},
   "source": [
    "# S02 T04 Programació numèrica\n",
    "## Nivell 1\n",
    "### Exercici 1\n",
    "***Crea una funció que donat un Array d’una dimensió, et faci un resum estadístic bàsic de les dades. Si detecta que l’array té més d’una dimensió, ha de mostrar un missatge d’error.***"
   ]
  },
  {
   "cell_type": "code",
   "execution_count": null,
   "id": "a8583c67",
   "metadata": {
    "scrolled": true
   },
   "outputs": [],
   "source": [
    "def resum_Statistics(fArray):\n",
    "\n",
    "    if fArray.ndim > 1:\n",
    "        print ( \"El nombre de dimensions de la matriu {} es superior a 1\\n\".format(fArray))\n",
    "    else:\n",
    "        print ( \"Les estadístiques de la matriu {} son:\".format(fArray))\n",
    "        print(\"Suma d'elements : {}\".format(fArray.sum()))\n",
    "        print(\"Màxim           : {}\".format(fArray.max()))\n",
    "        print(\"Mínim           : {}\".format(fArray.min()))\n",
    "        print(\"Mitjana         : {}\".format(fArray.mean()))\n",
    "        print(\"Mediana         : {}\".format(np.median(fArray)))\n",
    "        print(\"Desviació Std   : {}\\n\".format(np.std(fArray)))\n"
   ]
  },
  {
   "cell_type": "code",
   "execution_count": null,
   "id": "5c5ba89e",
   "metadata": {},
   "outputs": [],
   "source": [
    "import numpy as np\n",
    "npArray1=np.array([1,3,5,6,73,5,21,3,5,6,73,5,12,13,5,6,73,5,5,73,6,5,22,1])\n",
    "npArray2=np.array([[1,3,5,6,73,5,21,3,5,6,73,5,12,13,5,6,73,5,5,73,6,5,22,1]])\n",
    "\n",
    "\n"
   ]
  },
  {
   "cell_type": "code",
   "execution_count": null,
   "id": "f1d90614",
   "metadata": {},
   "outputs": [],
   "source": [
    "resum_Statistics(npArray1)\n",
    "resum_Statistics(npArray2)"
   ]
  },
  {
   "cell_type": "markdown",
   "id": "cd7808f9",
   "metadata": {},
   "source": [
    "### Exercici 2\n",
    "***Crea una funció que et generi un quadrat NxN de nombres aleatoris entre el 0 i el 100..***\n",
    "\n",
    "***IMPORTANT:Entenc que vol dir crear una matriu cuadrada amb nombres aleatoris***"
   ]
  },
  {
   "cell_type": "code",
   "execution_count": null,
   "id": "84f48d45",
   "metadata": {},
   "outputs": [],
   "source": [
    "import random as rd\n",
    "import numpy as np"
   ]
  },
  {
   "cell_type": "code",
   "execution_count": 14,
   "id": "bbc4e1bc",
   "metadata": {},
   "outputs": [],
   "source": [
    "def crea_Quadrat(longitud):\n",
    "    # Definim un array de 1d amb el total d'elements\n",
    "    rango=longitud*longitud\n",
    "    fArray = np.empty(rango,dtype=int)\n",
    "    for i in range(rango): # Afegim els elements\n",
    "        fArray[i]=rd.randint(0,100)\n",
    "    fArray.resize(longitud,longitud)\n",
    "    return fArray"
   ]
  },
  {
   "cell_type": "code",
   "execution_count": 15,
   "id": "bfd7e397",
   "metadata": {},
   "outputs": [
    {
     "name": "stdout",
     "output_type": "stream",
     "text": [
      "Longitud costat N5\n"
     ]
    },
    {
     "data": {
      "text/plain": [
       "array([[ 53,  61,  48,  17, 100],\n",
       "       [ 48,   9,  12,  85,  12],\n",
       "       [ 51,  61,   4,  22,   0],\n",
       "       [ 27,  57,  60,  56,  88],\n",
       "       [ 34,  92,  13,  62,  18]])"
      ]
     },
     "execution_count": 15,
     "metadata": {},
     "output_type": "execute_result"
    }
   ],
   "source": [
    "dimQuadrat=int(input(\"Longitud costat N\"))\n",
    "npQuadrat=crea_Quadrat(dimQuadrat)\n",
    "npQuadrat"
   ]
  },
  {
   "cell_type": "markdown",
   "id": "c6a90fae",
   "metadata": {},
   "source": [
    "### Exercici 3\n",
    "***Crea una funció que donada una taula de dues dimensions, et calculi els totals per fila i els totals per columna, faig servir la funció que em genera una matriu de 2 dimensuions**"
   ]
  },
  {
   "cell_type": "markdown",
   "id": "491d87dd",
   "metadata": {},
   "source": [
    "\n"
   ]
  },
  {
   "cell_type": "code",
   "execution_count": 16,
   "id": "40f4b14f",
   "metadata": {},
   "outputs": [],
   "source": [
    "def suma_Eixos(fArray,eix):\n",
    "    print(\"La suma del eix {} es {}\".format(eix,fArray.sum(axis=eix)))\n"
   ]
  },
  {
   "cell_type": "code",
   "execution_count": 17,
   "id": "2007c913",
   "metadata": {},
   "outputs": [
    {
     "name": "stdout",
     "output_type": "stream",
     "text": [
      "Longitud costat N5\n",
      "La taula generada es\n",
      " [[ 5 36 62 56 72]\n",
      " [18 37  8 58 31]\n",
      " [64 67 86 86 99]\n",
      " [24 22 59 71 43]\n",
      " [51  5 89 11  7]]\n",
      "Suma las filas\n",
      "La suma del eix 1 es [231 152 402 219 163]\n",
      "Suma las columnes\n",
      "La suma del eix 0 es [162 167 304 282 252]\n"
     ]
    }
   ],
   "source": [
    "dimQuadrat=int(input(\"Longitud costat N\"))\n",
    "npQuadrat=crea_Quadrat(dimQuadrat)\n",
    "print(\"La taula generada es\\n {}\".format(npQuadrat))\n",
    "print(\"Suma las filas\")\n",
    "suma_Eixos(npQuadrat,1)\n",
    "print(\"Suma las columnes\")\n",
    "suma_Eixos(npQuadrat,0)\n"
   ]
  },
  {
   "cell_type": "markdown",
   "id": "913f9875",
   "metadata": {},
   "source": [
    "### Exercici 4\n",
    "***Implementa manualment una funció que calculi el coeficient de correlació. Informa’t-en sobre els seus usos i interpretació.***"
   ]
  },
  {
   "cell_type": "markdown",
   "id": "21996939",
   "metadata": {},
   "source": [
    "****La formula de la correlació  es Covariança(xy)/( DesviacioTipica(x)*DesviacioTipica(y))****\n",
    "\n",
    "* Segon s'han de calcular las variances de cada serie \n",
    "*                 VariançaX=suma((Xi-MitjanaX)\\**2)/N\n",
    "* Tercer hem de calcular la deviació tipica per cada serie \n",
    "*                 DesviacioX=Sqr(varianca(X)\n",
    "* Quart la covaraiaça\n",
    "*                 CoVariançaXY=suma_i((Xi-promig(X)*(Yi-promig(Y))/N*\n",
    "* Finalment coef correlacio  r =CoVariançaXY/(DesviacioX*DesviaciY)\n",
    "\n"
   ]
  },
  {
   "cell_type": "markdown",
   "id": "023cc40c",
   "metadata": {},
   "source": [
    "***Importem llibreries***"
   ]
  },
  {
   "cell_type": "code",
   "execution_count": 2,
   "id": "2b8c3f56",
   "metadata": {},
   "outputs": [],
   "source": [
    "\n",
    "import random as rd\n",
    "import numpy as np\n",
    "import math"
   ]
  },
  {
   "cell_type": "markdown",
   "id": "8b10de7a",
   "metadata": {},
   "source": [
    "***calcul promig , podriem utilitzar la funció mean***\n"
   ]
  },
  {
   "cell_type": "code",
   "execution_count": 3,
   "id": "d2bf6a60",
   "metadata": {},
   "outputs": [],
   "source": [
    "#promig de la serie\n",
    "def calc_promig(parray):\n",
    "    return (parray.sum()/len(parray))"
   ]
  },
  {
   "cell_type": "markdown",
   "id": "633a04f6",
   "metadata": {},
   "source": [
    "***calculem la variança= sum_i(Xi-promig(X))/N***\n",
    "***N=longitud serie***"
   ]
  },
  {
   "cell_type": "code",
   "execution_count": 4,
   "id": "8d5a2f64",
   "metadata": {},
   "outputs": [],
   "source": [
    "#Calcula de la varaiança\n",
    "def calc_varian(parray):\n",
    "    varian=0\n",
    "    promig=calc_promig(parray)\n",
    "    for i in parray:\n",
    "        varian+=(i-promig)**2\n",
    "    return (varian/len(parray))"
   ]
  },
  {
   "cell_type": "markdown",
   "id": "57adc7e8",
   "metadata": {},
   "source": [
    "***calculem la desviacio std= sqrt(variança(X)***\n"
   ]
  },
  {
   "cell_type": "code",
   "execution_count": 5,
   "id": "63a6add1",
   "metadata": {},
   "outputs": [],
   "source": [
    "#calcula desviació standard\n",
    "def calc_devstd(parray):\n",
    "    return math.sqrt(calc_varian(parray))"
   ]
  },
  {
   "cell_type": "markdown",
   "id": "e598da8d",
   "metadata": {},
   "source": [
    "***calculem la covaraiaça=sum_i((Xi-promig(X)*(Yi-promig(Y))/N***\n"
   ]
  },
  {
   "cell_type": "code",
   "execution_count": 6,
   "id": "4f48a3cc",
   "metadata": {},
   "outputs": [],
   "source": [
    "#calcul de la covariança\n",
    "def calc_covar(parray1,parray2):\n",
    "    sumprodXiYi=0\n",
    "    promig1=calc_promig(parray1)\n",
    "    promig2=calc_promig(parray2)\n",
    "    tamany=len(parray1)\n",
    "    # suma derls productes element a element de les dues series\n",
    "    for i in range(tamany):\n",
    "        sumprodXiYi+=((parray1[i]-promig1)*(parray2[i]-promig2))\n",
    "\n",
    "    covarian=sumprodXiYi/tamany\n",
    "    return(covarian)"
   ]
  },
  {
   "cell_type": "markdown",
   "id": "8114c62c",
   "metadata": {},
   "source": [
    "****Finalment calculem el  coef correlacio =CovariançaXY/(DesviacioX*DesviaciY)***"
   ]
  },
  {
   "cell_type": "code",
   "execution_count": 7,
   "id": "e30739f2",
   "metadata": {},
   "outputs": [],
   "source": [
    "\n",
    "def calc_coef_corr(parray1, parray2):\n",
    "    coefCorr = calc_covar(parray1,parray2) / (calc_devstd(parray1)* calc_devstd(parray2))\n",
    "    return (coefCorr)"
   ]
  },
  {
   "cell_type": "markdown",
   "id": "03d5ff6c",
   "metadata": {},
   "source": [
    "***Joc de proves i calcul, en el "
   ]
  },
  {
   "cell_type": "code",
   "execution_count": 23,
   "id": "9e1e29fd",
   "metadata": {},
   "outputs": [
    {
     "name": "stdout",
     "output_type": "stream",
     "text": [
      "Exemple 1 Series amb correlació forta\n",
      "Coeficient correlacio de la serie \n",
      "[53.9 55.5 59.6 63.  65.5 67.  66.4 65.6 66.5 68.9 73.1]\n",
      " i la serie \n",
      "[39.6 42.7 46.  49.9 52.6 55.2 55.6 55.6 56.2 59.6 61.7] \n",
      " es \n",
      "  0.9867043644878055\n",
      "Comprovacio amb la funcio corrcoef[[1.         0.98670436]\n",
      " [0.98670436 1.        ]]\n",
      "\n",
      "\n",
      "[53.9 55.5 59.6 63.  65.5 67.  66.4 65.6 66.5 68.9 73.1]\n",
      "[36.  80.  67.  54.  41.  21.   0.  98.  22.   1.  73.1]\n",
      "Exemple 1 Series sense correlacio\n",
      "Coeficient correlacio de la serie \n",
      " [53.9 55.5 59.6 63.  65.5 67.  66.4 65.6 66.5 68.9 73.1]\n",
      " i la serie\n",
      "  [36.  80.  67.  54.  41.  21.   0.  98.  22.   1.  73.1] \n",
      "es \n",
      "  -0.23187523228878626 \n",
      "Comprovacio amb la funcio corrcoef[[ 1.         -0.23187523]\n",
      " [-0.23187523  1.        ]]\n"
     ]
    }
   ],
   "source": [
    "\n",
    "\n",
    "\n",
    "#definom Joc de proves amb serie que representa % de persones que acaben estudis per nois i per noies\n",
    "\n",
    "grad_nois =np.array([39.6,42.7,46,49.9,52.6,55.2,55.6,55.6,56.2,59.6,61.7])\n",
    "grad_noies=np.array([53.9,55.5,59.6,63,65.5,67,66.4,65.6,66.5,68.9,73.1])\n",
    "print(\"Exemple 1 Series amb correlació forta\")\n",
    "print(\"Coeficient correlacio de la serie \\n{}\\n i la serie \\n{} \\n es \\n  {}\".format(grad_noies,grad_nois,calc_coef_corr(grad_noies,grad_nois)))\n",
    "print(\"Comprovacio amb la funcio corrcoef{}\\n\\n\".format(np.corrcoef(grad_noies,grad_nois)))\n",
    "\n",
    "#Sustituim una serie anterior per una de les random\n",
    "grad_rnd=np.empty(11,dtype=float)\n",
    "for i in range(10): # Afegim els elements\n",
    "    grad_rnd[i]=float(rd.randint(0,100))\n",
    "print(grad_noies)\n",
    "print (grad_rnd)\n",
    "print(\"Exemple 1 Series sense correlacio\")\n",
    "print(\"Coeficient correlacio de la serie \\n {}\\n i la serie\\n  {} \\nes \\n  {} \".format(grad_noies,grad_rnd,calc_coef_corr(grad_noies,grad_rnd)))\n",
    "print(\"Comprovacio amb la funcio corrcoef{}\".format(np.corrcoef(grad_noies,grad_rnd)))"
   ]
  },
  {
   "cell_type": "code",
   "execution_count": null,
   "id": "0ec957f6",
   "metadata": {},
   "outputs": [],
   "source": []
  }
 ],
 "metadata": {
  "kernelspec": {
   "display_name": "Python 3 (ipykernel)",
   "language": "python",
   "name": "python3"
  },
  "language_info": {
   "codemirror_mode": {
    "name": "ipython",
    "version": 3
   },
   "file_extension": ".py",
   "mimetype": "text/x-python",
   "name": "python",
   "nbconvert_exporter": "python",
   "pygments_lexer": "ipython3",
   "version": "3.9.7"
  }
 },
 "nbformat": 4,
 "nbformat_minor": 5
}
