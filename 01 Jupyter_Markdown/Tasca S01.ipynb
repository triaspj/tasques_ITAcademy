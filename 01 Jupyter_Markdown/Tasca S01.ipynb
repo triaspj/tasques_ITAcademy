{
 "cells": [
  {
   "cell_type": "markdown",
   "id": "2fe3ac22",
   "metadata": {},
   "source": [
    "# **Anaconda amb Python3 i Jupiter Noteebook**\n"
   ]
  },
  {
   "cell_type": "code",
   "execution_count": 1,
   "id": "bf71737c",
   "metadata": {},
   "outputs": [
    {
     "name": "stdout",
     "output_type": "stream",
     "text": [
      "Hello Jupyter\n"
     ]
    }
   ],
   "source": [
    "print('Hello Jupyter')"
   ]
  },
  {
   "cell_type": "code",
   "execution_count": 2,
   "id": "6faf58b4",
   "metadata": {},
   "outputs": [
    {
     "name": "stdout",
     "output_type": "stream",
     "text": [
      "5\n"
     ]
    }
   ],
   "source": [
    "x=5\n",
    "print(x)"
   ]
  },
  {
   "cell_type": "markdown",
   "id": "bd553eff",
   "metadata": {},
   "source": [
    "## *Cast enter a String & operacions basiques nombres i String*\n"
   ]
  },
  {
   "cell_type": "code",
   "execution_count": 3,
   "id": "b004e8ca",
   "metadata": {},
   "outputs": [
    {
     "name": "stdout",
     "output_type": "stream",
     "text": [
      "5alpha\n"
     ]
    }
   ],
   "source": [
    "print(str(x)+'alpha')"
   ]
  },
  {
   "cell_type": "code",
   "execution_count": 4,
   "id": "02494171",
   "metadata": {},
   "outputs": [],
   "source": [
    "x=x**2\n"
   ]
  },
  {
   "cell_type": "code",
   "execution_count": 5,
   "id": "12bdee48",
   "metadata": {},
   "outputs": [
    {
     "name": "stdout",
     "output_type": "stream",
     "text": [
      "25\n"
     ]
    }
   ],
   "source": [
    "print(x)\n"
   ]
  },
  {
   "cell_type": "code",
   "execution_count": 6,
   "id": "8135ded3",
   "metadata": {},
   "outputs": [],
   "source": [
    "y=x/3\n"
   ]
  },
  {
   "cell_type": "code",
   "execution_count": 7,
   "id": "ea380588",
   "metadata": {},
   "outputs": [
    {
     "name": "stdout",
     "output_type": "stream",
     "text": [
      "8.333333333333334\n"
     ]
    }
   ],
   "source": [
    "print (y)\n"
   ]
  },
  {
   "cell_type": "markdown",
   "id": "65efb7a5",
   "metadata": {},
   "source": [
    "## *Cast de float a integer*"
   ]
  },
  {
   "cell_type": "code",
   "execution_count": 8,
   "id": "a39d86a8",
   "metadata": {},
   "outputs": [],
   "source": [
    "z = int(y)"
   ]
  },
  {
   "cell_type": "code",
   "execution_count": 9,
   "id": "9db87534",
   "metadata": {},
   "outputs": [
    {
     "name": "stdout",
     "output_type": "stream",
     "text": [
      "8.333333333333334\n"
     ]
    }
   ],
   "source": [
    "print(y)"
   ]
  },
  {
   "cell_type": "code",
   "execution_count": 10,
   "id": "bf1aea1e",
   "metadata": {},
   "outputs": [
    {
     "name": "stdout",
     "output_type": "stream",
     "text": [
      "8\n"
     ]
    }
   ],
   "source": [
    "print (z)\n"
   ]
  },
  {
   "cell_type": "markdown",
   "id": "1dd4186f",
   "metadata": {},
   "source": [
    "## *For loop en un string*"
   ]
  },
  {
   "cell_type": "markdown",
   "id": "a7375628",
   "metadata": {},
   "source": [
    "* Definicion String"
   ]
  },
  {
   "cell_type": "markdown",
   "id": "7ddcf9c0",
   "metadata": {},
   "source": [
    "* recorrer el string "
   ]
  },
  {
   "cell_type": "markdown",
   "id": "07774318",
   "metadata": {},
   "source": [
    "* imprimir el string"
   ]
  },
  {
   "cell_type": "code",
   "execution_count": 11,
   "id": "d3e852e7",
   "metadata": {},
   "outputs": [],
   "source": [
    "myString=\"Joan Trias pou\""
   ]
  },
  {
   "cell_type": "code",
   "execution_count": 12,
   "id": "a900861d",
   "metadata": {},
   "outputs": [
    {
     "name": "stdout",
     "output_type": "stream",
     "text": [
      "J\n",
      "o\n",
      "a\n",
      "n\n",
      " \n",
      "T\n",
      "r\n",
      "i\n",
      "a\n",
      "s\n",
      " \n",
      "p\n",
      "o\n",
      "u\n"
     ]
    }
   ],
   "source": [
    "for letra in myString:\n",
    "    print(letra)\n"
   ]
  },
  {
   "cell_type": "markdown",
   "id": "16837bf0",
   "metadata": {},
   "source": [
    "# Insertant un logo"
   ]
  },
  {
   "cell_type": "markdown",
   "id": "ffdb063b",
   "metadata": {},
   "source": [
    "![Logo](Image01.png)"
   ]
  },
  {
   "cell_type": "code",
   "execution_count": 13,
   "id": "8cabb5a4",
   "metadata": {},
   "outputs": [],
   "source": [
    "g=y+5"
   ]
  },
  {
   "cell_type": "code",
   "execution_count": 14,
   "id": "9cf06116",
   "metadata": {},
   "outputs": [
    {
     "name": "stdout",
     "output_type": "stream",
     "text": [
      "13.333333333333334\n"
     ]
    }
   ],
   "source": [
    "print(g)"
   ]
  },
  {
   "cell_type": "code",
   "execution_count": null,
   "id": "f77f3361",
   "metadata": {},
   "outputs": [],
   "source": []
  }
 ],
 "metadata": {
  "kernelspec": {
   "display_name": "Python 3 (ipykernel)",
   "language": "python",
   "name": "python3"
  },
  "language_info": {
   "codemirror_mode": {
    "name": "ipython",
    "version": 3
   },
   "file_extension": ".py",
   "mimetype": "text/x-python",
   "name": "python",
   "nbconvert_exporter": "python",
   "pygments_lexer": "ipython3",
   "version": "3.9.7"
  }
 },
 "nbformat": 4,
 "nbformat_minor": 5
}
