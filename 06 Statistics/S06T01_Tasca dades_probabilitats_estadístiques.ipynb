{
 "cells": [
  {
   "cell_type": "markdown",
   "id": "5f9df195",
   "metadata": {},
   "source": [
    "## Nivell1\n",
    "### Exercici 1\n",
    "***Agafa un conjunt de dades de tema esportiu que t'agradi i selecciona un atribut del conjunt de dades. Calcula la moda, la mediana, la desviació estàndard i la mitjana aritmètica.***\n",
    "* Agafem la dataframe de jugadors de a Nba i extraiem una mostra simple\n",
    "* Com a atribut agafem l'alçada dels jugadors\n",
    "* Farem servir el modul stadístic ja que en exercicis anteriors ja varem calcular manualment algunes variables estadístiques. Podriem fer funcions per calcular cada variable estadistica , pero les faré per ala mitjana geomètrica i la harmònica\n",
    "\n"
   ]
  },
  {
   "cell_type": "code",
   "execution_count": 1,
   "id": "883077b2",
   "metadata": {},
   "outputs": [],
   "source": [
    "#Importem les llibreries i veiem diferents propietats\n",
    "import pandas as pd\n",
    "import math"
   ]
  },
  {
   "cell_type": "code",
   "execution_count": 2,
   "id": "35950477",
   "metadata": {},
   "outputs": [],
   "source": [
    "# llegim fitxer de dades\n",
    "nbaPlayersDf=pd.read_csv('all_seasons.csv',index_col=False,sep=',', encoding='utf8')"
   ]
  },
  {
   "cell_type": "code",
   "execution_count": 3,
   "id": "7d2684cd",
   "metadata": {},
   "outputs": [],
   "source": [
    "# definim la funció per extreure una mostra simple , feta a l'exercici anteior\n",
    "def creaMostraSimple(poblacioDF,mostraSize,inici): \n",
    "    final=len(poblacioDF.index)\n",
    "    columnas=poblacioDF.columns\n",
    "    mostraSimple=pd.DataFrame(columns=columnas) \n",
    "    rndPos = random.randint(inici, final) \n",
    "    for x in range(mostraSize): # iterem pel valor de la mostra\n",
    "        #controlem repeticions\n",
    "        while poblacioDF.iloc[rndPos]['num_fila'] in mostraSimple['num_fila']:\n",
    "            #si ja hi és tornem a generar un altre npmbre aleatori\n",
    "            #print(poblacioDF.iloc[rndPos]['num_fila'])\n",
    "            rndPos = random.randint(inici, final)\n",
    "            #print(\"random1:\"+str(rndPos))\n",
    "        mostraSimple=mostraSimple.append(poblacioDF.iloc[rndPos])\n",
    "    \n",
    "    return mostraSimple "
   ]
  },
  {
   "cell_type": "code",
   "execution_count": 4,
   "id": "13bf6773",
   "metadata": {},
   "outputs": [],
   "source": [
    "nbaPlayersDf.rename(columns={'Unnamed: 0':'num_fila'},inplace=True)\n"
   ]
  },
  {
   "cell_type": "code",
   "execution_count": 5,
   "id": "c3d53739",
   "metadata": {},
   "outputs": [
    {
     "name": "stdout",
     "output_type": "stream",
     "text": [
      "Entra el percentatge de la mostra de 11700 : 20\n",
      "La dimensió de la mistra serà de :2340\n"
     ]
    }
   ],
   "source": [
    "numRows=len(nbaPlayersDf.index)\n",
    "# Demanem el tamany del mostreig en % del total\n",
    "dimensioPct=float(input(\"Entra el percentatge de la mostra de \"+str(numRows)+ \" : \"))\n",
    "dimensio=int(numRows*dimensioPct/100)\n",
    "print (\"La dimensió de la mistra serà de :\" + str(dimensio))\n"
   ]
  },
  {
   "cell_type": "code",
   "execution_count": 6,
   "id": "d5cb39fb",
   "metadata": {},
   "outputs": [],
   "source": [
    "mostraNbaDf=creaMostraSimple(nbaPlayersDf,dimensio,0)"
   ]
  },
  {
   "cell_type": "code",
   "execution_count": 100,
   "id": "8f126449",
   "metadata": {},
   "outputs": [
    {
     "data": {
      "text/html": [
       "<div>\n",
       "<style scoped>\n",
       "    .dataframe tbody tr th:only-of-type {\n",
       "        vertical-align: middle;\n",
       "    }\n",
       "\n",
       "    .dataframe tbody tr th {\n",
       "        vertical-align: top;\n",
       "    }\n",
       "\n",
       "    .dataframe thead th {\n",
       "        text-align: right;\n",
       "    }\n",
       "</style>\n",
       "<table border=\"1\" class=\"dataframe\">\n",
       "  <thead>\n",
       "    <tr style=\"text-align: right;\">\n",
       "      <th></th>\n",
       "      <th>age</th>\n",
       "      <th>player_height</th>\n",
       "      <th>player_weight</th>\n",
       "      <th>pts</th>\n",
       "      <th>reb</th>\n",
       "      <th>ast</th>\n",
       "      <th>net_rating</th>\n",
       "      <th>oreb_pct</th>\n",
       "      <th>dreb_pct</th>\n",
       "      <th>usg_pct</th>\n",
       "      <th>ts_pct</th>\n",
       "      <th>ast_pct</th>\n",
       "    </tr>\n",
       "  </thead>\n",
       "  <tbody>\n",
       "    <tr>\n",
       "      <th>count</th>\n",
       "      <td>2340.000000</td>\n",
       "      <td>2340.000000</td>\n",
       "      <td>2340.000000</td>\n",
       "      <td>2340.000000</td>\n",
       "      <td>2340.000000</td>\n",
       "      <td>2340.000000</td>\n",
       "      <td>2340.000000</td>\n",
       "      <td>2340.000000</td>\n",
       "      <td>2340.000000</td>\n",
       "      <td>2340.000000</td>\n",
       "      <td>2340.000000</td>\n",
       "      <td>2340.000000</td>\n",
       "    </tr>\n",
       "    <tr>\n",
       "      <th>mean</th>\n",
       "      <td>27.142308</td>\n",
       "      <td>200.857000</td>\n",
       "      <td>100.451890</td>\n",
       "      <td>8.299017</td>\n",
       "      <td>3.551709</td>\n",
       "      <td>1.825128</td>\n",
       "      <td>-1.722949</td>\n",
       "      <td>0.055104</td>\n",
       "      <td>0.140771</td>\n",
       "      <td>0.186286</td>\n",
       "      <td>0.511635</td>\n",
       "      <td>0.129993</td>\n",
       "    </tr>\n",
       "    <tr>\n",
       "      <th>std</th>\n",
       "      <td>4.308021</td>\n",
       "      <td>9.086924</td>\n",
       "      <td>12.378602</td>\n",
       "      <td>6.042822</td>\n",
       "      <td>2.455591</td>\n",
       "      <td>1.774442</td>\n",
       "      <td>10.758337</td>\n",
       "      <td>0.046135</td>\n",
       "      <td>0.059145</td>\n",
       "      <td>0.052414</td>\n",
       "      <td>0.094831</td>\n",
       "      <td>0.091319</td>\n",
       "    </tr>\n",
       "    <tr>\n",
       "      <th>min</th>\n",
       "      <td>18.000000</td>\n",
       "      <td>160.020000</td>\n",
       "      <td>60.327736</td>\n",
       "      <td>0.000000</td>\n",
       "      <td>0.000000</td>\n",
       "      <td>0.000000</td>\n",
       "      <td>-100.200000</td>\n",
       "      <td>0.000000</td>\n",
       "      <td>0.000000</td>\n",
       "      <td>0.000000</td>\n",
       "      <td>0.000000</td>\n",
       "      <td>0.000000</td>\n",
       "    </tr>\n",
       "    <tr>\n",
       "      <th>25%</th>\n",
       "      <td>24.000000</td>\n",
       "      <td>195.580000</td>\n",
       "      <td>90.718400</td>\n",
       "      <td>3.775000</td>\n",
       "      <td>1.800000</td>\n",
       "      <td>0.600000</td>\n",
       "      <td>-6.000000</td>\n",
       "      <td>0.022000</td>\n",
       "      <td>0.097000</td>\n",
       "      <td>0.150000</td>\n",
       "      <td>0.481000</td>\n",
       "      <td>0.067000</td>\n",
       "    </tr>\n",
       "    <tr>\n",
       "      <th>50%</th>\n",
       "      <td>27.000000</td>\n",
       "      <td>203.200000</td>\n",
       "      <td>99.790240</td>\n",
       "      <td>6.700000</td>\n",
       "      <td>3.000000</td>\n",
       "      <td>1.300000</td>\n",
       "      <td>-1.100000</td>\n",
       "      <td>0.042000</td>\n",
       "      <td>0.133000</td>\n",
       "      <td>0.183000</td>\n",
       "      <td>0.525000</td>\n",
       "      <td>0.102000</td>\n",
       "    </tr>\n",
       "    <tr>\n",
       "      <th>75%</th>\n",
       "      <td>30.000000</td>\n",
       "      <td>208.280000</td>\n",
       "      <td>108.862080</td>\n",
       "      <td>11.625000</td>\n",
       "      <td>4.600000</td>\n",
       "      <td>2.500000</td>\n",
       "      <td>3.300000</td>\n",
       "      <td>0.084000</td>\n",
       "      <td>0.178000</td>\n",
       "      <td>0.219000</td>\n",
       "      <td>0.558000</td>\n",
       "      <td>0.179000</td>\n",
       "    </tr>\n",
       "    <tr>\n",
       "      <th>max</th>\n",
       "      <td>41.000000</td>\n",
       "      <td>228.600000</td>\n",
       "      <td>147.417400</td>\n",
       "      <td>34.300000</td>\n",
       "      <td>16.100000</td>\n",
       "      <td>11.500000</td>\n",
       "      <td>150.000000</td>\n",
       "      <td>1.000000</td>\n",
       "      <td>0.444000</td>\n",
       "      <td>0.595000</td>\n",
       "      <td>1.025000</td>\n",
       "      <td>0.480000</td>\n",
       "    </tr>\n",
       "  </tbody>\n",
       "</table>\n",
       "</div>"
      ],
      "text/plain": [
       "               age  player_height  player_weight          pts          reb  \\\n",
       "count  2340.000000    2340.000000    2340.000000  2340.000000  2340.000000   \n",
       "mean     27.142308     200.857000     100.451890     8.299017     3.551709   \n",
       "std       4.308021       9.086924      12.378602     6.042822     2.455591   \n",
       "min      18.000000     160.020000      60.327736     0.000000     0.000000   \n",
       "25%      24.000000     195.580000      90.718400     3.775000     1.800000   \n",
       "50%      27.000000     203.200000      99.790240     6.700000     3.000000   \n",
       "75%      30.000000     208.280000     108.862080    11.625000     4.600000   \n",
       "max      41.000000     228.600000     147.417400    34.300000    16.100000   \n",
       "\n",
       "               ast   net_rating     oreb_pct     dreb_pct      usg_pct  \\\n",
       "count  2340.000000  2340.000000  2340.000000  2340.000000  2340.000000   \n",
       "mean      1.825128    -1.722949     0.055104     0.140771     0.186286   \n",
       "std       1.774442    10.758337     0.046135     0.059145     0.052414   \n",
       "min       0.000000  -100.200000     0.000000     0.000000     0.000000   \n",
       "25%       0.600000    -6.000000     0.022000     0.097000     0.150000   \n",
       "50%       1.300000    -1.100000     0.042000     0.133000     0.183000   \n",
       "75%       2.500000     3.300000     0.084000     0.178000     0.219000   \n",
       "max      11.500000   150.000000     1.000000     0.444000     0.595000   \n",
       "\n",
       "            ts_pct      ast_pct  \n",
       "count  2340.000000  2340.000000  \n",
       "mean      0.511635     0.129993  \n",
       "std       0.094831     0.091319  \n",
       "min       0.000000     0.000000  \n",
       "25%       0.481000     0.067000  \n",
       "50%       0.525000     0.102000  \n",
       "75%       0.558000     0.179000  \n",
       "max       1.025000     0.480000  "
      ]
     },
     "execution_count": 100,
     "metadata": {},
     "output_type": "execute_result"
    }
   ],
   "source": [
    "mostraNbaDf.describe()"
   ]
  },
  {
   "cell_type": "code",
   "execution_count": 28,
   "id": "532926db",
   "metadata": {},
   "outputs": [],
   "source": [
    "#Importem modul stadistic\n",
    "import statistics as st"
   ]
  },
  {
   "cell_type": "code",
   "execution_count": 72,
   "id": "120d79c3",
   "metadata": {},
   "outputs": [],
   "source": [
    "# Per fer servir una funcio que rep una llista i retorna un un diccionari amb\n",
    "# les variables estadisticas demanades\n",
    "def varStatist(mostraDf):\n",
    "    statisId=[\"Mitja\",\"Mediana\",\"Moda\",\"Desv. Std: \"]\n",
    "    statisVal=[round(st.mean(mostraDf),2),round(st.median(mostraDf),2),round(st.mode(mostraDf),2),round(st.stdev(mostraDf),2)]\n",
    "    statDict=dict(zip(statisId,statisVal))\n",
    "    return statDict"
   ]
  },
  {
   "cell_type": "code",
   "execution_count": 73,
   "id": "a033e682",
   "metadata": {},
   "outputs": [
    {
     "name": "stdout",
     "output_type": "stream",
     "text": [
      "Les dades estdistiques del atribut ALÇADA de la mostra de \n",
      " els jugadors de la nba son:\n",
      "{'Mitja': 200.86, 'Mediana': 203.2, 'Moda': 205.74, 'Desv. Std: ': 9.09}\n"
     ]
    }
   ],
   "source": [
    "print (\"Les dades estdistiques del atribut ALÇADA de la mostra de \\n els jugadors de la nba son:\")\n",
    "print(varStatist(mostraNbaDf['player_height']))"
   ]
  },
  {
   "cell_type": "markdown",
   "id": "faa3169c",
   "metadata": {},
   "source": [
    "### Exercici 2\n",
    "***Continuant amb les dades de tema esportiu, selecciona dos atributs i calcula'n la seva correlació.***\n",
    "* Seleccionem els atributs d'alçada i assistencies per partit per veure com es correlacionen \n",
    " "
   ]
  },
  {
   "cell_type": "code",
   "execution_count": 74,
   "id": "12b489eb",
   "metadata": {},
   "outputs": [],
   "source": [
    "#fem servir la llibreria numpy per fer servir la formula de la correlacio\n",
    "import numpy as np\n"
   ]
  },
  {
   "cell_type": "code",
   "execution_count": 75,
   "id": "960098e3",
   "metadata": {},
   "outputs": [
    {
     "data": {
      "text/plain": [
       "-0.4752646472508192"
      ]
     },
     "execution_count": 75,
     "metadata": {},
     "output_type": "execute_result"
    }
   ],
   "source": [
    "mostraNbaDf.corr().loc['player_height','ast']"
   ]
  },
  {
   "cell_type": "markdown",
   "id": "7f261bdc",
   "metadata": {},
   "source": [
    "* Conclusió:\n",
    "\n",
    "    ***Es una correlació negativa , es a dir a mes alçada menys asistencies***\n",
    "    \n",
    "    ***Ho podem visualitzar ràpidament en un scatter plot***"
   ]
  },
  {
   "cell_type": "code",
   "execution_count": 76,
   "id": "38722c2d",
   "metadata": {},
   "outputs": [
    {
     "data": {
      "text/plain": [
       "<matplotlib.collections.PathCollection at 0x13539ea3b20>"
      ]
     },
     "execution_count": 76,
     "metadata": {},
     "output_type": "execute_result"
    },
    {
     "data": {
      "image/png": "[encoded data removed]",
      "text/plain": [
       "<Figure size 432x288 with 1 Axes>"
      ]
     },
     "metadata": {
      "needs_background": "light"
     },
     "output_type": "display_data"
    }
   ],
   "source": [
    "import matplotlib.pyplot as plt\n",
    "\n",
    "\n",
    "plt.scatter(mostraNbaDf['player_height'], mostraNbaDf['ast'],s=4)"
   ]
  },
  {
   "cell_type": "raw",
   "id": "454ac47c",
   "metadata": {},
   "source": []
  },
  {
   "cell_type": "markdown",
   "id": "eeea390f",
   "metadata": {},
   "source": [
    " ## Nivell2\n",
    "### Exercici 3\n",
    "***Continuant amb les dades de tema esportiu, calcula la correlació de tots els atributs entre sí i representa'ls en una matriu amb diferents colors d'intensitat.***\n",
    "* Farem servir el mètode .corr del la llibreria pandas per trobar totes les correlacions\n",
    "* Posteriorment generem un mapa de calor amb la funcio sns.heatmap de la llibreria seaborn \n"
   ]
  },
  {
   "cell_type": "code",
   "execution_count": 77,
   "id": "5e7b571a",
   "metadata": {},
   "outputs": [],
   "source": [
    "import seaborn as sns\n",
    "import matplotlib.pyplot as plt\n",
    "import pandas as pd\n"
   ]
  },
  {
   "cell_type": "code",
   "execution_count": 78,
   "id": "8be76ea0",
   "metadata": {},
   "outputs": [],
   "source": [
    "columns=mostraNbaDf.columns\n"
   ]
  },
  {
   "cell_type": "code",
   "execution_count": 79,
   "id": "0047df48",
   "metadata": {},
   "outputs": [
    {
     "data": {
      "text/plain": [
       "Index(['num_fila', 'player_name', 'team_abbreviation', 'age', 'player_height',\n",
       "       'player_weight', 'college', 'country', 'draft_year', 'draft_round',\n",
       "       'draft_number', 'gp', 'pts', 'reb', 'ast', 'net_rating', 'oreb_pct',\n",
       "       'dreb_pct', 'usg_pct', 'ts_pct', 'ast_pct', 'season'],\n",
       "      dtype='object')"
      ]
     },
     "execution_count": 79,
     "metadata": {},
     "output_type": "execute_result"
    }
   ],
   "source": [
    "columns"
   ]
  },
  {
   "cell_type": "code",
   "execution_count": 80,
   "id": "cb393f2a",
   "metadata": {},
   "outputs": [],
   "source": [
    "mostraNbaSliceDf=mostraNbaDf.reindex(columns=['team_abbreviation', 'age', 'player_height',\n",
    "       'player_weight', 'college', 'country', 'draft_year', 'draft_round',\n",
    "       'draft_number', 'gp', 'pts', 'reb', 'ast', 'net_rating', 'oreb_pct',\n",
    "       'dreb_pct', 'usg_pct', 'ts_pct', 'ast_pct', 'season'])"
   ]
  },
  {
   "cell_type": "code",
   "execution_count": 81,
   "id": "9fdddf58",
   "metadata": {},
   "outputs": [],
   "source": [
    "mostraNbaCorr=mostraNbaSliceDf.corr(method=\"pearson\")"
   ]
  },
  {
   "cell_type": "code",
   "execution_count": 82,
   "id": "a724e8d0",
   "metadata": {},
   "outputs": [
    {
     "data": {
      "text/html": [
       "<div>\n",
       "<style scoped>\n",
       "    .dataframe tbody tr th:only-of-type {\n",
       "        vertical-align: middle;\n",
       "    }\n",
       "\n",
       "    .dataframe tbody tr th {\n",
       "        vertical-align: top;\n",
       "    }\n",
       "\n",
       "    .dataframe thead th {\n",
       "        text-align: right;\n",
       "    }\n",
       "</style>\n",
       "<table border=\"1\" class=\"dataframe\">\n",
       "  <thead>\n",
       "    <tr style=\"text-align: right;\">\n",
       "      <th></th>\n",
       "      <th>age</th>\n",
       "      <th>player_height</th>\n",
       "      <th>player_weight</th>\n",
       "      <th>pts</th>\n",
       "      <th>reb</th>\n",
       "      <th>ast</th>\n",
       "      <th>net_rating</th>\n",
       "      <th>oreb_pct</th>\n",
       "      <th>dreb_pct</th>\n",
       "      <th>usg_pct</th>\n",
       "      <th>ts_pct</th>\n",
       "      <th>ast_pct</th>\n",
       "    </tr>\n",
       "  </thead>\n",
       "  <tbody>\n",
       "    <tr>\n",
       "      <th>age</th>\n",
       "      <td>1.000000</td>\n",
       "      <td>-0.020873</td>\n",
       "      <td>0.031495</td>\n",
       "      <td>-0.015032</td>\n",
       "      <td>0.014193</td>\n",
       "      <td>0.092921</td>\n",
       "      <td>0.094556</td>\n",
       "      <td>-0.061988</td>\n",
       "      <td>-0.008180</td>\n",
       "      <td>-0.152538</td>\n",
       "      <td>0.030024</td>\n",
       "      <td>0.070294</td>\n",
       "    </tr>\n",
       "    <tr>\n",
       "      <th>player_height</th>\n",
       "      <td>-0.020873</td>\n",
       "      <td>1.000000</td>\n",
       "      <td>0.822668</td>\n",
       "      <td>-0.091756</td>\n",
       "      <td>0.393468</td>\n",
       "      <td>-0.475265</td>\n",
       "      <td>0.001393</td>\n",
       "      <td>0.545041</td>\n",
       "      <td>0.647614</td>\n",
       "      <td>-0.122767</td>\n",
       "      <td>0.060742</td>\n",
       "      <td>-0.636555</td>\n",
       "    </tr>\n",
       "    <tr>\n",
       "      <th>player_weight</th>\n",
       "      <td>0.031495</td>\n",
       "      <td>0.822668</td>\n",
       "      <td>1.000000</td>\n",
       "      <td>-0.052226</td>\n",
       "      <td>0.418095</td>\n",
       "      <td>-0.408019</td>\n",
       "      <td>0.008011</td>\n",
       "      <td>0.575095</td>\n",
       "      <td>0.638893</td>\n",
       "      <td>-0.076134</td>\n",
       "      <td>0.057218</td>\n",
       "      <td>-0.567625</td>\n",
       "    </tr>\n",
       "    <tr>\n",
       "      <th>pts</th>\n",
       "      <td>-0.015032</td>\n",
       "      <td>-0.091756</td>\n",
       "      <td>-0.052226</td>\n",
       "      <td>1.000000</td>\n",
       "      <td>0.614351</td>\n",
       "      <td>0.659241</td>\n",
       "      <td>0.219934</td>\n",
       "      <td>-0.150894</td>\n",
       "      <td>0.027238</td>\n",
       "      <td>0.665974</td>\n",
       "      <td>0.380602</td>\n",
       "      <td>0.365401</td>\n",
       "    </tr>\n",
       "    <tr>\n",
       "      <th>reb</th>\n",
       "      <td>0.014193</td>\n",
       "      <td>0.393468</td>\n",
       "      <td>0.418095</td>\n",
       "      <td>0.614351</td>\n",
       "      <td>1.000000</td>\n",
       "      <td>0.237026</td>\n",
       "      <td>0.190551</td>\n",
       "      <td>0.358313</td>\n",
       "      <td>0.626805</td>\n",
       "      <td>0.240751</td>\n",
       "      <td>0.293226</td>\n",
       "      <td>-0.049261</td>\n",
       "    </tr>\n",
       "    <tr>\n",
       "      <th>ast</th>\n",
       "      <td>0.092921</td>\n",
       "      <td>-0.475265</td>\n",
       "      <td>-0.408019</td>\n",
       "      <td>0.659241</td>\n",
       "      <td>0.237026</td>\n",
       "      <td>1.000000</td>\n",
       "      <td>0.171499</td>\n",
       "      <td>-0.344082</td>\n",
       "      <td>-0.228410</td>\n",
       "      <td>0.396961</td>\n",
       "      <td>0.191132</td>\n",
       "      <td>0.836090</td>\n",
       "    </tr>\n",
       "    <tr>\n",
       "      <th>net_rating</th>\n",
       "      <td>0.094556</td>\n",
       "      <td>0.001393</td>\n",
       "      <td>0.008011</td>\n",
       "      <td>0.219934</td>\n",
       "      <td>0.190551</td>\n",
       "      <td>0.171499</td>\n",
       "      <td>1.000000</td>\n",
       "      <td>0.084027</td>\n",
       "      <td>0.070922</td>\n",
       "      <td>0.040244</td>\n",
       "      <td>0.192259</td>\n",
       "      <td>0.079190</td>\n",
       "    </tr>\n",
       "    <tr>\n",
       "      <th>oreb_pct</th>\n",
       "      <td>-0.061988</td>\n",
       "      <td>0.545041</td>\n",
       "      <td>0.575095</td>\n",
       "      <td>-0.150894</td>\n",
       "      <td>0.358313</td>\n",
       "      <td>-0.344082</td>\n",
       "      <td>0.084027</td>\n",
       "      <td>1.000000</td>\n",
       "      <td>0.591349</td>\n",
       "      <td>-0.102141</td>\n",
       "      <td>-0.011644</td>\n",
       "      <td>-0.422428</td>\n",
       "    </tr>\n",
       "    <tr>\n",
       "      <th>dreb_pct</th>\n",
       "      <td>-0.008180</td>\n",
       "      <td>0.647614</td>\n",
       "      <td>0.638893</td>\n",
       "      <td>0.027238</td>\n",
       "      <td>0.626805</td>\n",
       "      <td>-0.228410</td>\n",
       "      <td>0.070922</td>\n",
       "      <td>0.591349</td>\n",
       "      <td>1.000000</td>\n",
       "      <td>-0.028990</td>\n",
       "      <td>0.067153</td>\n",
       "      <td>-0.349591</td>\n",
       "    </tr>\n",
       "    <tr>\n",
       "      <th>usg_pct</th>\n",
       "      <td>-0.152538</td>\n",
       "      <td>-0.122767</td>\n",
       "      <td>-0.076134</td>\n",
       "      <td>0.665974</td>\n",
       "      <td>0.240751</td>\n",
       "      <td>0.396961</td>\n",
       "      <td>0.040244</td>\n",
       "      <td>-0.102141</td>\n",
       "      <td>-0.028990</td>\n",
       "      <td>1.000000</td>\n",
       "      <td>0.133961</td>\n",
       "      <td>0.353404</td>\n",
       "    </tr>\n",
       "    <tr>\n",
       "      <th>ts_pct</th>\n",
       "      <td>0.030024</td>\n",
       "      <td>0.060742</td>\n",
       "      <td>0.057218</td>\n",
       "      <td>0.380602</td>\n",
       "      <td>0.293226</td>\n",
       "      <td>0.191132</td>\n",
       "      <td>0.192259</td>\n",
       "      <td>-0.011644</td>\n",
       "      <td>0.067153</td>\n",
       "      <td>0.133961</td>\n",
       "      <td>1.000000</td>\n",
       "      <td>0.052476</td>\n",
       "    </tr>\n",
       "    <tr>\n",
       "      <th>ast_pct</th>\n",
       "      <td>0.070294</td>\n",
       "      <td>-0.636555</td>\n",
       "      <td>-0.567625</td>\n",
       "      <td>0.365401</td>\n",
       "      <td>-0.049261</td>\n",
       "      <td>0.836090</td>\n",
       "      <td>0.079190</td>\n",
       "      <td>-0.422428</td>\n",
       "      <td>-0.349591</td>\n",
       "      <td>0.353404</td>\n",
       "      <td>0.052476</td>\n",
       "      <td>1.000000</td>\n",
       "    </tr>\n",
       "  </tbody>\n",
       "</table>\n",
       "</div>"
      ],
      "text/plain": [
       "                    age  player_height  player_weight       pts       reb  \\\n",
       "age            1.000000      -0.020873       0.031495 -0.015032  0.014193   \n",
       "player_height -0.020873       1.000000       0.822668 -0.091756  0.393468   \n",
       "player_weight  0.031495       0.822668       1.000000 -0.052226  0.418095   \n",
       "pts           -0.015032      -0.091756      -0.052226  1.000000  0.614351   \n",
       "reb            0.014193       0.393468       0.418095  0.614351  1.000000   \n",
       "ast            0.092921      -0.475265      -0.408019  0.659241  0.237026   \n",
       "net_rating     0.094556       0.001393       0.008011  0.219934  0.190551   \n",
       "oreb_pct      -0.061988       0.545041       0.575095 -0.150894  0.358313   \n",
       "dreb_pct      -0.008180       0.647614       0.638893  0.027238  0.626805   \n",
       "usg_pct       -0.152538      -0.122767      -0.076134  0.665974  0.240751   \n",
       "ts_pct         0.030024       0.060742       0.057218  0.380602  0.293226   \n",
       "ast_pct        0.070294      -0.636555      -0.567625  0.365401 -0.049261   \n",
       "\n",
       "                    ast  net_rating  oreb_pct  dreb_pct   usg_pct    ts_pct  \\\n",
       "age            0.092921    0.094556 -0.061988 -0.008180 -0.152538  0.030024   \n",
       "player_height -0.475265    0.001393  0.545041  0.647614 -0.122767  0.060742   \n",
       "player_weight -0.408019    0.008011  0.575095  0.638893 -0.076134  0.057218   \n",
       "pts            0.659241    0.219934 -0.150894  0.027238  0.665974  0.380602   \n",
       "reb            0.237026    0.190551  0.358313  0.626805  0.240751  0.293226   \n",
       "ast            1.000000    0.171499 -0.344082 -0.228410  0.396961  0.191132   \n",
       "net_rating     0.171499    1.000000  0.084027  0.070922  0.040244  0.192259   \n",
       "oreb_pct      -0.344082    0.084027  1.000000  0.591349 -0.102141 -0.011644   \n",
       "dreb_pct      -0.228410    0.070922  0.591349  1.000000 -0.028990  0.067153   \n",
       "usg_pct        0.396961    0.040244 -0.102141 -0.028990  1.000000  0.133961   \n",
       "ts_pct         0.191132    0.192259 -0.011644  0.067153  0.133961  1.000000   \n",
       "ast_pct        0.836090    0.079190 -0.422428 -0.349591  0.353404  0.052476   \n",
       "\n",
       "                ast_pct  \n",
       "age            0.070294  \n",
       "player_height -0.636555  \n",
       "player_weight -0.567625  \n",
       "pts            0.365401  \n",
       "reb           -0.049261  \n",
       "ast            0.836090  \n",
       "net_rating     0.079190  \n",
       "oreb_pct      -0.422428  \n",
       "dreb_pct      -0.349591  \n",
       "usg_pct        0.353404  \n",
       "ts_pct         0.052476  \n",
       "ast_pct        1.000000  "
      ]
     },
     "execution_count": 82,
     "metadata": {},
     "output_type": "execute_result"
    }
   ],
   "source": [
    "mostraNbaCorr"
   ]
  },
  {
   "cell_type": "code",
   "execution_count": 85,
   "id": "deebc0c0",
   "metadata": {},
   "outputs": [
    {
     "data": {
      "image/png": "[encoded data removed]",
      "text/plain": [
       "<Figure size 1440x720 with 2 Axes>"
      ]
     },
     "metadata": {
      "needs_background": "light"
     },
     "output_type": "display_data"
    }
   ],
   "source": [
    "#Configurem el el grafic seaborn perque mostri la correlació dins la seva cel.la\n",
    "# Puts balus forts i vcermells forts son els de mes alta crrelaciio\n",
    "plt.figure(figsize =(20, 10))\n",
    "sns.heatmap(mostraNbaCorr,  cmap='coolwarm',annot=True, annot_kws={\"size\": 8}, fmt='.3f', \n",
    "            robust=True, linewidths=1.5, linecolor=\"w\")\n",
    "plt.show()\n"
   ]
  },
  {
   "cell_type": "markdown",
   "id": "d9065beb",
   "metadata": {},
   "source": [
    "* Conclusions\n",
    "\n",
    "    ***Podem veure que hi han atributs molt correlacionats ( alçada i pes )***\n",
    "    ***pero que no aporten massa infoirmació ja ques son evidents***\n",
    "\n",
    "    ***La alçada està clarament correlacionada positivament tant amb els***\n",
    "    ***rebots ofensius com defensius***\n",
    "    ***a mes alçada i pes mes rebots***\n",
    "    \n",
    "    ***Per contra alçada i pes està clarament correlacionada negativament*** \n",
    "    ***amb les assitencies i els % d'assistències***\n",
    "    ***a mes alçada i pes menys assitencies i % d'assitencies***\n",
    "        \n",
    "    ***Finalment veiem una forta correlacio positiva entre punts anotats***\n",
    "    ***i rebots i assistències*** \n",
    "    ***Si be la correlacio de rebots i punts semblaría raonable ,***\n",
    "    ***en canvi la d'assitencies i punts no ho es tant****\n",
    "    ***es a dir un jugador que dona moltes assitencies normalment es bon anotador***                                                                                                                                       "
   ]
  },
  {
   "cell_type": "markdown",
   "id": "4121b481",
   "metadata": {},
   "source": [
    "## Nivell3\n",
    "### Exercici 4\n",
    "***Continuant amb les dades de tema esportiu, selecciona un atribut i calcula la mitjana geomètrica i la mitjana harmònica.***\n",
    "\n"
   ]
  },
  {
   "attachments": {
    "imatge.png": {
     "image/png": "[encoded data removed]"
    }
   },
   "cell_type": "markdown",
   "id": "28686066",
   "metadata": {},
   "source": [
    "* Mitjana  geométrica\n",
    "***La serva formula es:***\n",
    "\n",
    "![imatge.png](attachment:imatge.png)\n"
   ]
  },
  {
   "cell_type": "code",
   "execution_count": 86,
   "id": "b801d474",
   "metadata": {},
   "outputs": [
    {
     "name": "stdout",
     "output_type": "stream",
     "text": [
      "La mitjana geometrica es : inf\n"
     ]
    }
   ],
   "source": [
    "import math\n",
    "\n",
    "elemProducte=1\n",
    "for elem in mostraNbaDf['player_height']:\n",
    "        elemProducte=elemProducte*elem\n",
    "\n",
    "listsize=mostraNbaDf['player_height'].size\n",
    "\n",
    "mitjanaGeo=(float)(math.pow(elemProducte,(1/listsize)))\n",
    "print(\"La mitjana geometrica es : \" + str(mitjanaGeo))"
   ]
  },
  {
   "cell_type": "markdown",
   "id": "d5080f99",
   "metadata": {},
   "source": [
    "***El calcul del producte dels elements de la serie es massa gran***\n",
    "\n",
    "***Explorem un metode alternatiu***\n",
    "\n",
    "***If you are willing to use numpy, use np.exp(np.mean(np.log(R)))***"
   ]
  },
  {
   "cell_type": "code",
   "execution_count": 88,
   "id": "78aac1a3",
   "metadata": {},
   "outputs": [],
   "source": [
    "import numpy as np\n"
   ]
  },
  {
   "cell_type": "code",
   "execution_count": 89,
   "id": "2f939f12",
   "metadata": {},
   "outputs": [],
   "source": [
    "mitjanaGeo=round(np.exp(np.mean(np.log(mostraNbaDf['player_height']))),2)"
   ]
  },
  {
   "cell_type": "markdown",
   "id": "95beddd3",
   "metadata": {},
   "source": [
    "***Fem servir la funcio usada en l'exercici 1 per afegir la mitjana geometrica al diccionari***"
   ]
  },
  {
   "cell_type": "code",
   "execution_count": 90,
   "id": "0c6f2a1f",
   "metadata": {},
   "outputs": [],
   "source": [
    "statsHeightDict=varStatist(mostraNbaDf['player_height'])"
   ]
  },
  {
   "cell_type": "code",
   "execution_count": 91,
   "id": "53f36a6f",
   "metadata": {},
   "outputs": [
    {
     "name": "stdout",
     "output_type": "stream",
     "text": [
      "Les dades estadistiques el l'alçada  de la moistra de jugadors de la NBA son:\n",
      "\n",
      "{'Mitja': 200.86, 'Mediana': 203.2, 'Moda': 205.74, 'Desv. Std: ': 9.09, 'Mitjana Geometrica': 200.65}\n"
     ]
    }
   ],
   "source": [
    "# afegim la mitjana geometrica\n",
    "statsHeightDict['Mitjana Geometrica']=mitjanaGeo\n",
    "print(\"Les dades estadistiques el l'alçada  de la moistra de jugadors de la NBA son:\\n\")\n",
    "print(statsHeightDict)"
   ]
  },
  {
   "cell_type": "markdown",
   "id": "bc14a37e",
   "metadata": {},
   "source": [
    "***Podem veure que la mitjana geometrica es molt propera a la Mitja***"
   ]
  },
  {
   "cell_type": "markdown",
   "id": "6bf6d506",
   "metadata": {},
   "source": [
    "* Alternativament podem fer servir la llibreria statistics->geometric_mean()"
   ]
  },
  {
   "cell_type": "code",
   "execution_count": 92,
   "id": "0d4c944d",
   "metadata": {},
   "outputs": [],
   "source": [
    "# Importem la llibreria statistics\n",
    "import statistics as stats"
   ]
  },
  {
   "cell_type": "code",
   "execution_count": 93,
   "id": "629be745",
   "metadata": {},
   "outputs": [
    {
     "name": "stdout",
     "output_type": "stream",
     "text": [
      "200.65\n"
     ]
    }
   ],
   "source": [
    "print(round(stats.geometric_mean(mostraNbaDf['player_height']),2))"
   ]
  },
  {
   "cell_type": "code",
   "execution_count": null,
   "id": "eb3a76d8",
   "metadata": {},
   "outputs": [],
   "source": []
  },
  {
   "cell_type": "markdown",
   "id": "632feeb3",
   "metadata": {},
   "source": [
    "* Mitjana  armònica\n",
    "***La serva formula es:***"
   ]
  },
  {
   "attachments": {
    "imatge.png": {
     "image/png": "[encoded data removed]"
    }
   },
   "cell_type": "markdown",
   "id": "c71af989",
   "metadata": {},
   "source": [
    "![imatge.png](attachment:imatge.png)\n"
   ]
  },
  {
   "cell_type": "code",
   "execution_count": 94,
   "id": "c658c702",
   "metadata": {},
   "outputs": [],
   "source": [
    "#definim una funciuó per calcular la mitjana harmònica\n",
    "# se li pasa la llista i la recorrem per calcular la suma dels 1/xi\n",
    "def mitjanaHarm(llista):\n",
    "    elemProducte=0\n",
    "    listsize=llista.size\n",
    "    for elem in llista:\n",
    "        elemProducte=elemProducte+(1/elem)\n",
    "    \n",
    "    mitjanaHarm=(listsize/elemProducte)\n",
    "    \n",
    "    return(mitjanaHarm)"
   ]
  },
  {
   "cell_type": "code",
   "execution_count": 95,
   "id": "f4e5affd",
   "metadata": {},
   "outputs": [
    {
     "name": "stdout",
     "output_type": "stream",
     "text": [
      "200.44\n"
     ]
    }
   ],
   "source": [
    "print(round(mitjanaHarm(mostraNbaDf['player_height']),2))"
   ]
  },
  {
   "cell_type": "code",
   "execution_count": 96,
   "id": "4510ebbb",
   "metadata": {},
   "outputs": [],
   "source": [
    "statsHeightDict['Mitjana harmònica']=round(mitjanaHarm(mostraNbaDf['player_height']),2)"
   ]
  },
  {
   "cell_type": "code",
   "execution_count": 97,
   "id": "b1ea0396",
   "metadata": {},
   "outputs": [
    {
     "name": "stdout",
     "output_type": "stream",
     "text": [
      "Les dades estadistiques el l'alçada  de la mostra de jugadors de la NBA son:\n",
      "\n",
      "{'Mitja': 200.86, 'Mediana': 203.2, 'Moda': 205.74, 'Desv. Std: ': 9.09, 'Mitjana Geometrica': 200.65, 'Mitjana harmònica': 200.44}\n"
     ]
    }
   ],
   "source": [
    "print(\"Les dades estadistiques el l'alçada  de la mostra de jugadors de la NBA son:\\n\")\n",
    "print(statsHeightDict)"
   ]
  },
  {
   "cell_type": "markdown",
   "id": "e59a6706",
   "metadata": {},
   "source": [
    "* Alternativament podem fer servir la llibreria statistics->harmonic_mean()"
   ]
  },
  {
   "cell_type": "code",
   "execution_count": 98,
   "id": "a7ea343a",
   "metadata": {},
   "outputs": [
    {
     "name": "stdout",
     "output_type": "stream",
     "text": [
      "200.44\n"
     ]
    }
   ],
   "source": [
    "print(round(stats.harmonic_mean(mostraNbaDf['player_height']),2))"
   ]
  },
  {
   "cell_type": "code",
   "execution_count": null,
   "id": "9758c005",
   "metadata": {},
   "outputs": [],
   "source": []
  },
  {
   "cell_type": "code",
   "execution_count": null,
   "id": "9eaa3362",
   "metadata": {},
   "outputs": [],
   "source": []
  }
 ],
 "metadata": {
  "kernelspec": {
   "display_name": "Python 3 (ipykernel)",
   "language": "python",
   "name": "python3"
  },
  "language_info": {
   "codemirror_mode": {
    "name": "ipython",
    "version": 3
   },
   "file_extension": ".py",
   "mimetype": "text/x-python",
   "name": "python",
   "nbconvert_exporter": "python",
   "pygments_lexer": "ipython3",
   "version": "3.9.7"
  }
 },
 "nbformat": 4,
 "nbformat_minor": 5
}
