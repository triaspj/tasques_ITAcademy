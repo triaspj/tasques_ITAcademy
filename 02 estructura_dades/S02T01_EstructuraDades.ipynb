{
 "cells": [
  {
   "cell_type": "markdown",
   "id": "5e448ece",
   "metadata": {},
   "source": [
    "# S02 T01: Estructura de dades\n",
    "## *Exercici 1 Definir llista*"
   ]
  },
  {
   "cell_type": "code",
   "execution_count": 2,
   "id": "4cd11066",
   "metadata": {},
   "outputs": [
    {
     "name": "stdout",
     "output_type": "stream",
     "text": [
      "[['Gener', 'Febrer', 'Març'], ['Abril', 'Maig', 'Juny'], ['Juliol', 'Agost', 'Setembre'], ['Octubre', 'Novembre', 'Dessembre']]\n"
     ]
    }
   ],
   "source": [
    "listTrimestre=[[\"Gener\",\"Febrer\",\"Març\"],[\"Abril\",\"Maig\",\"Juny\"],[\"Juliol\",\"Agost\",\"Setembre\"],[\"Octubre\",\"Novembre\",\"Dessembre\"]]\n",
    "print(listTrimestre)"
   ]
  },
  {
   "cell_type": "markdown",
   "id": "cc485fc3",
   "metadata": {},
   "source": [
    "## *Exercici 2 Accedir als elements:*\n",
    "* El segon mes del primer trimestre\n",
    "* Els mesos del primer trimestre\n",
    "* Setembre i octubre"
   ]
  },
  {
   "cell_type": "code",
   "execution_count": 4,
   "id": "4838f094",
   "metadata": {},
   "outputs": [
    {
     "name": "stdout",
     "output_type": "stream",
     "text": [
      "Febrer\n"
     ]
    }
   ],
   "source": [
    "print(listTrimestre[0][1])"
   ]
  },
  {
   "cell_type": "code",
   "execution_count": 5,
   "id": "f6076244",
   "metadata": {},
   "outputs": [
    {
     "name": "stdout",
     "output_type": "stream",
     "text": [
      "['Gener', 'Febrer', 'Març']\n"
     ]
    }
   ],
   "source": [
    "print(listTrimestre[0])"
   ]
  },
  {
   "cell_type": "code",
   "execution_count": 12,
   "id": "2db9728b",
   "metadata": {},
   "outputs": [
    {
     "name": "stdout",
     "output_type": "stream",
     "text": [
      "Setembre Novembre\n"
     ]
    }
   ],
   "source": [
    "print(listTrimestre[2][2] + \" \" + listTrimestre[3][1] )"
   ]
  },
  {
   "cell_type": "markdown",
   "id": "bd177f11",
   "metadata": {},
   "source": [
    "## *Exercici 3*\n",
    "**Crea una llista amb nombres desordenats i respon a les següents preguntes:**\n",
    "\n",
    "* Quants números hi ha?\n",
    "* Quantes vegades apareix el número 3\n",
    "* Quantes vegades apareixen els nombres 3 i 4?\n",
    "* Quin és el número més gran?\n",
    "* Quins són els 3 números més petits?\n",
    "* Quin és el rang d’aquesta llista?"
   ]
  },
  {
   "cell_type": "code",
   "execution_count": 50,
   "id": "5a4b919b",
   "metadata": {},
   "outputs": [],
   "source": [
    "listUnorder=[40,4,6,22,3,10,3,97,1,34,7,3,87,4,2,54,3,23,2]"
   ]
  },
  {
   "cell_type": "code",
   "execution_count": 51,
   "id": "8f5ea717",
   "metadata": {},
   "outputs": [
    {
     "name": "stdout",
     "output_type": "stream",
     "text": [
      "Num elements : 19\n"
     ]
    }
   ],
   "source": [
    "print(\"Num elements : \" + str(len(listUnorder)))"
   ]
  },
  {
   "cell_type": "code",
   "execution_count": 125,
   "id": "ee0cb695",
   "metadata": {},
   "outputs": [
    {
     "name": "stdout",
     "output_type": "stream",
     "text": [
      "El nombre de vegades que apareix el 3 es : 4\n"
     ]
    }
   ],
   "source": [
    "contador=0\n",
    "for valor in listUnorder:\n",
    "    if valor==3: contador+=1\n",
    "print (\"El nombre de vegades que apareix el 3 es : \" + str(contador))"
   ]
  },
  {
   "cell_type": "code",
   "execution_count": 129,
   "id": "6df1dd81",
   "metadata": {},
   "outputs": [
    {
     "name": "stdout",
     "output_type": "stream",
     "text": [
      "El nombre 3 apareix 4 vegades \n",
      "El nombre 4 apareix 2 vegades\n"
     ]
    }
   ],
   "source": [
    "contador3=0\n",
    "contador4=0\n",
    "for valor in listUnorder:\n",
    "    if valor==3: contador3+=1 \n",
    "    elif valor==4: contador4+=1\n",
    "\n",
    "print (\"El nombre 3 apareix \"+  str(contador3) + \" vegades \\nEl nombre 4 apareix \"+  str(contador4) + \" vegades\")"
   ]
  },
  {
   "cell_type": "code",
   "execution_count": null,
   "id": "bab883ca",
   "metadata": {},
   "outputs": [],
   "source": []
  },
  {
   "cell_type": "code",
   "execution_count": 130,
   "id": "39e7c229",
   "metadata": {},
   "outputs": [
    {
     "name": "stdout",
     "output_type": "stream",
     "text": [
      "[1, 2, 2, 3, 3, 3, 3, 4, 4, 6, 7, 10, 22, 23, 34, 40, 54, 87, 97]\n",
      " El valor màxim es : 97\n"
     ]
    }
   ],
   "source": [
    "# Ordeno la llista , el màxim serà l'ultim element\n",
    "listUnorder.sort()\n",
    "print(listUnorder)\n",
    "print(\" El valor màxim es : \" +str(listUnorder[len(listUnorder)-1]))"
   ]
  },
  {
   "cell_type": "markdown",
   "id": "776cb193",
   "metadata": {},
   "source": [
    "**Els tres mes petits sense tenir em compte els duplicats**"
   ]
  },
  {
   "cell_type": "code",
   "execution_count": 135,
   "id": "c7deb30a",
   "metadata": {},
   "outputs": [
    {
     "name": "stdout",
     "output_type": "stream",
     "text": [
      "Els tres nombres mes petits son :[1, 2, 3]\n"
     ]
    }
   ],
   "source": [
    "\n",
    "# De la lista ordenada , la recorro i descarto els duplicats \n",
    "# Creo una llista amb el tres menords\n",
    "longitud=len(listUnorder)\n",
    "tresMenors=[]\n",
    "tresMenors.append(listUnorder[0])\n",
    "index=1\n",
    "while index<longitud and len(tresMenors)<3:\n",
    "    if listUnorder[index]!=listUnorder[index-1]:\n",
    "        tresMenors.append(listUnorder[index])\n",
    "    index=index+1\n",
    "\n",
    "print (\"Els tres nombres mes petits son :\" +  str(tresMenors))\n",
    "        \n",
    "    "
   ]
  },
  {
   "cell_type": "code",
   "execution_count": 46,
   "id": "853be50d",
   "metadata": {},
   "outputs": [
    {
     "name": "stdout",
     "output_type": "stream",
     "text": [
      " El rang d'aquesta llista es de : 3 a 97\n"
     ]
    }
   ],
   "source": [
    "print(\" El rang d'aquesta llista es de : \" + str(listUnorder[0]) +  \" a \" + str(listUnorder[len(listUnorder)-1]))"
   ]
  },
  {
   "cell_type": "markdown",
   "id": "8c4d43f5",
   "metadata": {},
   "source": [
    "## Exercici 4\n",
    "**Crea un diccionari de la següent forma i respon a les preguntes:\n",
    "compra = { \"Pomes\" : {\"Qty\": 5, \"€\": 0.42}, \"Peres\" : {\"Qty\": 3, \"€\": 0.66} }**\n",
    "\n",
    "* Afegeix alguna fruita més\n",
    "* Quant han costat les peres en total?\n",
    "* Quantes fruites hem comprat en total?\n",
    "* Quina és la fruita més cara?"
   ]
  },
  {
   "cell_type": "code",
   "execution_count": 103,
   "id": "8905524f",
   "metadata": {},
   "outputs": [],
   "source": [
    "compra = { \"Pomes\" : {\"Qty\": 5, \"€\": 0.42}, \"Peres\" : {\"Qty\": 3, \"€\": 0.66} }"
   ]
  },
  {
   "cell_type": "markdown",
   "id": "0735559d",
   "metadata": {},
   "source": [
    "***Afegeixo Platan i Taronja***"
   ]
  },
  {
   "cell_type": "code",
   "execution_count": 136,
   "id": "c940d049",
   "metadata": {},
   "outputs": [
    {
     "name": "stdout",
     "output_type": "stream",
     "text": [
      "{'Pomes': {'Qty': 5, '€': 0.42}, 'Peres': {'Qty': 3, '€': 0.66}, 'Platan': {'Qty': 12, '€': 1.98}, 'Taronja': {'Qty': 20, '€': 1.1}}\n",
      "{'Pomes': {'Qty': 5, '€': 0.42}, 'Peres': {'Qty': 3, '€': 0.66}, 'Platan': {'Qty': 12, '€': 1.98}, 'Taronja': {'Qty': 20, '€': 1.1}}\n"
     ]
    }
   ],
   "source": [
    "print (compra)\n",
    "compra[\"Platan\"]   = {\"Qty\" :12 , \"€\": 1.98}\n",
    "compra[\"Taronja\"]  = {\"Qty\" :20 , \"€\": 1.1}\n",
    "print (compra)"
   ]
  },
  {
   "cell_type": "code",
   "execution_count": 105,
   "id": "5d3ceabf",
   "metadata": {},
   "outputs": [
    {
     "name": "stdout",
     "output_type": "stream",
     "text": [
      " El cost de les peres es 1.98\n"
     ]
    }
   ],
   "source": [
    "costPeres=compra[\"Peres\"][\"Qty\"]*compra[\"Peres\"][\"€\"]\n",
    "print(\" El cost de les peres es \" + str(costPeres))"
   ]
  },
  {
   "cell_type": "markdown",
   "id": "5df6f8f0",
   "metadata": {},
   "source": [
    "***Itero la llista de compra i vaig sumant les quanttitats***"
   ]
  },
  {
   "cell_type": "code",
   "execution_count": 115,
   "id": "e440a3e0",
   "metadata": {},
   "outputs": [
    {
     "name": "stdout",
     "output_type": "stream",
     "text": [
      " El total de fruites es de  40\n"
     ]
    }
   ],
   "source": [
    "unitatsTotal=0\n",
    "for article in compra:\n",
    "    unitatsTotal=unitatsTotal+compra[article][\"Qty\"]\n",
    "\n",
    "print(\" El total de fruites es de  \" + str(unitatsTotal))"
   ]
  },
  {
   "cell_type": "markdown",
   "id": "53adaece",
   "metadata": {},
   "source": [
    "***itero la llista i vaig agafant el producte que te el preu mes baix***"
   ]
  },
  {
   "cell_type": "code",
   "execution_count": 123,
   "id": "25dd3e9c",
   "metadata": {},
   "outputs": [
    {
     "name": "stdout",
     "output_type": "stream",
     "text": [
      "La fruita mes cara es Platan\n"
     ]
    }
   ],
   "source": [
    "preu=0\n",
    "articleCar={}\n",
    "for article in compra:\n",
    "    if compra[article][\"€\"]> preu:\n",
    "        preu=compra[article][\"€\"]\n",
    "        articleCar=article\n",
    " \n",
    "\n",
    "print(\"La fruita mes cara es \" + articleCar)\n",
    "    "
   ]
  },
  {
   "cell_type": "code",
   "execution_count": null,
   "id": "27977f88",
   "metadata": {},
   "outputs": [],
   "source": []
  }
 ],
 "metadata": {
  "kernelspec": {
   "display_name": "Python 3 (ipykernel)",
   "language": "python",
   "name": "python3"
  },
  "language_info": {
   "codemirror_mode": {
    "name": "ipython",
    "version": 3
   },
   "file_extension": ".py",
   "mimetype": "text/x-python",
   "name": "python",
   "nbconvert_exporter": "python",
   "pygments_lexer": "ipython3",
   "version": "3.9.7"
  }
 },
 "nbformat": 4,
 "nbformat_minor": 5
}
