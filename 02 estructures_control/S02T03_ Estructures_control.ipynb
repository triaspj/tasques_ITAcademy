{
 "cells": [
  {
   "cell_type": "markdown",
   "id": "fa7e8a46",
   "metadata": {},
   "source": [
    "# S2 T03 Estructura de control"
   ]
  },
  {
   "cell_type": "markdown",
   "id": "07820e2a",
   "metadata": {},
   "source": [
    "## Nivell 1\n"
   ]
  },
  {
   "cell_type": "markdown",
   "id": "5a7f2442",
   "metadata": {},
   "source": [
    "### Exercici 1\n",
    "***L'exercici consisteix a crear un programa que et classifiqui una variable numèrica en funció de l’escala Suspès/Aprovat/Notable/Excel·lent.***"
   ]
  },
  {
   "cell_type": "code",
   "execution_count": 45,
   "id": "098d1ece",
   "metadata": {},
   "outputs": [],
   "source": [
    "fiIteracio=False"
   ]
  },
  {
   "cell_type": "code",
   "execution_count": 46,
   "id": "03df44e1",
   "metadata": {
    "scrolled": true
   },
   "outputs": [
    {
     "name": "stdout",
     "output_type": "stream",
     "text": [
      "Nota : 4\n",
      "Suspès\n",
      "Nota : 6\n",
      "Aprovat\n",
      "Nota : 8\n",
      "Notable\n",
      "Nota : 9\n",
      "Excel.lent\n",
      "Nota : 99\n"
     ]
    }
   ],
   "source": [
    "\n",
    "while not fiIteracio:\n",
    "    nota=float(input(\"Nota : \"))\n",
    "    if   nota >=0 and nota < 5: print(\"Suspès\") \n",
    "    elif nota < 7.5: \n",
    "        print(\"Aprovat\")\n",
    "    elif nota < 8.5:\n",
    "        print(\"Notable\")\n",
    "    elif nota < 99:    \n",
    "        print(\"Excel.lent\")\n",
    "    else:\n",
    "        fiIteracio=True\n"
   ]
  },
  {
   "cell_type": "markdown",
   "id": "357f24d5",
   "metadata": {},
   "source": [
    "### Exercici 2\n",
    "***Utilitzant el següent tutorial Programiz: Python Input, Output and Import crea un programa que et pregunti dos números. T’ha de mostrar un missatge dient si el primer és més gran, el segon és més gran o són iguals.***"
   ]
  },
  {
   "cell_type": "code",
   "execution_count": 47,
   "id": "610847c1",
   "metadata": {},
   "outputs": [
    {
     "name": "stdout",
     "output_type": "stream",
     "text": [
      "nombre 1 :10\n",
      "Nombre 2 :4\n"
     ]
    }
   ],
   "source": [
    "num1=int(input(\"nombre 1 :\"))\n",
    "num2=int(input(\"Nombre 2 :\"))"
   ]
  },
  {
   "cell_type": "code",
   "execution_count": 48,
   "id": "4beee4da",
   "metadata": {},
   "outputs": [
    {
     "name": "stdout",
     "output_type": "stream",
     "text": [
      "Nombre 10 es mes gran que el nombre 4\n"
     ]
    }
   ],
   "source": [
    "if num1 > num2:\n",
    "    print( \"Nombre {} es mes gran que el nombre {}\".format(num1,num2)) \n",
    "elif num1 < num2:\n",
    "    print( \"Nombre {} es mes gran que el nombre {}\".format(num2,num1)) \n",
    "else: print(\"El nombres son iguals\")  "
   ]
  },
  {
   "cell_type": "markdown",
   "id": "ea48ffcb",
   "metadata": {},
   "source": [
    "### Exercici 3\n",
    "***Crea un programa que et pregunti el teu nom, i et demani un número. Si el número és 0, hauria de mostrar un missatge d’error. En cas contrari, hauria de mostrar el nom repetit tants cops com indiqui el número. Per exemple, “Joan Joan Joan”.***"
   ]
  },
  {
   "cell_type": "code",
   "execution_count": 49,
   "id": "5a87b0fd",
   "metadata": {},
   "outputs": [
    {
     "name": "stdout",
     "output_type": "stream",
     "text": [
      "Nom : Joanet\n",
      "Repeticions : 3\n",
      " Joanet Joanet Joanet\n"
     ]
    }
   ],
   "source": [
    "nom=input(\"Nom : \")\n",
    "nomrep=\"\"\n",
    "repeticons=int(input(\"Repeticions : \"))\n",
    "for i in range(repeticons):\n",
    "    nomrep=nomrep+\" \"+nom\n",
    "print (nomrep)"
   ]
  },
  {
   "cell_type": "markdown",
   "id": "756b637f",
   "metadata": {},
   "source": [
    "### Exercici 4\n",
    "***Crea un programa que donada una llista qualsevol, et digui si es simètrica o no. Si ho és, que et digui quants elements té.***"
   ]
  },
  {
   "cell_type": "code",
   "execution_count": 50,
   "id": "275c2fa7",
   "metadata": {},
   "outputs": [],
   "source": [
    "#llistaSim=[1,3,5,6,73,5,21,3,5,6,73,5]\n",
    "llistaSim=[1,3,5,6,73,5,5,73,6,5,3,1]\n",
    "tamany=len(llistaSim)\n",
    "meitad=tamany//2\n",
    "esSimetrica=True\n"
   ]
  },
  {
   "cell_type": "code",
   "execution_count": 51,
   "id": "66003ba0",
   "metadata": {},
   "outputs": [],
   "source": [
    "if  tamany %2!=0: # si la llista es imparell no serà simétrica\n",
    "    esSimetrica=False\n",
    "else:\n",
    "    for i in range(meitad):\n",
    "        if llistaSim[i]!=llistaSim[tamany-i-1]:\n",
    "            esSimetrica=False  # nomes comparem la meitat de la llista com a màxim, si un element no es igual sortim\n",
    "            break              # Un buclñe while podria ser mes 'formal'\n"
   ]
  },
  {
   "cell_type": "code",
   "execution_count": 52,
   "id": "8fe9d502",
   "metadata": {},
   "outputs": [
    {
     "name": "stdout",
     "output_type": "stream",
     "text": [
      "La llista [1, 3, 5, 6, 73, 5, 5, 73, 6, 5, 3, 1] es simétrica i te 12 elements\n"
     ]
    }
   ],
   "source": [
    "if not esSimetrica:\n",
    "    print(\"La llista {} no es simétrica\".format(llistaSim))\n",
    "else:\n",
    "    print(\"La llista {} es simétrica i te {} elements\".format(llistaSim,tamany))"
   ]
  },
  {
   "cell_type": "markdown",
   "id": "e51ecc2f",
   "metadata": {},
   "source": [
    "### Exercici 5\n",
    "***Crea un programa que donada una llista, et digui quants números coincideixen amb la seva posició. Per exemple [3,4,2,0,2,3,6] el 2 i el 6 coincideixen.***"
   ]
  },
  {
   "cell_type": "code",
   "execution_count": 53,
   "id": "b43797c0",
   "metadata": {},
   "outputs": [
    {
     "name": "stdout",
     "output_type": "stream",
     "text": [
      "El nombres que coincideixen amb la posicio son [5, 12, 13, 22]\n"
     ]
    }
   ],
   "source": [
    "llistaNum=[1,3,5,6,73,5,21,3,5,6,73,5,12,13,5,6,73,5,5,73,6,5,22,1]\n",
    "llistaRep=[]\n",
    "tamany=len(llistaNum)\n",
    "for i in range(tamany):   #Itero sobre el tamany  de la llista\n",
    "    if i==llistaNum[i]:   #Si el valor de la pisició coincidenix amb la posició la afegeixo a una llista repetits\n",
    "        llistaRep.append(i)\n",
    "\n",
    "print(\"El nombres que coincideixen amb la posicio son {}\".format(llistaRep))\n",
    "\n"
   ]
  },
  {
   "cell_type": "code",
   "execution_count": null,
   "id": "4443aa86",
   "metadata": {},
   "outputs": [],
   "source": []
  }
 ],
 "metadata": {
  "kernelspec": {
   "display_name": "Python 3 (ipykernel)",
   "language": "python",
   "name": "python3"
  },
  "language_info": {
   "codemirror_mode": {
    "name": "ipython",
    "version": 3
   },
   "file_extension": ".py",
   "mimetype": "text/x-python",
   "name": "python",
   "nbconvert_exporter": "python",
   "pygments_lexer": "ipython3",
   "version": "3.9.7"
  }
 },
 "nbformat": 4,
 "nbformat_minor": 5
}
